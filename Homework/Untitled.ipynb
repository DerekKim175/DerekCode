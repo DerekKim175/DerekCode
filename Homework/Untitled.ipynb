{
 "cells": [
  {
   "cell_type": "code",
   "execution_count": 6,
   "metadata": {},
   "outputs": [
    {
     "name": "stdout",
     "output_type": "stream",
     "text": [
      "숫자를 입력하시오:5\n"
     ]
    }
   ],
   "source": [
    "n = input(\"숫자를 입력하시오:\")\n",
    "n=int(n)"
   ]
  },
  {
   "cell_type": "code",
   "execution_count": 12,
   "metadata": {},
   "outputs": [
    {
     "name": "stdout",
     "output_type": "stream",
     "text": [
      "<class 'int'>\n"
     ]
    }
   ],
   "source": [
    "print(type(n))"
   ]
  },
  {
   "cell_type": "code",
   "execution_count": 68,
   "metadata": {},
   "outputs": [
    {
     "name": "stdout",
     "output_type": "stream",
     "text": [
      "숫자를 입력하시오:5\n",
      "숫자를 입력하시오:4\n"
     ]
    }
   ],
   "source": [
    "x = input(\"숫자를 입력하시오:\")\n",
    "x=int(x)\n",
    "y = input(\"숫자를 입력하시오:\")\n",
    "y=int(y)\n",
    "\n",
    "def multiplication(x,y=0): \n",
    "    \n",
    "    for i in range(1,10):\n",
    "        if x == 0:\n",
    "            break\n",
    "        else:\n",
    "            print(\"{}x{}={}\".format(x,i,x*i))\n",
    "        \n",
    "    for m in range(1,10):\n",
    "        if y == 0:\n",
    "            break\n",
    "        else:\n",
    "            print(\"{}x{}={}\".format(y,m,y*m))\n",
    "      \n",
    "        "
   ]
  },
  {
   "cell_type": "code",
   "execution_count": 71,
   "metadata": {},
   "outputs": [
    {
     "name": "stdout",
     "output_type": "stream",
     "text": [
      "5x1=5\n",
      "5x2=10\n",
      "5x3=15\n",
      "5x4=20\n",
      "5x5=25\n",
      "5x6=30\n",
      "5x7=35\n",
      "5x8=40\n",
      "5x9=45\n",
      "4x1=4\n",
      "4x2=8\n",
      "4x3=12\n",
      "4x4=16\n",
      "4x5=20\n",
      "4x6=24\n",
      "4x7=28\n",
      "4x8=32\n",
      "4x9=36\n"
     ]
    }
   ],
   "source": [
    "multiplication(x,y)"
   ]
  },
  {
   "cell_type": "code",
   "execution_count": 21,
   "metadata": {},
   "outputs": [
    {
     "name": "stdout",
     "output_type": "stream",
     "text": [
      "4\n"
     ]
    }
   ],
   "source": [
    "x=2*2\n",
    "print(x)"
   ]
  },
  {
   "cell_type": "code",
   "execution_count": 25,
   "metadata": {},
   "outputs": [
    {
     "ename": "SyntaxError",
     "evalue": "can't assign to operator (<ipython-input-25-52875f2f5842>, line 4)",
     "output_type": "error",
     "traceback": [
      "\u001b[0;36m  File \u001b[0;32m\"<ipython-input-25-52875f2f5842>\"\u001b[0;36m, line \u001b[0;32m4\u001b[0m\n\u001b[0;31m    n*i=result\u001b[0m\n\u001b[0m    ^\u001b[0m\n\u001b[0;31mSyntaxError\u001b[0m\u001b[0;31m:\u001b[0m can't assign to operator\n"
     ]
    }
   ],
   "source": [
    "n=5\n",
    "n=int(n)\n",
    "for i in range(1,10):\n",
    "    n*i=result\n",
    "    print(\"{}x{}={}\".format(n,i,result))"
   ]
  },
  {
   "cell_type": "code",
   "execution_count": 63,
   "metadata": {},
   "outputs": [],
   "source": [
    "def gugu(x,y=0):\n",
    "    if(x==0 or y==0):\n",
    "        if(x==0):\n",
    "            if(y==0):\n",
    "                print('둘 다 0이라 출력 할 수 없습니다.')\n",
    "            else:\n",
    "                print('구구단은 ', y, '만 출력합니다.')\n",
    "                for i in range(1,10):\n",
    "                    print(\"{} X {} = {}\".format(x,i,x*i))\n",
    "        else:\n",
    "            print('구구단은 ', x, '만 출력합니다.')\n",
    "            for i in range(1,10):\n",
    "                print(\"{} X {} = {}\".format(x,i,x*i))\n",
    "    else:\n",
    "        print(x, '단')\n",
    "        for i in range(1,10):\n",
    "            print(\"{} X {} = {}\".format(x,i,x*i))\n",
    "        print()\n",
    "        print(y, '단')\n",
    "        for j in range(1,10):\n",
    "            print(\"{} X {} = {}\".format(y,i,y*i))"
   ]
  },
  {
   "cell_type": "code",
   "execution_count": 74,
   "metadata": {},
   "outputs": [
    {
     "name": "stdout",
     "output_type": "stream",
     "text": [
      "1 단\n",
      "1 X 1 = 1\n",
      "1 X 2 = 2\n",
      "1 X 3 = 3\n",
      "1 X 4 = 4\n",
      "1 X 5 = 5\n",
      "1 X 6 = 6\n",
      "1 X 7 = 7\n",
      "1 X 8 = 8\n",
      "1 X 9 = 9\n",
      "\n",
      "2 단\n",
      "2 X 9 = 18\n",
      "2 X 9 = 18\n",
      "2 X 9 = 18\n",
      "2 X 9 = 18\n",
      "2 X 9 = 18\n",
      "2 X 9 = 18\n",
      "2 X 9 = 18\n",
      "2 X 9 = 18\n",
      "2 X 9 = 18\n"
     ]
    }
   ],
   "source": []
  },
  {
   "cell_type": "code",
   "execution_count": null,
   "metadata": {},
   "outputs": [],
   "source": []
  }
 ],
 "metadata": {
  "kernelspec": {
   "display_name": "Python 3",
   "language": "python",
   "name": "python3"
  },
  "language_info": {
   "codemirror_mode": {
    "name": "ipython",
    "version": 3
   },
   "file_extension": ".py",
   "mimetype": "text/x-python",
   "name": "python",
   "nbconvert_exporter": "python",
   "pygments_lexer": "ipython3",
   "version": "3.7.4"
  }
 },
 "nbformat": 4,
 "nbformat_minor": 2
}
