{
 "cells": [
  {
   "cell_type": "code",
   "execution_count": 6,
   "metadata": {},
   "outputs": [
    {
     "name": "stdout",
     "output_type": "stream",
     "text": [
      "숫자를 입력하시오:5\n"
     ]
    }
   ],
   "source": [
    "n = input(\"숫자를 입력하시오:\")\n",
    "n=int(n)"
   ]
  },
  {
   "cell_type": "code",
   "execution_count": 12,
   "metadata": {},
   "outputs": [
    {
     "name": "stdout",
     "output_type": "stream",
     "text": [
      "<class 'int'>\n"
     ]
    }
   ],
   "source": [
    "print(type(n))"
   ]
  },
  {
   "cell_type": "code",
   "execution_count": 68,
   "metadata": {},
   "outputs": [
    {
     "name": "stdout",
     "output_type": "stream",
     "text": [
      "숫자를 입력하시오:5\n",
      "숫자를 입력하시오:4\n"
     ]
    }
   ],
   "source": [
    "x = input(\"숫자를 입력하시오:\")\n",
    "x=int(x)\n",
    "y = input(\"숫자를 입력하시오:\")\n",
    "y=int(y)\n",
    "\n",
    "def multiplication(x,y=0): \n",
    "    \n",
    "    for i in range(1,10):\n",
    "        if x == 0:\n",
    "            break\n",
    "        else:\n",
    "            print(\"{}x{}={}\".format(x,i,x*i))\n",
    "        \n",
    "    for m in range(1,10):\n",
    "        if y == 0:\n",
    "            break\n",
    "        else:\n",
    "            print(\"{}x{}={}\".format(y,m,y*m))\n",
    "      \n",
    "        "
   ]
  },
  {
   "cell_type": "code",
   "execution_count": 71,
   "metadata": {},
   "outputs": [
    {
     "name": "stdout",
     "output_type": "stream",
     "text": [
      "5x1=5\n",
      "5x2=10\n",
      "5x3=15\n",
      "5x4=20\n",
      "5x5=25\n",
      "5x6=30\n",
      "5x7=35\n",
      "5x8=40\n",
      "5x9=45\n",
      "4x1=4\n",
      "4x2=8\n",
      "4x3=12\n",
      "4x4=16\n",
      "4x5=20\n",
      "4x6=24\n",
      "4x7=28\n",
      "4x8=32\n",
      "4x9=36\n"
     ]
    }
   ],
   "source": [
    "multiplication(x,y)"
   ]
  },
  {
   "cell_type": "code",
   "execution_count": 21,
   "metadata": {},
   "outputs": [
    {
     "name": "stdout",
     "output_type": "stream",
     "text": [
      "4\n"
     ]
    }
   ],
   "source": [
    "x=2*2\n",
    "print(x)"
   ]
  },
  {
   "cell_type": "code",
   "execution_count": 25,
   "metadata": {},
   "outputs": [
    {
     "ename": "SyntaxError",
     "evalue": "can't assign to operator (<ipython-input-25-52875f2f5842>, line 4)",
     "output_type": "error",
     "traceback": [
      "\u001b[0;36m  File \u001b[0;32m\"<ipython-input-25-52875f2f5842>\"\u001b[0;36m, line \u001b[0;32m4\u001b[0m\n\u001b[0;31m    n*i=result\u001b[0m\n\u001b[0m    ^\u001b[0m\n\u001b[0;31mSyntaxError\u001b[0m\u001b[0;31m:\u001b[0m can't assign to operator\n"
     ]
    }
   ],
   "source": [
    "n=5\n",
    "n=int(n)\n",
    "for i in range(1,10):\n",
    "    n*i=result\n",
    "    print(\"{}x{}={}\".format(n,i,result))"
   ]
  },
  {
   "cell_type": "code",
   "execution_count": 38,
   "metadata": {},
   "outputs": [],
   "source": [
    "def gugu(x,y=0):\n",
    "    if(x==0 or y==0):\n",
    "        if(x==0):\n",
    "            if(y==0):\n",
    "                print('둘 다 0이라 출력 할 수 없습니다.')\n",
    "            else:\n",
    "                print('구구단은 ', y, '만 출력합니다.')\n",
    "                for i in range(1,10):\n",
    "                    print(\"{} X {} = {}\".format(x,i,x*i))\n",
    "        else:\n",
    "            print('구구단은 ', x, '만 출력합니다.')\n",
    "            for i in range(1,10):\n",
    "                print(\"{} X {} = {}\".format(x,i,x*i))\n",
    "    else:\n",
    "        print(x, '단')\n",
    "        for i in range(1,10):\n",
    "            print(\"{} X {} = {}\".format(x,i,x*i))\n",
    "        print()\n",
    "        print(y, '단')\n",
    "        for j in range(1,10):\n",
    "            print(\"{} X {} = {}\".format(y,j,y*j))"
   ]
  },
  {
   "cell_type": "code",
   "execution_count": 39,
   "metadata": {
    "scrolled": true
   },
   "outputs": [
    {
     "name": "stdout",
     "output_type": "stream",
     "text": [
      "1 단\n",
      "1 X 1 = 1\n",
      "1 X 2 = 2\n",
      "1 X 3 = 3\n",
      "1 X 4 = 4\n",
      "1 X 5 = 5\n",
      "1 X 6 = 6\n",
      "1 X 7 = 7\n",
      "1 X 8 = 8\n",
      "1 X 9 = 9\n",
      "\n",
      "2 단\n",
      "2 X 1 = 2\n",
      "2 X 2 = 4\n",
      "2 X 3 = 6\n",
      "2 X 4 = 8\n",
      "2 X 5 = 10\n",
      "2 X 6 = 12\n",
      "2 X 7 = 14\n",
      "2 X 8 = 16\n",
      "2 X 9 = 18\n"
     ]
    }
   ],
   "source": [
    "gugu(1,2)"
   ]
  },
  {
   "cell_type": "code",
   "execution_count": 28,
   "metadata": {},
   "outputs": [],
   "source": [
    "def course():   \n",
    "    y = input(\"과목을 입력하세요:\")\n",
    "    return y\n",
    "\n",
    "def grade():\n",
    "    x = input(\"점수를 입력하세요:\")\n",
    "    return int(x)"
   ]
  },
  {
   "cell_type": "code",
   "execution_count": 36,
   "metadata": {},
   "outputs": [],
   "source": [
    "def letter_grade(y,x):\n",
    "    \n",
    "    if (y == \"과학\" or y == \"수학\" or y == \"영어\"):\n",
    "        \n",
    "        if (x >= 0 and x <=100):    \n",
    "\n",
    "            if (x > 90 and x <= 100):\n",
    "                print(\"{}점수는 A등급입니다\".format(y))\n",
    "\n",
    "            elif (x <= 90 and x > 80):\n",
    "                print(\"{}점수는 B등급입니다\".format(y))\n",
    "\n",
    "            elif (x <= 80 and x > 70):\n",
    "                print(\"{}점수는 C등급입니다\".format(y))\n",
    "\n",
    "            elif (x <= 70 and x > 60):\n",
    "                print(\"{}점수는 D등급입니다\".format(y))\n",
    "\n",
    "            else:\n",
    "                print(\"{}점수는 F등급입니다\".format(y)) \n",
    "\n",
    "        else:\n",
    "            print(\"Invalid Grade\")\n",
    "            \n",
    "    else:\n",
    "        print(\"Invalid Course\")\n",
    "    \n",
    "    \n",
    "\n",
    "\n"
   ]
  },
  {
   "cell_type": "code",
   "execution_count": 35,
   "metadata": {},
   "outputs": [
    {
     "name": "stdout",
     "output_type": "stream",
     "text": [
      "과목을 입력하세요:과학\n",
      "점수를 입력하세요:85\n",
      "과학점수는 B등급입니다\n"
     ]
    }
   ],
   "source": [
    "letter_grade(course(),grade())"
   ]
  },
  {
   "cell_type": "code",
   "execution_count": 24,
   "metadata": {},
   "outputs": [],
   "source": [
    "def example():\n",
    "    p = input(\"아무거나:\")\n",
    "    return p"
   ]
  },
  {
   "cell_type": "code",
   "execution_count": 25,
   "metadata": {},
   "outputs": [
    {
     "name": "stdout",
     "output_type": "stream",
     "text": [
      "아무거나:987\n",
      "987\n"
     ]
    }
   ],
   "source": [
    "print(example())"
   ]
  },
  {
   "cell_type": "code",
   "execution_count": 26,
   "metadata": {},
   "outputs": [
    {
     "name": "stdout",
     "output_type": "stream",
     "text": [
      "아무거나:123\n"
     ]
    }
   ],
   "source": [
    "a = example()"
   ]
  },
  {
   "cell_type": "markdown",
   "metadata": {},
   "source": [
    "## 숙제\n",
    "  1. 함수의 정의\n",
    "  2. 전역, 지역변수의 차이\n",
    "  3. 함수의 매게변수란,기본매게변수란?\n",
    "  4. 함수의 리턴(`return`)\n",
    "  \n",
    "  1. 계산기를 만들기\n",
    "    * 두개의수와 연산자\n",
    "    * 함수써서 만들기\n",
    "    * ex) x = 2, y = 4, 연산자 = + , result = 6"
   ]
  }
 ],
 "metadata": {
  "kernelspec": {
   "display_name": "Python 3",
   "language": "python",
   "name": "python3"
  },
  "language_info": {
   "codemirror_mode": {
    "name": "ipython",
    "version": 3
   },
   "file_extension": ".py",
   "mimetype": "text/x-python",
   "name": "python",
   "nbconvert_exporter": "python",
   "pygments_lexer": "ipython3",
   "version": "3.7.4"
  }
 },
 "nbformat": 4,
 "nbformat_minor": 2
}
