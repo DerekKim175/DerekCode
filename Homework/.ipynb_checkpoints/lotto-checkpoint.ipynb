{
 "cells": [
  {
   "cell_type": "markdown",
   "metadata": {},
   "source": [
    "# 1. 모듈에 대해 설명하세요\n",
    "\n",
    "- 모듈의 정의\n",
    "- 모듈의 종류\n",
    "- 모듈의 사용방법\n",
    "- 간단한 모듈 사용 예제 최소 3개"
   ]
  },
  {
   "cell_type": "markdown",
   "metadata": {},
   "source": [
    "# 2. random 모듈을 사용하여 로또 생성기 만들기\n",
    "\n",
    "- 로또 생성기를 만들기 위한 순서도 (내가 이렇게 만들겠다 라는 그림)와 함께 설명 추가\n",
    "- 중복 제거 하는 방법 설명\n",
    "- 로또 생성기 버전 최소 5개 (각각 다른 방법으로)\n"
   ]
  },
  {
   "cell_type": "markdown",
   "metadata": {},
   "source": [
    "# 3. 이번 주 로또 번호와 비교하여 내가 만든 로또 번호 생성기가 몇 번만에 1등에 당첨되는지?\n",
    "\n",
    "- 1등은 6개가 다 맞아야하기 때문에, ~~~ 방법으로 해야한다 (순서도와 함께 설명)\n",
    "- 시간이 된다면, 2등,3등,4등,5등도 "
   ]
  },
  {
   "cell_type": "code",
   "execution_count": null,
   "metadata": {},
   "outputs": [],
   "source": [
    "\n"
   ]
  }
 ],
 "metadata": {
  "kernelspec": {
   "display_name": "Python 3",
   "language": "python",
   "name": "python3"
  },
  "language_info": {
   "codemirror_mode": {
    "name": "ipython",
    "version": 3
   },
   "file_extension": ".py",
   "mimetype": "text/x-python",
   "name": "python",
   "nbconvert_exporter": "python",
   "pygments_lexer": "ipython3",
   "version": "3.7.4"
  }
 },
 "nbformat": 4,
 "nbformat_minor": 2
}
