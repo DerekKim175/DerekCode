{
 "cells": [
  {
   "cell_type": "markdown",
   "metadata": {},
   "source": [
    "## 조건문\n",
    "  1. `if` \n",
    "      * 조건이 성립되면 실행되는 코드이다\n",
    "      * `if <random>`에서 random = True이면 조건문이 실행된다\n",
    "      * 반대로 random = False이면 조건문을 무시하고 다음 코드가 실행된다\n",
    "      * `if` 조건문에는 끝에 반드시 : 가 필요하다\n",
    "          * ex) `if <random>:`\n",
    "  2. "
   ]
  },
  {
   "cell_type": "code",
   "execution_count": null,
   "metadata": {},
   "outputs": [],
   "source": []
  },
  {
   "cell_type": "code",
   "execution_count": null,
   "metadata": {},
   "outputs": [],
   "source": []
  }
 ],
 "metadata": {
  "kernelspec": {
   "display_name": "Python 3",
   "language": "python",
   "name": "python3"
  },
  "language_info": {
   "codemirror_mode": {
    "name": "ipython",
    "version": 3
   },
   "file_extension": ".py",
   "mimetype": "text/x-python",
   "name": "python",
   "nbconvert_exporter": "python",
   "pygments_lexer": "ipython3",
   "version": "3.7.4"
  }
 },
 "nbformat": 4,
 "nbformat_minor": 2
}
