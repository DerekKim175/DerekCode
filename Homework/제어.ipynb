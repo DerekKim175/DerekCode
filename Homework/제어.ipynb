{
 "cells": [
  {
   "cell_type": "markdown",
   "metadata": {},
   "source": [
    "# 조건문에 대해 설명하세요. (최대한 상세하게)\n",
    " - if\n",
    " - if, else\n",
    " - if, elif, else"
   ]
  },
  {
   "cell_type": "markdown",
   "metadata": {},
   "source": [
    "# 반복문에 대해 설명하세요.\n",
    "- for\n",
    "- while\n"
   ]
  },
  {
   "cell_type": "markdown",
   "metadata": {},
   "source": [
    "# 1. 임의의 숫자 1개를 입력 받고, 입력 받은 숫자의 구구단을 출력하는 프로그램을 작성하세요.\n"
   ]
  },
  {
   "cell_type": "markdown",
   "metadata": {},
   "source": [
    "# 2. 1부터 100까지 숫자 중에 홀수만 출력하는 프로그램을 작성ㅎ"
   ]
  }
 ],
 "metadata": {
  "kernelspec": {
   "display_name": "Python 3",
   "language": "python",
   "name": "python3"
  },
  "language_info": {
   "codemirror_mode": {
    "name": "ipython",
    "version": 3
   },
   "file_extension": ".py",
   "mimetype": "text/x-python",
   "name": "python",
   "nbconvert_exporter": "python",
   "pygments_lexer": "ipython3",
   "version": "3.7.4"
  }
 },
 "nbformat": 4,
 "nbformat_minor": 2
}
