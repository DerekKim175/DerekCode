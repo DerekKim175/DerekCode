{
 "cells": [
  {
   "cell_type": "markdown",
   "metadata": {},
   "source": [
    "# module\n",
    "1. 사용자의 표준 모듈\n",
    "  * 파이썬이 __미리__ 만들어준 모듈, 기본적인것들로 배우는게 우선순위이다\n",
    "  * 함수, 클래쓰, 예외처리, 상속, 등등 다 __기본적인 모듈이고__, 더 자세한거는 코딩을 __편하게하기__ 위해서 쓴다\n",
    "  * 필수 문번: 자료형, 시별자의 조건, 제어문, 연산자들, etc. \n",
    "  * 모듈의 단위는 .py, 파이썬의 파일\n",
    "  \n",
    "  \n",
    "2. 사용자가 만든 모듈\n",
    "  * 불러오는 **조건**: 실행되는 같은 경로에 있으면 찾을수있음\n",
    "  * 정확한 경로를 알려주면 찾을수있음\n",
    "  * 표준 모듈이랑 같이있으면 불러올수있음\n",
    " \n",
    "\n",
    "3. 다른사람들이 만든 외부 모듈"
   ]
  },
  {
   "cell_type": "code",
   "execution_count": null,
   "metadata": {},
   "outputs": [],
   "source": []
  },
  {
   "cell_type": "code",
   "execution_count": 2,
   "metadata": {},
   "outputs": [],
   "source": [
    "import random"
   ]
  },
  {
   "cell_type": "markdown",
   "metadata": {},
   "source": [
    "# 로또 생성기 \n",
    "1. 숫자 6개를 만든다\n",
    "2. 그 숫자를 리스트 안에다가 넣은다\n",
    "3. 만약에 리스트 안에 반복되는 숫자가 있으면 다시 1번으로\n",
    "4. 리스트안에 반복되지 않은 숫자 6개가 있을때까지 반복\n",
    "5. 다 끝나면 6개의 숫자를 프린트\n",
    "\n",
    "# 중복숫자 제거하는 방법\n",
    "1. count를 써서 2가 되면 break\n",
    "2. 리스트를 set으로 만들고 다시 리스트로 만들어거 len이 6이면 break"
   ]
  },
  {
   "cell_type": "code",
   "execution_count": null,
   "metadata": {},
   "outputs": [],
   "source": []
  },
  {
   "cell_type": "code",
   "execution_count": 40,
   "metadata": {},
   "outputs": [
    {
     "name": "stdout",
     "output_type": "stream",
     "text": [
      "[37, 13, 29, 11, 2, 39]\n"
     ]
    }
   ],
   "source": [
    "while True:\n",
    "#무한 반복코드\n",
    "    x = []\n",
    "    #blank list\n",
    "    \n",
    "    for i in range(6):\n",
    "        #repeat i 6 times\n",
    "        \n",
    "        y = (random.randint(1,45))\n",
    "        #give a random value to variable y\n",
    "        \n",
    "        x.append(y)\n",
    "        #put the random value into the list\n",
    "        \n",
    "        if x.count(y) == 2:\n",
    "        #if there are two y values, break\n",
    "        \n",
    "            x.remove(y)\n",
    "            #remove the y value from the list x\n",
    "            break\n",
    "            \n",
    "    if len(x) == 6:\n",
    "        #if the length of x is 6, print x\n",
    "        print(x)\n",
    "        break\n",
    "            "
   ]
  },
  {
   "cell_type": "code",
   "execution_count": 9,
   "metadata": {},
   "outputs": [
    {
     "name": "stdout",
     "output_type": "stream",
     "text": [
      "[5, 39, 43, 44, 21, 30]\n"
     ]
    }
   ],
   "source": [
    "while True:\n",
    "    #infinite loop\n",
    "    \n",
    "    x=[]\n",
    "    #blank list \n",
    "    \n",
    "    for i in range(6):\n",
    "        # repeat 6 times\n",
    "        \n",
    "        y = (random.randint(1,45))\n",
    "        #random int for y\n",
    "        \n",
    "        x.append(y)\n",
    "        #input y into the list\n",
    "        \n",
    "    x=set(x)\n",
    "    #change x into set in order to prevent repeated numbers\n",
    "    \n",
    "    x=list(x)\n",
    "    #change back to list\n",
    "    \n",
    "    if len(x)==6:\n",
    "        #the length of the list should be 6\n",
    "        \n",
    "        print(x)\n",
    "        break"
   ]
  },
  {
   "cell_type": "code",
   "execution_count": 51,
   "metadata": {},
   "outputs": [
    {
     "name": "stdout",
     "output_type": "stream",
     "text": [
      "[1, 5, 10, 20, 37, 41]\n"
     ]
    }
   ],
   "source": [
    "x=[]\n",
    "#blank list\n",
    "\n",
    "for i in range(99999999):\n",
    "    #max the range similar to infinite loop\n",
    "    \n",
    "    y=(random.randint(1,45))\n",
    "    #give random value to y\n",
    "    \n",
    "    x.append(y)\n",
    "    #input the y value into the blank list\n",
    "    \n",
    "    x=set(x)\n",
    "    #make x into set to prevent repeated numbers\n",
    "    \n",
    "    x=list(x)\n",
    "    #change it back to list\n",
    "    \n",
    "    if x.count(y)== 2:\n",
    "        #if there are two same numbers...\n",
    "        \n",
    "        x.remove(y)\n",
    "        #remove the y\n",
    "        \n",
    "    if len(x)==6:\n",
    "        #if the length of x is 6....\n",
    "        \n",
    "        x=sorted(x)\n",
    "        #sort x\n",
    "        \n",
    "        print(x)\n",
    "        break\n",
    "\n",
    "        "
   ]
  },
  {
   "cell_type": "code",
   "execution_count": null,
   "metadata": {},
   "outputs": [],
   "source": []
  }
 ],
 "metadata": {
  "kernelspec": {
   "display_name": "Python 3",
   "language": "python",
   "name": "python3"
  },
  "language_info": {
   "codemirror_mode": {
    "name": "ipython",
    "version": 3
   },
   "file_extension": ".py",
   "mimetype": "text/x-python",
   "name": "python",
   "nbconvert_exporter": "python",
   "pygments_lexer": "ipython3",
   "version": "3.7.4"
  }
 },
 "nbformat": 4,
 "nbformat_minor": 2
}
