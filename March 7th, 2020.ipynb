{
 "cells": [
  {
   "cell_type": "markdown",
   "metadata": {},
   "source": [
    "1. 전역변수\n",
    "  * 전 지역, 파이썬을 실행하면 **전체** 부분에서 사용가능\n",
    "2. 지역변수\n",
    "  * **해당 지역**에서만 사용 가능한 변수\n"
   ]
  },
  {
   "cell_type": "markdown",
   "metadata": {},
   "source": [
    "- 함수\n",
    "  * 자주 사용되는 것들을 함수로 사용할수있다\n",
    "  * 함수를 **부르기 전에** 기능은 사용못한다"
   ]
  },
  {
   "cell_type": "markdown",
   "metadata": {},
   "source": [
    "- 예시\n",
    "  * **전역변수**\n",
    "    * 리그에서 스펠은 칼바람, 협곡에서 다 쓸수있다\n",
    "  * **지역변수**\n",
    "    * 각 챔피언의 스킬\n",
    "    \n",
    "    \n",
    "- 지역변수랑 전역변수를 나눈 이유\n",
    "  * 예전의 컴퓨터는 성능이 안좋았서, 용량을 **최소한**으로 쓸려고 나눴다."
   ]
  },
  {
   "cell_type": "code",
   "execution_count": 11,
   "metadata": {},
   "outputs": [
    {
     "name": "stdout",
     "output_type": "stream",
     "text": [
      "aaa\n",
      "abc\n"
     ]
    }
   ],
   "source": [
    "a = \"abc\"\n",
    "\n",
    "def func():\n",
    "    a = \"aaa\"\n",
    "    print(a)\n",
    "    \n",
    "func()\n",
    "print(a)"
   ]
  },
  {
   "cell_type": "code",
   "execution_count": 12,
   "metadata": {},
   "outputs": [
    {
     "name": "stdout",
     "output_type": "stream",
     "text": [
      "[1, 0, 3]\n",
      "[1, 0, 3]\n"
     ]
    }
   ],
   "source": [
    "a = [1,2,3]\n",
    "\n",
    "def func():\n",
    "    a[1] = 0\n",
    "    # 리스트안에 있는 값을바꾸는 거라서 함수가 끝나도 리스트는 바껴있다. \n",
    "    print(a)\n",
    "    \n",
    "func()\n",
    "print(a)"
   ]
  },
  {
   "cell_type": "code",
   "execution_count": 13,
   "metadata": {},
   "outputs": [
    {
     "name": "stdout",
     "output_type": "stream",
     "text": [
      "[4, 5, 6]\n",
      "[1, 2, 3]\n"
     ]
    }
   ],
   "source": [
    "a = [1,2,3]\n",
    "\n",
    "def func():\n",
    "    a = [4,5,6]\n",
    "    # 값 자체를 바꾸는 거라서 함수가 끝나면 전역변수를 쓴다.\n",
    "    print(a)\n",
    "    \n",
    "func()\n",
    "print(a)"
   ]
  },
  {
   "cell_type": "code",
   "execution_count": 14,
   "metadata": {},
   "outputs": [],
   "source": [
    "# a = 1이라고 하면 집주소를 알려주는거랑 비슷한 원리다\n",
    "# a = 2라고 바꾸면 a한테 원래 주소를 지우고 새로운 집주소를 알려주는거랑 비슷하다."
   ]
  },
  {
   "cell_type": "markdown",
   "metadata": {},
   "source": [
    "- 매개변수\n",
    "  * 함수의 **결과를 바꿀수**있는 변수\n",
    "  * 매개 --> **연결**\n",
    "  * 함수안에서 사용할수있도록 연결해주는 변수"
   ]
  },
  {
   "cell_type": "code",
   "execution_count": 15,
   "metadata": {},
   "outputs": [],
   "source": [
    "#예시\n",
    "def func(a):\n",
    "    print(a)\n",
    "    "
   ]
  },
  {
   "cell_type": "code",
   "execution_count": 16,
   "metadata": {},
   "outputs": [
    {
     "name": "stdout",
     "output_type": "stream",
     "text": [
      "2\n",
      "5\n"
     ]
    }
   ],
   "source": [
    "func(2)\n",
    "#2를 넣으면 2가 나온다\n",
    "func(5)\n",
    "#5를 넣으면 5가 나온다"
   ]
  }
 ],
 "metadata": {
  "kernelspec": {
   "display_name": "Python 3",
   "language": "python",
   "name": "python3"
  },
  "language_info": {
   "codemirror_mode": {
    "name": "ipython",
    "version": 3
   },
   "file_extension": ".py",
   "mimetype": "text/x-python",
   "name": "python",
   "nbconvert_exporter": "python",
   "pygments_lexer": "ipython3",
   "version": "3.7.4"
  }
 },
 "nbformat": 4,
 "nbformat_minor": 2
}
