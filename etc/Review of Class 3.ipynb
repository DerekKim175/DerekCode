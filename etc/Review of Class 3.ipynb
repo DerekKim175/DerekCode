{
 "cells": [
  {
   "cell_type": "code",
   "execution_count": 36,
   "metadata": {},
   "outputs": [],
   "source": [
    "#자료형의 종류 \n",
    "\n",
    "#첫 번째 기준 (개수)\n",
    "#값이 하나인 것, 값이 여러 개인것\n",
    "\n",
    "#변경 가능, 불가능\n",
    "#리스트, 튜플, 문자열\n"
   ]
  },
  {
   "cell_type": "code",
   "execution_count": 2,
   "metadata": {},
   "outputs": [
    {
     "name": "stdout",
     "output_type": "stream",
     "text": [
      "abc\n"
     ]
    }
   ],
   "source": [
    "#문자열 자료형\n",
    "#순서가 있는 문자들의 집합\n",
    "# 따옴표로 정의\n",
    "#문자 하나하나는 값 변경 불가능\n",
    "\n",
    "a='abc'\n",
    "print(a)"
   ]
  },
  {
   "cell_type": "code",
   "execution_count": 3,
   "metadata": {},
   "outputs": [
    {
     "name": "stdout",
     "output_type": "stream",
     "text": [
      "b\n",
      "c\n"
     ]
    }
   ],
   "source": [
    "#인덱싱 (선택)\n",
    "\n",
    "print(a[1])\n",
    "print(a[2])"
   ]
  },
  {
   "cell_type": "code",
   "execution_count": 10,
   "metadata": {},
   "outputs": [
    {
     "name": "stdout",
     "output_type": "stream",
     "text": [
      "acegik\n",
      "abcdefghijklmnopqrstuvwxyz\n",
      "ABCDEFGHIJKLMNOPQRSTUVWXYZ\n"
     ]
    }
   ],
   "source": [
    "#슬라이싱 (범의 선택, 이상 : 미만 : 스텝)\n",
    "#print(a[0:11:2])\n",
    "\n",
    "a='abcdefghijklmnopqrstuvwxyz'\n",
    "print(a[0:11:2])\n",
    "print(a)\n",
    "print(a.upper())"
   ]
  },
  {
   "cell_type": "code",
   "execution_count": 12,
   "metadata": {},
   "outputs": [
    {
     "name": "stdout",
     "output_type": "stream",
     "text": [
      "123456\n",
      "579\n"
     ]
    }
   ],
   "source": [
    "a='123'\n",
    "b='456'\n",
    "print(a+b)\n",
    "\n",
    "a=123\n",
    "b=456\n",
    "print(a+b)"
   ]
  },
  {
   "cell_type": "code",
   "execution_count": 18,
   "metadata": {},
   "outputs": [
    {
     "name": "stdout",
     "output_type": "stream",
     "text": [
      "Hello \n",
      "My \n",
      "Name \n",
      "Is \n",
      "Derek\n",
      "Hello \n",
      "I \n",
      "Am \n",
      "Derek\n"
     ]
    }
   ],
   "source": [
    "#여러줄 출력('''''')\n",
    "a='''Hello \n",
    "My \n",
    "Name \n",
    "Is \n",
    "Derek'''\n",
    "print(a)\n",
    "\n",
    "#여러줄 출력\n",
    "a='Hello \\nI \\nAm \\nDerek'\n",
    "print(a)"
   ]
  },
  {
   "cell_type": "code",
   "execution_count": 19,
   "metadata": {},
   "outputs": [
    {
     "name": "stdout",
     "output_type": "stream",
     "text": [
      "'안녕하세요'\n",
      "'안녕하세요'\n"
     ]
    }
   ],
   "source": [
    "# '안녕하세요'\n",
    "a=\"'안녕하세요'\"\n",
    "print(a)\n",
    "\n",
    "a='\\'안녕하세요\\''\n",
    "print(a)"
   ]
  },
  {
   "cell_type": "code",
   "execution_count": 21,
   "metadata": {},
   "outputs": [
    {
     "name": "stdout",
     "output_type": "stream",
     "text": [
      "[1, 2, 3, 4]\n",
      "1\n"
     ]
    }
   ],
   "source": [
    "#리스트 (목록, 배열)\n",
    "#순서가 있는 집합(배열) 자료형\n",
    "#대괄호로 정의\n",
    "\n",
    "a = [1,2,3,4]\n",
    "print(a)\n",
    "print(a[0])"
   ]
  },
  {
   "cell_type": "code",
   "execution_count": 22,
   "metadata": {},
   "outputs": [
    {
     "name": "stdout",
     "output_type": "stream",
     "text": [
      "['1', 1, '문자', '234', 235]\n",
      "문자\n"
     ]
    }
   ],
   "source": [
    "a = ['1',1,'문자','234',235]\n",
    "print(a)\n",
    "print(a[2])"
   ]
  },
  {
   "cell_type": "code",
   "execution_count": 23,
   "metadata": {},
   "outputs": [
    {
     "name": "stdout",
     "output_type": "stream",
     "text": [
      "[[1, 2, 3], [4, 5, 6], [7, 8, 9]]\n",
      "[4, 5, 6]\n",
      "5\n",
      "5\n"
     ]
    }
   ],
   "source": [
    "a = [[1,2,3],[4,5,6],[7,8,9]]\n",
    "b = a[1]\n",
    "\n",
    "print(a)\n",
    "print(b)\n",
    "print(b[1])\n",
    "print(a[1][1])"
   ]
  },
  {
   "cell_type": "code",
   "execution_count": 24,
   "metadata": {},
   "outputs": [
    {
     "name": "stdout",
     "output_type": "stream",
     "text": [
      "[[1, 2, 3], [4, 5, 6], [7, 8, 9]]\n",
      "[10, 11, 12]\n"
     ]
    }
   ],
   "source": [
    "a = [[[1,2,3],[4,5,6],[7,8,9]],[[10,11,12],[13,14,15],[16,17,18]]]\n",
    "print(a[0])\n",
    "print(a[1][0][0:3])"
   ]
  },
  {
   "cell_type": "code",
   "execution_count": 26,
   "metadata": {},
   "outputs": [
    {
     "name": "stdout",
     "output_type": "stream",
     "text": [
      "[1, 2, 3]\n",
      "[5, 2, 3]\n"
     ]
    }
   ],
   "source": [
    "#can substitute\n",
    "a = [1,2,3]\n",
    "print(a)\n",
    "a[0] = 5\n",
    "print(a)"
   ]
  },
  {
   "cell_type": "code",
   "execution_count": 28,
   "metadata": {},
   "outputs": [
    {
     "name": "stdout",
     "output_type": "stream",
     "text": [
      "(1, 2, 3, 4)\n",
      "('1', 1, 'abc', 345)\n",
      "5\n"
     ]
    }
   ],
   "source": [
    "#튜플 자료형 (순서가 있는 배열, 목록 집합 자료형 )\n",
    "#리스트와 바슷\n",
    "#소괄호로 정의\n",
    "\n",
    "a = (1,2,3,4)\n",
    "print(a)\n",
    "\n",
    "a = ('1',1,'abc',345)\n",
    "print(a)\n",
    "\n",
    "a = ((1,2,3),(4,5,6))\n",
    "print(a[1][1])"
   ]
  },
  {
   "cell_type": "code",
   "execution_count": 29,
   "metadata": {},
   "outputs": [
    {
     "name": "stdout",
     "output_type": "stream",
     "text": [
      "{'key': 'value', 1: 2, 'a': 23}\n",
      "23\n",
      "value\n"
     ]
    }
   ],
   "source": [
    "#사전(dict) 자료형, 순서가 없다 대신 키와 값으로 이뤄져있다\n",
    "#중괄호로 정의\n",
    "\n",
    "d = {'key': 'value',1:2,\"a\":23}\n",
    "print(d)\n",
    "print(d['a'])\n",
    "print(d['key'])\n"
   ]
  },
  {
   "cell_type": "code",
   "execution_count": 30,
   "metadata": {},
   "outputs": [
    {
     "name": "stdout",
     "output_type": "stream",
     "text": [
      "{'a': ['apple', 'april', 'ace', '...'], 'b': 1231434}\n",
      "['apple', 'april', 'ace', '...']\n"
     ]
    }
   ],
   "source": [
    "d = {'a' : ['apple','april','ace','...'],'b':1231434}\n",
    "print(d)\n",
    "print(d['a'])"
   ]
  },
  {
   "cell_type": "code",
   "execution_count": 31,
   "metadata": {},
   "outputs": [
    {
     "name": "stdout",
     "output_type": "stream",
     "text": [
      "{1: 1}\n",
      "1\n",
      "{'1': 1}\n",
      "1\n"
     ]
    }
   ],
   "source": [
    "d = {1 : 1}\n",
    "print(d)\n",
    "print(d[1])\n",
    "\n",
    "d = {\"1\" : 1}\n",
    "print(d)\n",
    "print(d[\"1\"])"
   ]
  },
  {
   "cell_type": "code",
   "execution_count": 32,
   "metadata": {},
   "outputs": [
    {
     "name": "stdout",
     "output_type": "stream",
     "text": [
      "{(1, 2, 3): 1}\n"
     ]
    }
   ],
   "source": [
    "d = {(1,2,3) : 1}\n",
    "print(d)"
   ]
  },
  {
   "cell_type": "code",
   "execution_count": 34,
   "metadata": {},
   "outputs": [
    {
     "name": "stdout",
     "output_type": "stream",
     "text": [
      "{1, 2, 3, 4, 5, 6}\n"
     ]
    },
    {
     "ename": "TypeError",
     "evalue": "'set' object is not subscriptable",
     "output_type": "error",
     "traceback": [
      "\u001b[0;31m---------------------------------------------------------------------------\u001b[0m",
      "\u001b[0;31mTypeError\u001b[0m                                 Traceback (most recent call last)",
      "\u001b[0;32m<ipython-input-34-3a5f63ba4947>\u001b[0m in \u001b[0;36m<module>\u001b[0;34m\u001b[0m\n\u001b[1;32m      4\u001b[0m \u001b[0ma\u001b[0m \u001b[0;34m=\u001b[0m \u001b[0;34m{\u001b[0m\u001b[0;36m1\u001b[0m\u001b[0;34m,\u001b[0m\u001b[0;36m2\u001b[0m\u001b[0;34m,\u001b[0m\u001b[0;36m3\u001b[0m\u001b[0;34m,\u001b[0m\u001b[0;36m4\u001b[0m\u001b[0;34m,\u001b[0m\u001b[0;36m5\u001b[0m\u001b[0;34m,\u001b[0m\u001b[0;36m6\u001b[0m\u001b[0;34m}\u001b[0m\u001b[0;34m\u001b[0m\u001b[0;34m\u001b[0m\u001b[0m\n\u001b[1;32m      5\u001b[0m \u001b[0mprint\u001b[0m\u001b[0;34m(\u001b[0m\u001b[0ma\u001b[0m\u001b[0;34m)\u001b[0m\u001b[0;34m\u001b[0m\u001b[0;34m\u001b[0m\u001b[0m\n\u001b[0;32m----> 6\u001b[0;31m \u001b[0mprint\u001b[0m\u001b[0;34m(\u001b[0m\u001b[0ma\u001b[0m\u001b[0;34m[\u001b[0m\u001b[0;36m0\u001b[0m\u001b[0;34m]\u001b[0m\u001b[0;34m)\u001b[0m\u001b[0;34m\u001b[0m\u001b[0;34m\u001b[0m\u001b[0m\n\u001b[0m\u001b[1;32m      7\u001b[0m \u001b[0;34m\u001b[0m\u001b[0m\n",
      "\u001b[0;31mTypeError\u001b[0m: 'set' object is not subscriptable"
     ]
    }
   ],
   "source": [
    "#집합 자료형(set), 순서가 없고, 중복이 없는 자료이다. \n",
    "#사전과 비슷하게 중괄호로 정의하지만, 키, 값이 업다\n",
    "\n",
    "a = {1,2,3,4,5,6}\n",
    "print(a)\n",
    "print(a[0])\n",
    "\n"
   ]
  },
  {
   "cell_type": "code",
   "execution_count": 35,
   "metadata": {},
   "outputs": [
    {
     "name": "stdout",
     "output_type": "stream",
     "text": [
      "{1, 2}\n"
     ]
    }
   ],
   "source": [
    "a = {1,1,1,1,1,1,2}\n",
    "print(a)"
   ]
  },
  {
   "cell_type": "code",
   "execution_count": null,
   "metadata": {},
   "outputs": [],
   "source": []
  }
 ],
 "metadata": {
  "kernelspec": {
   "display_name": "Python 3",
   "language": "python",
   "name": "python3"
  },
  "language_info": {
   "codemirror_mode": {
    "name": "ipython",
    "version": 3
   },
   "file_extension": ".py",
   "mimetype": "text/x-python",
   "name": "python",
   "nbconvert_exporter": "python",
   "pygments_lexer": "ipython3",
   "version": "3.7.4"
  }
 },
 "nbformat": 4,
 "nbformat_minor": 2
}
