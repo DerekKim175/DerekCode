{
 "cells": [
  {
   "cell_type": "code",
   "execution_count": 1,
   "metadata": {},
   "outputs": [
    {
     "name": "stdout",
     "output_type": "stream",
     "text": [
      "Collecting python-telegram-bot\n",
      "\u001b[?25l  Downloading https://files.pythonhosted.org/packages/f6/1f/b9d41f2a582403279d22402971a5b74f318552c1faf6049bee1b69b0b177/python_telegram_bot-12.6.1-py2.py3-none-any.whl (371kB)\n",
      "\u001b[K     |████████████████████████████████| 378kB 257kB/s eta 0:00:01\n",
      "\u001b[?25hRequirement already satisfied: future>=0.16.0 in /Users/derekkim175/opt/anaconda3/lib/python3.7/site-packages (from python-telegram-bot) (0.17.1)\n",
      "Requirement already satisfied: certifi in /Users/derekkim175/opt/anaconda3/lib/python3.7/site-packages (from python-telegram-bot) (2019.9.11)\n",
      "Requirement already satisfied: decorator>=4.4.0 in /Users/derekkim175/opt/anaconda3/lib/python3.7/site-packages (from python-telegram-bot) (4.4.0)\n",
      "Requirement already satisfied: cryptography in /Users/derekkim175/opt/anaconda3/lib/python3.7/site-packages (from python-telegram-bot) (2.7)\n",
      "Requirement already satisfied: tornado>=5.1 in /Users/derekkim175/opt/anaconda3/lib/python3.7/site-packages (from python-telegram-bot) (6.0.3)\n",
      "Requirement already satisfied: cffi!=1.11.3,>=1.8 in /Users/derekkim175/opt/anaconda3/lib/python3.7/site-packages (from cryptography->python-telegram-bot) (1.12.3)\n",
      "Requirement already satisfied: six>=1.4.1 in /Users/derekkim175/opt/anaconda3/lib/python3.7/site-packages (from cryptography->python-telegram-bot) (1.12.0)\n",
      "Requirement already satisfied: asn1crypto>=0.21.0 in /Users/derekkim175/opt/anaconda3/lib/python3.7/site-packages (from cryptography->python-telegram-bot) (1.0.1)\n",
      "Requirement already satisfied: pycparser in /Users/derekkim175/opt/anaconda3/lib/python3.7/site-packages (from cffi!=1.11.3,>=1.8->cryptography->python-telegram-bot) (2.19)\n",
      "Installing collected packages: python-telegram-bot\n",
      "Successfully installed python-telegram-bot-12.6.1\n"
     ]
    }
   ],
   "source": [
    "!pip install python-telegram-bot"
   ]
  },
  {
   "cell_type": "code",
   "execution_count": 14,
   "metadata": {},
   "outputs": [
    {
     "data": {
      "text/plain": [
       "<telegram.message.Message at 0x105555050>"
      ]
     },
     "execution_count": 14,
     "metadata": {},
     "output_type": "execute_result"
    }
   ],
   "source": [
    "import telegram\n",
    "\n",
    "telegram_token = '1136527964:AAHM6ERIl1hetRflIB1KrQuQC4pwIPUyYkw'\n",
    "telegram_id = '1220354777'\n",
    "\n",
    "bot = telegram.Bot(token = telegram_token)\n",
    "bot.sendMessage(telegram_id, '')"
   ]
  },
  {
   "cell_type": "code",
   "execution_count": 15,
   "metadata": {},
   "outputs": [],
   "source": [
    "s = \"1234567890\"\n"
   ]
  },
  {
   "cell_type": "code",
   "execution_count": 16,
   "metadata": {},
   "outputs": [
    {
     "data": {
      "text/plain": [
       "<telegram.message.Message at 0x10555c090>"
      ]
     },
     "execution_count": 16,
     "metadata": {},
     "output_type": "execute_result"
    }
   ],
   "source": [
    "bot = telegram.Bot(token = telegram_token)\n",
    "bot.sendMessage(telegram_id, s)"
   ]
  },
  {
   "cell_type": "code",
   "execution_count": null,
   "metadata": {},
   "outputs": [],
   "source": []
  }
 ],
 "metadata": {
  "kernelspec": {
   "display_name": "Python 3",
   "language": "python",
   "name": "python3"
  },
  "language_info": {
   "codemirror_mode": {
    "name": "ipython",
    "version": 3
   },
   "file_extension": ".py",
   "mimetype": "text/x-python",
   "name": "python",
   "nbconvert_exporter": "python",
   "pygments_lexer": "ipython3",
   "version": "3.7.4"
  }
 },
 "nbformat": 4,
 "nbformat_minor": 2
}
