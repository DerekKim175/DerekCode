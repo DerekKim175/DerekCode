{
 "cells": [
  {
   "cell_type": "code",
   "execution_count": 3,
   "metadata": {},
   "outputs": [
    {
     "name": "stdout",
     "output_type": "stream",
     "text": [
      "Requirement already satisfied: pymysql in /Users/derekkim175/opt/anaconda3/lib/python3.7/site-packages (0.9.3)\n",
      "Note: you may need to restart the kernel to use updated packages.\n"
     ]
    }
   ],
   "source": [
    "pip install pymysql\n"
   ]
  },
  {
   "cell_type": "code",
   "execution_count": 1,
   "metadata": {},
   "outputs": [],
   "source": [
    "import pymysql"
   ]
  },
  {
   "cell_type": "code",
   "execution_count": 2,
   "metadata": {},
   "outputs": [],
   "source": [
    "db = pymysql.connect(host='127.0.0.1', port=3306, user='root', passwd = 'Chiggawithagun1.', db='weather', charset='utf8')"
   ]
  },
  {
   "cell_type": "code",
   "execution_count": 3,
   "metadata": {},
   "outputs": [],
   "source": [
    "cursor = db.cursor()"
   ]
  },
  {
   "cell_type": "code",
   "execution_count": 26,
   "metadata": {},
   "outputs": [],
   "source": [
    "sql = \"Update cpu_info Set id = '20' Where id='1'\"\n",
    "cursor.execute(sql)\n",
    "db.commit()"
   ]
  },
  {
   "cell_type": "code",
   "execution_count": 25,
   "metadata": {},
   "outputs": [
    {
     "name": "stdout",
     "output_type": "stream",
     "text": [
      "None\n"
     ]
    }
   ],
   "source": [
    "result = cursor.fetchone()\n",
    "print(result)"
   ]
  },
  {
   "cell_type": "code",
   "execution_count": 4,
   "metadata": {},
   "outputs": [],
   "source": [
    "import requests\n",
    "import bs4\n",
    "movie_url = \"https://movie.naver.com/movie/sdb/rank/rmovie.nhn\"\n",
    "movie_requests = requests.get(movie_url)\n",
    "movie_html = movie_requests.text\n",
    "bs4_movie = bs4.BeautifulSoup(movie_html, 'html')\n",
    "rank = bs4_movie.find_all('div', attrs={'class','tit3'})"
   ]
  },
  {
   "cell_type": "code",
   "execution_count": 30,
   "metadata": {},
   "outputs": [
    {
     "name": "stdout",
     "output_type": "stream",
     "text": [
      "1 주디\n",
      "2 1917\n",
      "3 인비저블맨\n",
      "4 엽문4: 더 파이널\n",
      "5 코로나\n",
      "6 정직한 후보\n",
      "7 다크 워터스\n",
      "8 언더워터\n",
      "9 지푸라기라도 잡고 싶은 짐승들\n",
      "10 사랑하고 있습니까\n",
      "11 스케어리 스토리: 어둠의 속삭임\n",
      "12 라라랜드\n",
      "13 n번째 이별중\n",
      "14 젠틀맨\n",
      "15 더 터닝\n",
      "16 반도\n",
      "17 용길이네 곱창집\n",
      "18 작은 아씨들\n",
      "19 언더 워터\n",
      "20 바이올렛 에버가든 - 영원과 자동 수기 인형 -\n",
      "21 나쁜 녀석들 : 포에버\n",
      "22 블러드샷\n",
      "23 어메이징 메리\n",
      "24 공수도\n",
      "25 신과 나: 100일간의 거래\n",
      "26 혼숨\n",
      "27 사냥의 시간\n",
      "28 아웃사이더\n",
      "29 더 콜 오브 더 와일드\n",
      "30 온다\n",
      "31 첫키스만 50번째\n",
      "32 페임\n",
      "33 그녀의 비밀정원\n",
      "34 비바리움\n",
      "35 월드워Z\n",
      "36 건즈 아킴보\n",
      "37 기생충\n",
      "38 울프 콜\n",
      "39 트라우마 센터\n",
      "40 비행\n",
      "41 오픈 더 도어\n",
      "42 패왕별희\n",
      "43 더 플랫폼\n",
      "44 클로젯\n",
      "45 날씨의 아이\n",
      "46 시동\n",
      "47 찬실이는 복도 많지\n",
      "48 그린 북\n",
      "49 헌트\n",
      "50 마녀\n"
     ]
    }
   ],
   "source": [
    "for i in range(0,len(rank)):\n",
    "    print(i+1,rank[i].text.strip())"
   ]
  },
  {
   "cell_type": "code",
   "execution_count": 5,
   "metadata": {},
   "outputs": [],
   "source": [
    "for i in range(0,len(rank)):\n",
    "    x = i+1\n",
    "    y = rank[i].text.strip()\n",
    "    sql = \"INSERT INTO `weather`.`naver_movie`(`rank`,`movie_name`) VALUES  ('\"+str(x)+\"','\"+y+\"')\"\n",
    "    cursor.execute(sql)\n",
    "    db.commit()"
   ]
  },
  {
   "cell_type": "code",
   "execution_count": 47,
   "metadata": {},
   "outputs": [
    {
     "name": "stdout",
     "output_type": "stream",
     "text": [
      "INSERT into naver_movie (rank, movie_name) values (x,y)\n"
     ]
    }
   ],
   "source": [
    "print(sql)"
   ]
  },
  {
   "cell_type": "code",
   "execution_count": 40,
   "metadata": {},
   "outputs": [
    {
     "name": "stdout",
     "output_type": "stream",
     "text": [
      "제 이름은 김민우 입니다\n"
     ]
    }
   ],
   "source": [
    "name = '김민우'\n",
    "print('제 이름은', name, '입니다')"
   ]
  },
  {
   "cell_type": "code",
   "execution_count": 49,
   "metadata": {},
   "outputs": [
    {
     "name": "stdout",
     "output_type": "stream",
     "text": [
      "1\n"
     ]
    }
   ],
   "source": [
    "print(x)"
   ]
  },
  {
   "cell_type": "code",
   "execution_count": 51,
   "metadata": {},
   "outputs": [
    {
     "name": "stdout",
     "output_type": "stream",
     "text": [
      "주디\n"
     ]
    },
    {
     "data": {
      "text/plain": [
       "str"
      ]
     },
     "execution_count": 51,
     "metadata": {},
     "output_type": "execute_result"
    }
   ],
   "source": [
    "print(y)\n",
    "type(y)"
   ]
  },
  {
   "cell_type": "code",
   "execution_count": null,
   "metadata": {},
   "outputs": [],
   "source": [
    "INSERT INTO `weather`.`naver_movie`\n",
    "(`rank`,\n",
    "`movie_name`)\n",
    "VALUES\n",
    "(<{rank: }>,\n",
    "<{movie_name: }>);\n"
   ]
  },
  {
   "cell_type": "markdown",
   "metadata": {},
   "source": [
    "Homework:\n",
    "Update dates on workbench"
   ]
  }
 ],
 "metadata": {
  "kernelspec": {
   "display_name": "Python 3",
   "language": "python",
   "name": "python3"
  },
  "language_info": {
   "codemirror_mode": {
    "name": "ipython",
    "version": 3
   },
   "file_extension": ".py",
   "mimetype": "text/x-python",
   "name": "python",
   "nbconvert_exporter": "python",
   "pygments_lexer": "ipython3",
   "version": "3.7.4"
  }
 },
 "nbformat": 4,
 "nbformat_minor": 2
}
