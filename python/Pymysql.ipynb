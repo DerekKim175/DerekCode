{
 "cells": [
  {
   "cell_type": "code",
   "execution_count": 3,
   "metadata": {},
   "outputs": [
    {
     "name": "stdout",
     "output_type": "stream",
     "text": [
      "Requirement already satisfied: pymysql in /Users/derekkim175/opt/anaconda3/lib/python3.7/site-packages (0.9.3)\n",
      "Note: you may need to restart the kernel to use updated packages.\n"
     ]
    }
   ],
   "source": [
    "pip install pymysql\n"
   ]
  },
  {
   "cell_type": "code",
   "execution_count": 6,
   "metadata": {},
   "outputs": [],
   "source": [
    "import pymysql"
   ]
  },
  {
   "cell_type": "code",
   "execution_count": 7,
   "metadata": {},
   "outputs": [],
   "source": [
    "db = pymysql.connect(host='127.0.0.1', port=3306, user='root', passwd = 'Chiggawithagun1.', db='weather', charset='utf8')"
   ]
  },
  {
   "cell_type": "code",
   "execution_count": 8,
   "metadata": {},
   "outputs": [],
   "source": [
    "cursor = db.cursor()"
   ]
  },
  {
   "cell_type": "code",
   "execution_count": 26,
   "metadata": {},
   "outputs": [],
   "source": [
    "sql = \"Update cpu_info Set id = '20' Where id='1'\"\n",
    "cursor.execute(sql)\n",
    "db.commit()"
   ]
  },
  {
   "cell_type": "code",
   "execution_count": 25,
   "metadata": {},
   "outputs": [
    {
     "name": "stdout",
     "output_type": "stream",
     "text": [
      "None\n"
     ]
    }
   ],
   "source": [
    "result = cursor.fetchone()\n",
    "print(result)"
   ]
  },
  {
   "cell_type": "code",
   "execution_count": 3,
   "metadata": {},
   "outputs": [],
   "source": [
    "import requests\n",
    "import bs4\n",
    "movie_url = \"https://movie.naver.com/movie/sdb/rank/rmovie.nhn\"\n",
    "movie_requests = requests.get(movie_url)\n",
    "movie_html = movie_requests.text\n",
    "bs4_movie = bs4.BeautifulSoup(movie_html, 'html')\n",
    "rank = bs4_movie.find_all('div', attrs={'class','tit3'})"
   ]
  },
  {
   "cell_type": "code",
   "execution_count": 30,
   "metadata": {},
   "outputs": [
    {
     "name": "stdout",
     "output_type": "stream",
     "text": [
      "1 주디\n",
      "2 1917\n",
      "3 인비저블맨\n",
      "4 엽문4: 더 파이널\n",
      "5 코로나\n",
      "6 정직한 후보\n",
      "7 다크 워터스\n",
      "8 언더워터\n",
      "9 지푸라기라도 잡고 싶은 짐승들\n",
      "10 사랑하고 있습니까\n",
      "11 스케어리 스토리: 어둠의 속삭임\n",
      "12 라라랜드\n",
      "13 n번째 이별중\n",
      "14 젠틀맨\n",
      "15 더 터닝\n",
      "16 반도\n",
      "17 용길이네 곱창집\n",
      "18 작은 아씨들\n",
      "19 언더 워터\n",
      "20 바이올렛 에버가든 - 영원과 자동 수기 인형 -\n",
      "21 나쁜 녀석들 : 포에버\n",
      "22 블러드샷\n",
      "23 어메이징 메리\n",
      "24 공수도\n",
      "25 신과 나: 100일간의 거래\n",
      "26 혼숨\n",
      "27 사냥의 시간\n",
      "28 아웃사이더\n",
      "29 더 콜 오브 더 와일드\n",
      "30 온다\n",
      "31 첫키스만 50번째\n",
      "32 페임\n",
      "33 그녀의 비밀정원\n",
      "34 비바리움\n",
      "35 월드워Z\n",
      "36 건즈 아킴보\n",
      "37 기생충\n",
      "38 울프 콜\n",
      "39 트라우마 센터\n",
      "40 비행\n",
      "41 오픈 더 도어\n",
      "42 패왕별희\n",
      "43 더 플랫폼\n",
      "44 클로젯\n",
      "45 날씨의 아이\n",
      "46 시동\n",
      "47 찬실이는 복도 많지\n",
      "48 그린 북\n",
      "49 헌트\n",
      "50 마녀\n"
     ]
    }
   ],
   "source": [
    "for i in range(0,len(rank)):\n",
    "    print(i+1,rank[i].text.strip())"
   ]
  },
  {
   "cell_type": "code",
   "execution_count": 29,
   "metadata": {},
   "outputs": [
    {
     "ename": "IntegrityError",
     "evalue": "(1062, \"Duplicate entry '1' for key 'naver_movie.PRIMARY'\")",
     "output_type": "error",
     "traceback": [
      "\u001b[0;31m---------------------------------------------------------------------------\u001b[0m",
      "\u001b[0;31mIntegrityError\u001b[0m                            Traceback (most recent call last)",
      "\u001b[0;32m<ipython-input-29-b6e1bcb43757>\u001b[0m in \u001b[0;36m<module>\u001b[0;34m\u001b[0m\n\u001b[1;32m      3\u001b[0m     \u001b[0my\u001b[0m \u001b[0;34m=\u001b[0m \u001b[0mrank\u001b[0m\u001b[0;34m[\u001b[0m\u001b[0mi\u001b[0m\u001b[0;34m]\u001b[0m\u001b[0;34m.\u001b[0m\u001b[0mtext\u001b[0m\u001b[0;34m.\u001b[0m\u001b[0mstrip\u001b[0m\u001b[0;34m(\u001b[0m\u001b[0;34m)\u001b[0m\u001b[0;34m\u001b[0m\u001b[0;34m\u001b[0m\u001b[0m\n\u001b[1;32m      4\u001b[0m     \u001b[0msql\u001b[0m \u001b[0;34m=\u001b[0m \u001b[0;34m\"INSERT INTO `weather`.`naver_movie`(`rank`,`movie_name`) VALUES  ('\"\u001b[0m\u001b[0;34m+\u001b[0m\u001b[0mstr\u001b[0m\u001b[0;34m(\u001b[0m\u001b[0mx\u001b[0m\u001b[0;34m)\u001b[0m\u001b[0;34m+\u001b[0m\u001b[0;34m\"','\"\u001b[0m\u001b[0;34m+\u001b[0m\u001b[0my\u001b[0m\u001b[0;34m+\u001b[0m\u001b[0;34m\"')\"\u001b[0m\u001b[0;34m\u001b[0m\u001b[0;34m\u001b[0m\u001b[0m\n\u001b[0;32m----> 5\u001b[0;31m     \u001b[0mcursor\u001b[0m\u001b[0;34m.\u001b[0m\u001b[0mexecute\u001b[0m\u001b[0;34m(\u001b[0m\u001b[0msql\u001b[0m\u001b[0;34m)\u001b[0m\u001b[0;34m\u001b[0m\u001b[0;34m\u001b[0m\u001b[0m\n\u001b[0m\u001b[1;32m      6\u001b[0m     \u001b[0mdb\u001b[0m\u001b[0;34m.\u001b[0m\u001b[0mcommit\u001b[0m\u001b[0;34m(\u001b[0m\u001b[0;34m)\u001b[0m\u001b[0;34m\u001b[0m\u001b[0;34m\u001b[0m\u001b[0m\n",
      "\u001b[0;32m~/opt/anaconda3/lib/python3.7/site-packages/pymysql/cursors.py\u001b[0m in \u001b[0;36mexecute\u001b[0;34m(self, query, args)\u001b[0m\n\u001b[1;32m    168\u001b[0m         \u001b[0mquery\u001b[0m \u001b[0;34m=\u001b[0m \u001b[0mself\u001b[0m\u001b[0;34m.\u001b[0m\u001b[0mmogrify\u001b[0m\u001b[0;34m(\u001b[0m\u001b[0mquery\u001b[0m\u001b[0;34m,\u001b[0m \u001b[0margs\u001b[0m\u001b[0;34m)\u001b[0m\u001b[0;34m\u001b[0m\u001b[0;34m\u001b[0m\u001b[0m\n\u001b[1;32m    169\u001b[0m \u001b[0;34m\u001b[0m\u001b[0m\n\u001b[0;32m--> 170\u001b[0;31m         \u001b[0mresult\u001b[0m \u001b[0;34m=\u001b[0m \u001b[0mself\u001b[0m\u001b[0;34m.\u001b[0m\u001b[0m_query\u001b[0m\u001b[0;34m(\u001b[0m\u001b[0mquery\u001b[0m\u001b[0;34m)\u001b[0m\u001b[0;34m\u001b[0m\u001b[0;34m\u001b[0m\u001b[0m\n\u001b[0m\u001b[1;32m    171\u001b[0m         \u001b[0mself\u001b[0m\u001b[0;34m.\u001b[0m\u001b[0m_executed\u001b[0m \u001b[0;34m=\u001b[0m \u001b[0mquery\u001b[0m\u001b[0;34m\u001b[0m\u001b[0;34m\u001b[0m\u001b[0m\n\u001b[1;32m    172\u001b[0m         \u001b[0;32mreturn\u001b[0m \u001b[0mresult\u001b[0m\u001b[0;34m\u001b[0m\u001b[0;34m\u001b[0m\u001b[0m\n",
      "\u001b[0;32m~/opt/anaconda3/lib/python3.7/site-packages/pymysql/cursors.py\u001b[0m in \u001b[0;36m_query\u001b[0;34m(self, q)\u001b[0m\n\u001b[1;32m    326\u001b[0m         \u001b[0mself\u001b[0m\u001b[0;34m.\u001b[0m\u001b[0m_last_executed\u001b[0m \u001b[0;34m=\u001b[0m \u001b[0mq\u001b[0m\u001b[0;34m\u001b[0m\u001b[0;34m\u001b[0m\u001b[0m\n\u001b[1;32m    327\u001b[0m         \u001b[0mself\u001b[0m\u001b[0;34m.\u001b[0m\u001b[0m_clear_result\u001b[0m\u001b[0;34m(\u001b[0m\u001b[0;34m)\u001b[0m\u001b[0;34m\u001b[0m\u001b[0;34m\u001b[0m\u001b[0m\n\u001b[0;32m--> 328\u001b[0;31m         \u001b[0mconn\u001b[0m\u001b[0;34m.\u001b[0m\u001b[0mquery\u001b[0m\u001b[0;34m(\u001b[0m\u001b[0mq\u001b[0m\u001b[0;34m)\u001b[0m\u001b[0;34m\u001b[0m\u001b[0;34m\u001b[0m\u001b[0m\n\u001b[0m\u001b[1;32m    329\u001b[0m         \u001b[0mself\u001b[0m\u001b[0;34m.\u001b[0m\u001b[0m_do_get_result\u001b[0m\u001b[0;34m(\u001b[0m\u001b[0;34m)\u001b[0m\u001b[0;34m\u001b[0m\u001b[0;34m\u001b[0m\u001b[0m\n\u001b[1;32m    330\u001b[0m         \u001b[0;32mreturn\u001b[0m \u001b[0mself\u001b[0m\u001b[0;34m.\u001b[0m\u001b[0mrowcount\u001b[0m\u001b[0;34m\u001b[0m\u001b[0;34m\u001b[0m\u001b[0m\n",
      "\u001b[0;32m~/opt/anaconda3/lib/python3.7/site-packages/pymysql/connections.py\u001b[0m in \u001b[0;36mquery\u001b[0;34m(self, sql, unbuffered)\u001b[0m\n\u001b[1;32m    515\u001b[0m                 \u001b[0msql\u001b[0m \u001b[0;34m=\u001b[0m \u001b[0msql\u001b[0m\u001b[0;34m.\u001b[0m\u001b[0mencode\u001b[0m\u001b[0;34m(\u001b[0m\u001b[0mself\u001b[0m\u001b[0;34m.\u001b[0m\u001b[0mencoding\u001b[0m\u001b[0;34m,\u001b[0m \u001b[0;34m'surrogateescape'\u001b[0m\u001b[0;34m)\u001b[0m\u001b[0;34m\u001b[0m\u001b[0;34m\u001b[0m\u001b[0m\n\u001b[1;32m    516\u001b[0m         \u001b[0mself\u001b[0m\u001b[0;34m.\u001b[0m\u001b[0m_execute_command\u001b[0m\u001b[0;34m(\u001b[0m\u001b[0mCOMMAND\u001b[0m\u001b[0;34m.\u001b[0m\u001b[0mCOM_QUERY\u001b[0m\u001b[0;34m,\u001b[0m \u001b[0msql\u001b[0m\u001b[0;34m)\u001b[0m\u001b[0;34m\u001b[0m\u001b[0;34m\u001b[0m\u001b[0m\n\u001b[0;32m--> 517\u001b[0;31m         \u001b[0mself\u001b[0m\u001b[0;34m.\u001b[0m\u001b[0m_affected_rows\u001b[0m \u001b[0;34m=\u001b[0m \u001b[0mself\u001b[0m\u001b[0;34m.\u001b[0m\u001b[0m_read_query_result\u001b[0m\u001b[0;34m(\u001b[0m\u001b[0munbuffered\u001b[0m\u001b[0;34m=\u001b[0m\u001b[0munbuffered\u001b[0m\u001b[0;34m)\u001b[0m\u001b[0;34m\u001b[0m\u001b[0;34m\u001b[0m\u001b[0m\n\u001b[0m\u001b[1;32m    518\u001b[0m         \u001b[0;32mreturn\u001b[0m \u001b[0mself\u001b[0m\u001b[0;34m.\u001b[0m\u001b[0m_affected_rows\u001b[0m\u001b[0;34m\u001b[0m\u001b[0;34m\u001b[0m\u001b[0m\n\u001b[1;32m    519\u001b[0m \u001b[0;34m\u001b[0m\u001b[0m\n",
      "\u001b[0;32m~/opt/anaconda3/lib/python3.7/site-packages/pymysql/connections.py\u001b[0m in \u001b[0;36m_read_query_result\u001b[0;34m(self, unbuffered)\u001b[0m\n\u001b[1;32m    730\u001b[0m         \u001b[0;32melse\u001b[0m\u001b[0;34m:\u001b[0m\u001b[0;34m\u001b[0m\u001b[0;34m\u001b[0m\u001b[0m\n\u001b[1;32m    731\u001b[0m             \u001b[0mresult\u001b[0m \u001b[0;34m=\u001b[0m \u001b[0mMySQLResult\u001b[0m\u001b[0;34m(\u001b[0m\u001b[0mself\u001b[0m\u001b[0;34m)\u001b[0m\u001b[0;34m\u001b[0m\u001b[0;34m\u001b[0m\u001b[0m\n\u001b[0;32m--> 732\u001b[0;31m             \u001b[0mresult\u001b[0m\u001b[0;34m.\u001b[0m\u001b[0mread\u001b[0m\u001b[0;34m(\u001b[0m\u001b[0;34m)\u001b[0m\u001b[0;34m\u001b[0m\u001b[0;34m\u001b[0m\u001b[0m\n\u001b[0m\u001b[1;32m    733\u001b[0m         \u001b[0mself\u001b[0m\u001b[0;34m.\u001b[0m\u001b[0m_result\u001b[0m \u001b[0;34m=\u001b[0m \u001b[0mresult\u001b[0m\u001b[0;34m\u001b[0m\u001b[0;34m\u001b[0m\u001b[0m\n\u001b[1;32m    734\u001b[0m         \u001b[0;32mif\u001b[0m \u001b[0mresult\u001b[0m\u001b[0;34m.\u001b[0m\u001b[0mserver_status\u001b[0m \u001b[0;32mis\u001b[0m \u001b[0;32mnot\u001b[0m \u001b[0;32mNone\u001b[0m\u001b[0;34m:\u001b[0m\u001b[0;34m\u001b[0m\u001b[0;34m\u001b[0m\u001b[0m\n",
      "\u001b[0;32m~/opt/anaconda3/lib/python3.7/site-packages/pymysql/connections.py\u001b[0m in \u001b[0;36mread\u001b[0;34m(self)\u001b[0m\n\u001b[1;32m   1073\u001b[0m     \u001b[0;32mdef\u001b[0m \u001b[0mread\u001b[0m\u001b[0;34m(\u001b[0m\u001b[0mself\u001b[0m\u001b[0;34m)\u001b[0m\u001b[0;34m:\u001b[0m\u001b[0;34m\u001b[0m\u001b[0;34m\u001b[0m\u001b[0m\n\u001b[1;32m   1074\u001b[0m         \u001b[0;32mtry\u001b[0m\u001b[0;34m:\u001b[0m\u001b[0;34m\u001b[0m\u001b[0;34m\u001b[0m\u001b[0m\n\u001b[0;32m-> 1075\u001b[0;31m             \u001b[0mfirst_packet\u001b[0m \u001b[0;34m=\u001b[0m \u001b[0mself\u001b[0m\u001b[0;34m.\u001b[0m\u001b[0mconnection\u001b[0m\u001b[0;34m.\u001b[0m\u001b[0m_read_packet\u001b[0m\u001b[0;34m(\u001b[0m\u001b[0;34m)\u001b[0m\u001b[0;34m\u001b[0m\u001b[0;34m\u001b[0m\u001b[0m\n\u001b[0m\u001b[1;32m   1076\u001b[0m \u001b[0;34m\u001b[0m\u001b[0m\n\u001b[1;32m   1077\u001b[0m             \u001b[0;32mif\u001b[0m \u001b[0mfirst_packet\u001b[0m\u001b[0;34m.\u001b[0m\u001b[0mis_ok_packet\u001b[0m\u001b[0;34m(\u001b[0m\u001b[0;34m)\u001b[0m\u001b[0;34m:\u001b[0m\u001b[0;34m\u001b[0m\u001b[0;34m\u001b[0m\u001b[0m\n",
      "\u001b[0;32m~/opt/anaconda3/lib/python3.7/site-packages/pymysql/connections.py\u001b[0m in \u001b[0;36m_read_packet\u001b[0;34m(self, packet_type)\u001b[0m\n\u001b[1;32m    682\u001b[0m \u001b[0;34m\u001b[0m\u001b[0m\n\u001b[1;32m    683\u001b[0m         \u001b[0mpacket\u001b[0m \u001b[0;34m=\u001b[0m \u001b[0mpacket_type\u001b[0m\u001b[0;34m(\u001b[0m\u001b[0mbuff\u001b[0m\u001b[0;34m,\u001b[0m \u001b[0mself\u001b[0m\u001b[0;34m.\u001b[0m\u001b[0mencoding\u001b[0m\u001b[0;34m)\u001b[0m\u001b[0;34m\u001b[0m\u001b[0;34m\u001b[0m\u001b[0m\n\u001b[0;32m--> 684\u001b[0;31m         \u001b[0mpacket\u001b[0m\u001b[0;34m.\u001b[0m\u001b[0mcheck_error\u001b[0m\u001b[0;34m(\u001b[0m\u001b[0;34m)\u001b[0m\u001b[0;34m\u001b[0m\u001b[0;34m\u001b[0m\u001b[0m\n\u001b[0m\u001b[1;32m    685\u001b[0m         \u001b[0;32mreturn\u001b[0m \u001b[0mpacket\u001b[0m\u001b[0;34m\u001b[0m\u001b[0;34m\u001b[0m\u001b[0m\n\u001b[1;32m    686\u001b[0m \u001b[0;34m\u001b[0m\u001b[0m\n",
      "\u001b[0;32m~/opt/anaconda3/lib/python3.7/site-packages/pymysql/protocol.py\u001b[0m in \u001b[0;36mcheck_error\u001b[0;34m(self)\u001b[0m\n\u001b[1;32m    218\u001b[0m             \u001b[0merrno\u001b[0m \u001b[0;34m=\u001b[0m \u001b[0mself\u001b[0m\u001b[0;34m.\u001b[0m\u001b[0mread_uint16\u001b[0m\u001b[0;34m(\u001b[0m\u001b[0;34m)\u001b[0m\u001b[0;34m\u001b[0m\u001b[0;34m\u001b[0m\u001b[0m\n\u001b[1;32m    219\u001b[0m             \u001b[0;32mif\u001b[0m \u001b[0mDEBUG\u001b[0m\u001b[0;34m:\u001b[0m \u001b[0mprint\u001b[0m\u001b[0;34m(\u001b[0m\u001b[0;34m\"errno =\"\u001b[0m\u001b[0;34m,\u001b[0m \u001b[0merrno\u001b[0m\u001b[0;34m)\u001b[0m\u001b[0;34m\u001b[0m\u001b[0;34m\u001b[0m\u001b[0m\n\u001b[0;32m--> 220\u001b[0;31m             \u001b[0merr\u001b[0m\u001b[0;34m.\u001b[0m\u001b[0mraise_mysql_exception\u001b[0m\u001b[0;34m(\u001b[0m\u001b[0mself\u001b[0m\u001b[0;34m.\u001b[0m\u001b[0m_data\u001b[0m\u001b[0;34m)\u001b[0m\u001b[0;34m\u001b[0m\u001b[0;34m\u001b[0m\u001b[0m\n\u001b[0m\u001b[1;32m    221\u001b[0m \u001b[0;34m\u001b[0m\u001b[0m\n\u001b[1;32m    222\u001b[0m     \u001b[0;32mdef\u001b[0m \u001b[0mdump\u001b[0m\u001b[0;34m(\u001b[0m\u001b[0mself\u001b[0m\u001b[0;34m)\u001b[0m\u001b[0;34m:\u001b[0m\u001b[0;34m\u001b[0m\u001b[0;34m\u001b[0m\u001b[0m\n",
      "\u001b[0;32m~/opt/anaconda3/lib/python3.7/site-packages/pymysql/err.py\u001b[0m in \u001b[0;36mraise_mysql_exception\u001b[0;34m(data)\u001b[0m\n\u001b[1;32m    107\u001b[0m         \u001b[0merrval\u001b[0m \u001b[0;34m=\u001b[0m \u001b[0mdata\u001b[0m\u001b[0;34m[\u001b[0m\u001b[0;36m3\u001b[0m\u001b[0;34m:\u001b[0m\u001b[0;34m]\u001b[0m\u001b[0;34m.\u001b[0m\u001b[0mdecode\u001b[0m\u001b[0;34m(\u001b[0m\u001b[0;34m'utf-8'\u001b[0m\u001b[0;34m,\u001b[0m \u001b[0;34m'replace'\u001b[0m\u001b[0;34m)\u001b[0m\u001b[0;34m\u001b[0m\u001b[0;34m\u001b[0m\u001b[0m\n\u001b[1;32m    108\u001b[0m     \u001b[0merrorclass\u001b[0m \u001b[0;34m=\u001b[0m \u001b[0merror_map\u001b[0m\u001b[0;34m.\u001b[0m\u001b[0mget\u001b[0m\u001b[0;34m(\u001b[0m\u001b[0merrno\u001b[0m\u001b[0;34m,\u001b[0m \u001b[0mInternalError\u001b[0m\u001b[0;34m)\u001b[0m\u001b[0;34m\u001b[0m\u001b[0;34m\u001b[0m\u001b[0m\n\u001b[0;32m--> 109\u001b[0;31m     \u001b[0;32mraise\u001b[0m \u001b[0merrorclass\u001b[0m\u001b[0;34m(\u001b[0m\u001b[0merrno\u001b[0m\u001b[0;34m,\u001b[0m \u001b[0merrval\u001b[0m\u001b[0;34m)\u001b[0m\u001b[0;34m\u001b[0m\u001b[0;34m\u001b[0m\u001b[0m\n\u001b[0m",
      "\u001b[0;31mIntegrityError\u001b[0m: (1062, \"Duplicate entry '1' for key 'naver_movie.PRIMARY'\")"
     ]
    }
   ],
   "source": [
    "for i in range(0,len(rank)):\n",
    "    x = i+1\n",
    "    y = rank[i].text.strip()\n",
    "    sql = \"INSERT INTO `weather`.`naver_movie`(`rank`,`movie_name`) VALUES  ('\"+str(x)+\"','\"+y+\"')\"\n",
    "    cursor.execute(sql)\n",
    "    db.commit()"
   ]
  },
  {
   "cell_type": "code",
   "execution_count": 30,
   "metadata": {},
   "outputs": [
    {
     "name": "stdout",
     "output_type": "stream",
     "text": [
      "INSERT INTO `weather`.`naver_movie`(`rank`,`movie_name`) VALUES  ('1','1917')\n"
     ]
    }
   ],
   "source": [
    "print(sql)"
   ]
  },
  {
   "cell_type": "code",
   "execution_count": 40,
   "metadata": {},
   "outputs": [
    {
     "name": "stdout",
     "output_type": "stream",
     "text": [
      "제 이름은 김민우 입니다\n"
     ]
    }
   ],
   "source": [
    "name = '김민우'\n",
    "print('제 이름은', name, '입니다')"
   ]
  },
  {
   "cell_type": "code",
   "execution_count": 49,
   "metadata": {},
   "outputs": [
    {
     "name": "stdout",
     "output_type": "stream",
     "text": [
      "1\n"
     ]
    }
   ],
   "source": [
    "print(x)"
   ]
  },
  {
   "cell_type": "code",
   "execution_count": 51,
   "metadata": {},
   "outputs": [
    {
     "name": "stdout",
     "output_type": "stream",
     "text": [
      "주디\n"
     ]
    },
    {
     "data": {
      "text/plain": [
       "str"
      ]
     },
     "execution_count": 51,
     "metadata": {},
     "output_type": "execute_result"
    }
   ],
   "source": [
    "print(y)\n",
    "type(y)"
   ]
  },
  {
   "cell_type": "code",
   "execution_count": null,
   "metadata": {},
   "outputs": [],
   "source": [
    "INSERT INTO `weather`.`naver_movie`\n",
    "(`rank`,\n",
    "`movie_name`)\n",
    "VALUES\n",
    "(<{rank: }>,\n",
    "<{movie_name: }>);\n"
   ]
  },
  {
   "cell_type": "markdown",
   "metadata": {},
   "source": [
    "Homework:\n",
    "Update dates on workbench"
   ]
  },
  {
   "cell_type": "code",
   "execution_count": 1,
   "metadata": {},
   "outputs": [],
   "source": [
    "import requests\n",
    "import bs4\n",
    "movie_url = \"https://movie.naver.com/movie/sdb/rank/rmovie.nhn\"\n",
    "date_requests = requests.get(movie_url)\n",
    "date_html = date_requests.text\n",
    "bs4_date = bs4.BeautifulSoup(date_html, 'html')"
   ]
  },
  {
   "cell_type": "code",
   "execution_count": 5,
   "metadata": {},
   "outputs": [
    {
     "name": "stdout",
     "output_type": "stream",
     "text": [
      "[<p class=\"r_date\">2020.04.05 <a href=\"rmovie.nhn?sel=cnt&amp;tg=0&amp;date=20200404\"><img alt=\"prev\" height=\"13\" src=\"https://ssl.pstatic.net/imgmovie/2007/img/common/btn_prev.gif\" style=\"margin-right:1px;\" width=\"13\"/></a></p>]\n"
     ]
    }
   ],
   "source": [
    "date = bs4_date.find_all('p', attrs={'class','r_date'})\n",
    "print(date)"
   ]
  },
  {
   "cell_type": "code",
   "execution_count": 37,
   "metadata": {},
   "outputs": [],
   "source": [
    "\n",
    "#     x = (date[i].text.strip())\n",
    "#     d = \"Update naver_movie Set date = '\"+x+\"'\"\n",
    "#     cursor.execute(d)\n",
    "#     db.commit()"
   ]
  },
  {
   "cell_type": "code",
   "execution_count": 11,
   "metadata": {},
   "outputs": [
    {
     "data": {
      "text/plain": [
       "str"
      ]
     },
     "execution_count": 11,
     "metadata": {},
     "output_type": "execute_result"
    }
   ],
   "source": [
    "type(x)"
   ]
  },
  {
   "cell_type": "code",
   "execution_count": 2,
   "metadata": {},
   "outputs": [],
   "source": [
    "import requests\n",
    "import bs4\n",
    "corona_url = \"https://www.worldometers.info/coronavirus/#countries\"\n",
    "corona_requests = requests.get(corona_url)\n",
    "corona_html = corona_requests.text\n",
    "bs4_corona = bs4.BeautifulSoup(corona_html, 'html')"
   ]
  },
  {
   "cell_type": "code",
   "execution_count": 3,
   "metadata": {},
   "outputs": [],
   "source": [
    "country = bs4_corona.find_all('a',attrs={'class','mt_a'})\n",
    "# a = bs4_corona.find('a',attrs={'class','mt_a'})\n",
    "# total_cases = a.findNext().text\n"
   ]
  },
  {
   "cell_type": "code",
   "execution_count": 45,
   "metadata": {},
   "outputs": [
    {
     "name": "stdout",
     "output_type": "stream",
     "text": [
      "+655\n",
      "+3,835\n",
      "0\n",
      "0\n",
      "0\n",
      "+2,089\n",
      "0\n",
      "0\n",
      "+585\n",
      "+1,380\n",
      "0\n",
      "0\n",
      "+164\n",
      "+712\n",
      "+57\n",
      "+47\n",
      "+102\n",
      "+1,154\n",
      "0\n",
      "+13\n",
      "+1\n",
      "0\n",
      "+297\n",
      "+130\n",
      "+6\n",
      "0\n",
      "+119\n",
      "+360\n",
      "+238\n",
      "+170\n",
      "0\n",
      "+104\n",
      "0\n",
      "0\n",
      "+147\n",
      "+247\n",
      "0\n",
      "+296\n",
      "+132\n",
      "+38\n",
      "0\n",
      "0\n",
      "0\n",
      "0\n",
      "0\n",
      "0\n",
      "0\n",
      "0\n",
      "0\n",
      "0\n"
     ]
    }
   ],
   "source": [
    "for i in range(0,50):\n",
    "    total_cases = country[i].findNext()\n",
    "    new_cases = total_cases.findNext().text\n",
    "    if new_cases == \"\":\n",
    "        print(0)\n",
    "    else:\n",
    "        print(new_cases)"
   ]
  },
  {
   "cell_type": "code",
   "execution_count": 41,
   "metadata": {},
   "outputs": [
    {
     "name": "stdout",
     "output_type": "stream",
     "text": [
      "367,659\n"
     ]
    }
   ],
   "source": [
    "type(total_cases)\n",
    "print(total_cases)"
   ]
  },
  {
   "cell_type": "code",
   "execution_count": 35,
   "metadata": {},
   "outputs": [
    {
     "data": {
      "text/plain": [
       "str"
      ]
     },
     "execution_count": 35,
     "metadata": {},
     "output_type": "execute_result"
    }
   ],
   "source": [
    "type(total)"
   ]
  },
  {
   "cell_type": "code",
   "execution_count": 30,
   "metadata": {},
   "outputs": [],
   "source": [
    "for i in range(0,50):\n",
    "    total_cases = country[i].findNext().text"
   ]
  },
  {
   "cell_type": "code",
   "execution_count": 74,
   "metadata": {},
   "outputs": [
    {
     "ename": "IndentationError",
     "evalue": "unexpected indent (<ipython-input-74-08e8efb61cde>, line 26)",
     "output_type": "error",
     "traceback": [
      "\u001b[0;36m  File \u001b[0;32m\"<ipython-input-74-08e8efb61cde>\"\u001b[0;36m, line \u001b[0;32m26\u001b[0m\n\u001b[0;31m    y = 'INSERT INTO `weather`.`CoronaVirus_Data` (`country`,`total_cases`,`new_cases`,`total_deaths`,`new_deaths`) VALUES (\"'+nation+'\",\"'+total+'\",\"'+new+'\",\"'+death+'\",\"'+new_death+'\");'\u001b[0m\n\u001b[0m    ^\u001b[0m\n\u001b[0;31mIndentationError\u001b[0m\u001b[0;31m:\u001b[0m unexpected indent\n"
     ]
    }
   ],
   "source": [
    "def corona():\n",
    "    s=''\n",
    "    for i in range(0,50):\n",
    "        nation = (country[i].text.strip())\n",
    "\n",
    "        total = country[i].findNext().text\n",
    "\n",
    "        total_cases = country[i].findNext()\n",
    "        new = total_cases.findNext().text\n",
    "\n",
    "        if new == \"\":\n",
    "            new = \"0\"\n",
    "\n",
    "        new_cases  = country[i].findNext('td').findNext('td')\n",
    "        death = new_cases.findNext().text\n",
    "\n",
    "        total_death = country[i].findNext('td').findNext('td').findNext('td')\n",
    "        new_death = total_death.findNext().text\n",
    "\n",
    "        if new_death == \"\":\n",
    "            new_death = \"0\"\n",
    "            \n",
    "            \n",
    "        s += str(i+1)+\" Country: \"+nation+\"\\n Total Cases: \"+total+ \"\\n New Cases: \"+new+\"\\n Total Death: \"+death+\"\\n New Death: \"+new_death+\"\\n\"\n",
    "    return s\n",
    "        y = 'INSERT INTO `weather`.`CoronaVirus_Data` (`country`,`total_cases`,`new_cases`,`total_deaths`,`new_deaths`) VALUES (\"'+nation+'\",\"'+total+'\",\"'+new+'\",\"'+death+'\",\"'+new_death+'\");'\n",
    "        cursor.execute(y)\n",
    "        db.commit()\n",
    "    bot = telegram.Bot(token = telegram_token)\n",
    "    bot.sendMessage(telegram_id, corona)\n",
    "    \n",
    "schedule.every().day().at(\"22:00\").do(corona)\n",
    "\n",
    "while True:\n",
    "    schedule.run_pending()\n",
    "    time.sleep(1)"
   ]
  },
  {
   "cell_type": "code",
   "execution_count": 68,
   "metadata": {},
   "outputs": [
    {
     "name": "stdout",
     "output_type": "stream",
     "text": [
      "1 Country: USA\n",
      " Total Cases: 560,433\n",
      " New Cases: +133\n",
      " Total Death: 22,115 \n",
      " New Death: +10\n",
      "2 Country: Spain\n",
      " Total Cases: 169,496\n",
      " New Cases: +2,665\n",
      " Total Death: 17,489 \n",
      " New Death: +280\n",
      "3 Country: Italy\n",
      " Total Cases: 156,363\n",
      " New Cases: 0\n",
      " Total Death: 19,899 \n",
      " New Death: 0\n",
      "4 Country: France\n",
      " Total Cases: 132,591\n",
      " New Cases: 0\n",
      " Total Death: 14,393 \n",
      " New Death: 0\n",
      "5 Country: Germany\n",
      " Total Cases: 127,854\n",
      " New Cases: 0\n",
      " Total Death: 3,022 \n",
      " New Death: 0\n",
      "6 Country: UK\n",
      " Total Cases: 84,279\n",
      " New Cases: 0\n",
      " Total Death: 10,612 \n",
      " New Death: 0\n",
      "7 Country: Iran\n",
      " Total Cases: 73,303\n",
      " New Cases: +1,617\n",
      " Total Death: 4,585 \n",
      " New Death: +111\n",
      "8 Country: Turkey\n",
      " Total Cases: 56,956\n",
      " New Cases: 0\n",
      " Total Death: 1,198 \n",
      " New Death: 0\n",
      "9 Country: Belgium\n",
      " Total Cases: 30,589\n",
      " New Cases: +942\n",
      " Total Death: 3,903 \n",
      " New Death: +303\n",
      "10 Country: Netherlands\n",
      " Total Cases: 26,551\n",
      " New Cases: +964\n",
      " Total Death: 2,823 \n",
      " New Death: +86\n",
      "11 Country: Switzerland\n",
      " Total Cases: 25,503\n",
      " New Cases: +88\n",
      " Total Death: 1,117 \n",
      " New Death: +11\n",
      "12 Country: Canada\n",
      " Total Cases: 24,383\n",
      " New Cases: 0\n",
      " Total Death: 717 \n",
      " New Death: 0\n",
      "13 Country: Brazil\n",
      " Total Cases: 22,318\n",
      " New Cases: +126\n",
      " Total Death: 1,241 \n",
      " New Death: +18\n",
      "14 Country: Russia\n",
      " Total Cases: 18,328\n",
      " New Cases: +2,558\n",
      " Total Death: 148 \n",
      " New Death: +18\n",
      "15 Country: Portugal\n",
      " Total Cases: 16,934\n",
      " New Cases: +349\n",
      " Total Death: 535 \n",
      " New Death: +31\n",
      "16 Country: Austria\n",
      " Total Cases: 13,998\n",
      " New Cases: +53\n",
      " Total Death: 368 \n",
      " New Death: +18\n",
      "17 Country: Israel\n",
      " Total Cases: 11,235\n",
      " New Cases: +90\n",
      " Total Death: 110 \n",
      " New Death: +7\n",
      "18 Country: Sweden\n",
      " Total Cases: 10,948\n",
      " New Cases: +465\n",
      " Total Death: 919 \n",
      " New Death: +20\n",
      "19 Country: S. Korea\n",
      " Total Cases: 10,537\n",
      " New Cases: +25\n",
      " Total Death: 217 \n",
      " New Death: +3\n",
      "20 Country: Ireland\n",
      " Total Cases: 9,655\n",
      " New Cases: 0\n",
      " Total Death: 334 \n",
      " New Death: 0\n",
      "21 Country: India\n",
      " Total Cases: 9,240\n",
      " New Cases: +35\n",
      " Total Death: 331 \n",
      " New Death: 0\n",
      "22 Country: Peru\n",
      " Total Cases: 7,519\n",
      " New Cases: 0\n",
      " Total Death: 193 \n",
      " New Death: 0\n",
      "23 Country: Ecuador\n",
      " Total Cases: 7,466\n",
      " New Cases: 0\n",
      " Total Death: 333 \n",
      " New Death: 0\n",
      "24 Country: Japan\n",
      " Total Cases: 7,370\n",
      " New Cases: 0\n",
      " Total Death: 123 \n",
      " New Death: 0\n",
      "25 Country: Chile\n",
      " Total Cases: 7,213\n",
      " New Cases: 0\n",
      " Total Death: 80 \n",
      " New Death: 0\n",
      "26 Country: Poland\n",
      " Total Cases: 6,674\n",
      " New Cases: 0\n",
      " Total Death: 232 \n",
      " New Death: 0\n",
      "27 Country: Romania\n",
      " Total Cases: 6,633\n",
      " New Cases: +333\n",
      " Total Death: 318 \n",
      " New Death: +2\n",
      "28 Country: Norway\n",
      " Total Cases: 6,525\n",
      " New Cases: 0\n",
      " Total Death: 128 \n",
      " New Death: 0\n",
      "29 Country: Australia\n",
      " Total Cases: 6,359\n",
      " New Cases: +46\n",
      " Total Death: 61 \n",
      " New Death: +2\n",
      "30 Country: Denmark\n",
      " Total Cases: 6,318\n",
      " New Cases: +144\n",
      " Total Death: 285 \n",
      " New Death: +12\n",
      "31 Country: Czechia\n",
      " Total Cases: 5,991\n",
      " New Cases: 0\n",
      " Total Death: 139 \n",
      " New Death: +1\n",
      "32 Country: Pakistan\n",
      " Total Cases: 5,374\n",
      " New Cases: +144\n",
      " Total Death: 93 \n",
      " New Death: +2\n",
      "33 Country: Philippines\n",
      " Total Cases: 4,932\n",
      " New Cases: +284\n",
      " Total Death: 315 \n",
      " New Death: +18\n",
      "34 Country: Malaysia\n",
      " Total Cases: 4,817\n",
      " New Cases: +134\n",
      " Total Death: 77 \n",
      " New Death: +1\n",
      "35 Country: Mexico\n",
      " Total Cases: 4,661\n",
      " New Cases: +442\n",
      " Total Death: 296 \n",
      " New Death: +23\n",
      "36 Country: Indonesia\n",
      " Total Cases: 4,557\n",
      " New Cases: +316\n",
      " Total Death: 399 \n",
      " New Death: +26\n",
      "37 Country: Saudi Arabia\n",
      " Total Cases: 4,462\n",
      " New Cases: 0\n",
      " Total Death: 59 \n",
      " New Death: 0\n",
      "38 Country: UAE\n",
      " Total Cases: 4,123\n",
      " New Cases: 0\n",
      " Total Death: 22 \n",
      " New Death: 0\n",
      "39 Country: Serbia\n",
      " Total Cases: 3,630\n",
      " New Cases: 0\n",
      " Total Death: 80 \n",
      " New Death: 0\n",
      "40 Country: Panama\n",
      " Total Cases: 3,400\n",
      " New Cases: 0\n",
      " Total Death: 87 \n",
      " New Death: 0\n",
      "41 Country: Luxembourg\n",
      " Total Cases: 3,281\n",
      " New Cases: 0\n",
      " Total Death: 66 \n",
      " New Death: 0\n",
      "42 Country: Qatar\n",
      " Total Cases: 3,231\n",
      " New Cases: +252\n",
      " Total Death: 7 \n",
      " New Death: 0\n",
      "43 Country: Ukraine\n",
      " Total Cases: 3,102\n",
      " New Cases: +325\n",
      " Total Death: 93 \n",
      " New Death: +10\n",
      "44 Country: Finland\n",
      " Total Cases: 3,064\n",
      " New Cases: +90\n",
      " Total Death: 59 \n",
      " New Death: +3\n",
      "45 Country: Dominican Republic\n",
      " Total Cases: 2,967\n",
      " New Cases: 0\n",
      " Total Death: 173 \n",
      " New Death: 0\n",
      "46 Country: Belarus\n",
      " Total Cases: 2,919\n",
      " New Cases: +341\n",
      " Total Death: 29 \n",
      " New Death: +3\n",
      "47 Country: Colombia\n",
      " Total Cases: 2,776\n",
      " New Cases: 0\n",
      " Total Death: 109 \n",
      " New Death: 0\n",
      "48 Country: Thailand\n",
      " Total Cases: 2,579\n",
      " New Cases: +28\n",
      " Total Death: 40 \n",
      " New Death: +2\n",
      "49 Country: Singapore\n",
      " Total Cases: 2,532\n",
      " New Cases: 0\n",
      " Total Death: 8 \n",
      " New Death: 0\n",
      "50 Country: Argentina\n",
      " Total Cases: 2,208\n",
      " New Cases: +66\n",
      " Total Death: 95 \n",
      " New Death: +5\n",
      "\n"
     ]
    }
   ],
   "source": [
    "print(corona())"
   ]
  },
  {
   "cell_type": "code",
   "execution_count": 63,
   "metadata": {},
   "outputs": [
    {
     "name": "stdout",
     "output_type": "stream",
     "text": [
      "10,943 \n",
      "13,798 \n",
      "16,523 \n",
      "1,810 \n",
      "8,911 \n",
      "3,872 \n",
      "5,373 \n",
      "649 \n",
      "787 \n",
      "2,035 \n",
      "1,867 \n",
      "323 \n",
      "243 \n",
      "345 \n",
      "566 \n",
      "192 \n",
      "60 \n",
      "58 \n",
      "477 \n",
      "48 \n",
      "83 \n",
      "174 \n",
      "203 \n",
      "137 \n",
      "80 \n",
      "37 \n",
      "111 \n",
      "184 \n",
      "55 \n",
      "63 \n",
      "92 \n",
      "177 \n",
      "191 \n",
      "41 \n",
      "38 \n",
      "221 \n",
      "92 \n",
      "125 \n",
      "27 \n",
      "27 \n",
      "58 \n",
      "55 \n",
      "11 \n",
      "4 \n",
      "86 \n",
      "81 \n",
      "12 \n",
      "53 \n",
      "46 \n",
      "6 \n"
     ]
    }
   ],
   "source": [
    "for i in range(0,50):\n",
    "    new_cases  = country[i].findNext('td').findNext('td')\n",
    "    death = new_cases.findNext().text\n",
    "    print(death)"
   ]
  },
  {
   "cell_type": "code",
   "execution_count": 55,
   "metadata": {},
   "outputs": [
    {
     "ename": "KeyError",
     "evalue": "0",
     "output_type": "error",
     "traceback": [
      "\u001b[0;31m---------------------------------------------------------------------------\u001b[0m",
      "\u001b[0;31mKeyError\u001b[0m                                  Traceback (most recent call last)",
      "\u001b[0;32m<ipython-input-55-2cd1c1fb7a29>\u001b[0m in \u001b[0;36m<module>\u001b[0;34m\u001b[0m\n\u001b[0;32m----> 1\u001b[0;31m \u001b[0mprint\u001b[0m\u001b[0;34m(\u001b[0m\u001b[0mtotal_cases\u001b[0m\u001b[0;34m[\u001b[0m\u001b[0;36m0\u001b[0m\u001b[0;34m]\u001b[0m\u001b[0;34m)\u001b[0m\u001b[0;34m\u001b[0m\u001b[0;34m\u001b[0m\u001b[0m\n\u001b[0m",
      "\u001b[0;32m~/opt/anaconda3/lib/python3.7/site-packages/bs4/element.py\u001b[0m in \u001b[0;36m__getitem__\u001b[0;34m(self, key)\u001b[0m\n\u001b[1;32m    969\u001b[0m         \"\"\"tag[key] returns the value of the 'key' attribute for the tag,\n\u001b[1;32m    970\u001b[0m         and throws an exception if it's not there.\"\"\"\n\u001b[0;32m--> 971\u001b[0;31m         \u001b[0;32mreturn\u001b[0m \u001b[0mself\u001b[0m\u001b[0;34m.\u001b[0m\u001b[0mattrs\u001b[0m\u001b[0;34m[\u001b[0m\u001b[0mkey\u001b[0m\u001b[0;34m]\u001b[0m\u001b[0;34m\u001b[0m\u001b[0;34m\u001b[0m\u001b[0m\n\u001b[0m\u001b[1;32m    972\u001b[0m \u001b[0;34m\u001b[0m\u001b[0m\n\u001b[1;32m    973\u001b[0m     \u001b[0;32mdef\u001b[0m \u001b[0m__iter__\u001b[0m\u001b[0;34m(\u001b[0m\u001b[0mself\u001b[0m\u001b[0;34m)\u001b[0m\u001b[0;34m:\u001b[0m\u001b[0;34m\u001b[0m\u001b[0;34m\u001b[0m\u001b[0m\n",
      "\u001b[0;31mKeyError\u001b[0m: 0"
     ]
    }
   ],
   "source": [
    "print(total_cases[0])"
   ]
  },
  {
   "cell_type": "code",
   "execution_count": 56,
   "metadata": {},
   "outputs": [
    {
     "data": {
      "text/plain": [
       "bs4.element.Tag"
      ]
     },
     "execution_count": 56,
     "metadata": {},
     "output_type": "execute_result"
    }
   ],
   "source": [
    "type(total_cases)"
   ]
  },
  {
   "cell_type": "code",
   "execution_count": 57,
   "metadata": {},
   "outputs": [
    {
     "data": {
      "text/plain": [
       "bs4.element.ResultSet"
      ]
     },
     "execution_count": 57,
     "metadata": {},
     "output_type": "execute_result"
    }
   ],
   "source": [
    "type(country)"
   ]
  },
  {
   "cell_type": "code",
   "execution_count": 59,
   "metadata": {},
   "outputs": [
    {
     "name": "stdout",
     "output_type": "stream",
     "text": [
      "<a class=\"mt_a\" href=\"country/spain/\">Spain</a>\n"
     ]
    }
   ],
   "source": [
    "print(country[1])"
   ]
  },
  {
   "cell_type": "code",
   "execution_count": 61,
   "metadata": {},
   "outputs": [
    {
     "name": "stdout",
     "output_type": "stream",
     "text": [
      "국가 :  USA\n",
      "총 확진자 수 : 367,719\n",
      "새로운 확진자 수:  +715\n",
      "\n",
      "국가 :  Spain\n",
      "총 확진자 수 : 140,510\n",
      "새로운 확진자 수:  +3,835\n",
      "\n",
      "국가 :  Italy\n",
      "총 확진자 수 : 132,547\n",
      "새로운 확진자 수:  \n",
      "\n",
      "국가 :  Germany\n",
      "총 확진자 수 : 103,717\n",
      "새로운 확진자 수:  +342\n",
      "\n",
      "국가 :  France\n",
      "총 확진자 수 : 98,010\n",
      "새로운 확진자 수:  \n",
      "\n",
      "국가 :  Iran\n",
      "총 확진자 수 : 62,589\n",
      "새로운 확진자 수:  +2,089\n",
      "\n",
      "국가 :  UK\n",
      "총 확진자 수 : 51,608\n",
      "새로운 확진자 수:  \n",
      "\n",
      "국가 :  Turkey\n",
      "총 확진자 수 : 30,217\n",
      "새로운 확진자 수:  \n",
      "\n",
      "국가 :  Switzerland\n",
      "총 확진자 수 : 22,242\n",
      "새로운 확진자 수:  +585\n",
      "\n",
      "국가 :  Belgium\n",
      "총 확진자 수 : 22,194\n",
      "새로운 확진자 수:  +1,380\n",
      "\n",
      "국가 :  Netherlands\n",
      "총 확진자 수 : 19,580\n",
      "새로운 확진자 수:  +777\n",
      "\n",
      "국가 :  Canada\n",
      "총 확진자 수 : 16,667\n",
      "새로운 확진자 수:  \n",
      "\n",
      "국가 :  Austria\n",
      "총 확진자 수 : 12,488\n",
      "새로운 확진자 수:  +191\n",
      "\n",
      "국가 :  Portugal\n",
      "총 확진자 수 : 12,442\n",
      "새로운 확진자 수:  +712\n",
      "\n",
      "국가 :  Brazil\n",
      "총 확진자 수 : 12,240\n",
      "새로운 확진자 수:  +57\n",
      "\n",
      "국가 :  S. Korea\n",
      "총 확진자 수 : 10,331\n",
      "새로운 확진자 수:  +47\n",
      "\n",
      "국가 :  Israel\n",
      "총 확진자 수 : 9,006\n",
      "새로운 확진자 수:  +102\n",
      "\n",
      "국가 :  Sweden\n",
      "총 확진자 수 : 7,693\n",
      "새로운 확진자 수:  +487\n",
      "\n",
      "국가 :  Russia\n",
      "총 확진자 수 : 7,497\n",
      "새로운 확진자 수:  +1,154\n",
      "\n",
      "국가 :  Australia\n",
      "총 확진자 수 : 5,908\n",
      "새로운 확진자 수:  +13\n",
      "\n",
      "국가 :  Norway\n",
      "총 확진자 수 : 5,866\n",
      "새로운 확진자 수:  +1\n",
      "\n",
      "국가 :  Ireland\n",
      "총 확진자 수 : 5,364\n",
      "새로운 확진자 수:  \n",
      "\n",
      "국가 :  Denmark\n",
      "총 확진자 수 : 4,978\n",
      "새로운 확진자 수:  +297\n",
      "\n",
      "국가 :  India\n",
      "총 확진자 수 : 4,908\n",
      "새로운 확진자 수:  +130\n",
      "\n",
      "국가 :  Czechia\n",
      "총 확진자 수 : 4,828\n",
      "새로운 확진자 수:  +6\n",
      "\n",
      "국가 :  Chile\n",
      "총 확진자 수 : 4,815\n",
      "새로운 확진자 수:  \n",
      "\n",
      "국가 :  Poland\n",
      "총 확진자 수 : 4,532\n",
      "새로운 확진자 수:  +119\n",
      "\n",
      "국가 :  Romania\n",
      "총 확진자 수 : 4,417\n",
      "새로운 확진자 수:  +360\n",
      "\n",
      "국가 :  Pakistan\n",
      "총 확진자 수 : 4,004\n",
      "새로운 확진자 수:  +238\n",
      "\n",
      "국가 :  Malaysia\n",
      "총 확진자 수 : 3,963\n",
      "새로운 확진자 수:  +170\n",
      "\n",
      "국가 :  Japan\n",
      "총 확진자 수 : 3,906\n",
      "새로운 확진자 수:  \n",
      "\n",
      "국가 :  Philippines\n",
      "총 확진자 수 : 3,764\n",
      "새로운 확진자 수:  +104\n",
      "\n",
      "국가 :  Ecuador\n",
      "총 확진자 수 : 3,747\n",
      "새로운 확진자 수:  \n",
      "\n",
      "국가 :  Luxembourg\n",
      "총 확진자 수 : 2,843\n",
      "새로운 확진자 수:  \n",
      "\n",
      "국가 :  Saudi Arabia\n",
      "총 확진자 수 : 2,752\n",
      "새로운 확진자 수:  +147\n",
      "\n",
      "국가 :  Indonesia\n",
      "총 확진자 수 : 2,738\n",
      "새로운 확진자 수:  +247\n",
      "\n",
      "국가 :  Peru\n",
      "총 확진자 수 : 2,561\n",
      "새로운 확진자 수:  \n",
      "\n",
      "국가 :  Mexico\n",
      "총 확진자 수 : 2,439\n",
      "새로운 확진자 수:  +296\n",
      "\n",
      "국가 :  Finland\n",
      "총 확진자 수 : 2,308\n",
      "새로운 확진자 수:  +132\n",
      "\n",
      "국가 :  Thailand\n",
      "총 확진자 수 : 2,258\n",
      "새로운 확진자 수:  +38\n",
      "\n",
      "국가 :  Serbia\n",
      "총 확진자 수 : 2,200\n",
      "새로운 확진자 수:  \n",
      "\n",
      "국가 :  Panama\n",
      "총 확진자 수 : 2,100\n",
      "새로운 확진자 수:  \n",
      "\n",
      "국가 :  UAE\n",
      "총 확진자 수 : 2,076\n",
      "새로운 확진자 수:  \n",
      "\n",
      "국가 :  Qatar\n",
      "총 확진자 수 : 1,832\n",
      "새로운 확진자 수:  \n",
      "\n",
      "국가 :  Dominican Republic\n",
      "총 확진자 수 : 1,828\n",
      "새로운 확진자 수:  \n",
      "\n",
      "국가 :  Greece\n",
      "총 확진자 수 : 1,755\n",
      "새로운 확진자 수:  \n",
      "\n",
      "국가 :  South Africa\n",
      "총 확진자 수 : 1,686\n",
      "새로운 확진자 수:  \n",
      "\n",
      "국가 :  Argentina\n",
      "총 확진자 수 : 1,628\n",
      "새로운 확진자 수:  \n",
      "\n",
      "국가 :  Colombia\n",
      "총 확진자 수 : 1,579\n",
      "새로운 확진자 수:  \n",
      "\n",
      "국가 :  Iceland\n",
      "총 확진자 수 : 1,562\n",
      "새로운 확진자 수:  \n",
      "\n"
     ]
    }
   ],
   "source": [
    "import requests \n",
    "import bs4\n",
    "url = 'https://www.worldometers.info/coronavirus/' \n",
    "request_result = requests.get(url) \n",
    "corona = request_result.text \n",
    "\n",
    "soup = bs4.BeautifulSoup(corona,'html')\n",
    "temp = soup.find('tr',class_='total_row_world')\n",
    "for i in range(0,50):\n",
    "    temp = temp.findNext('tr')\n",
    "    if(temp.find('a',class_='mt_a') != None):\n",
    "        print('국가 : ', temp.find('a',class_='mt_a').text)\n",
    "        print('총 확진자 수 :', temp.findNext('td').findNext('td').text)\n",
    "        print('새로운 확진자 수: ',temp.findNext('td').findNext('td').findNext('td').text)\n",
    "        print()\n",
    "    "
   ]
  },
  {
   "cell_type": "code",
   "execution_count": 1,
   "metadata": {},
   "outputs": [
    {
     "name": "stdout",
     "output_type": "stream",
     "text": [
      "Collecting schedule\n",
      "  Downloading https://files.pythonhosted.org/packages/57/22/3a709462eb02412bd1145f6e53604f36bba191e3e4e397bea4a718fec38c/schedule-0.6.0-py2.py3-none-any.whl\n",
      "Installing collected packages: schedule\n",
      "Successfully installed schedule-0.6.0\n",
      "Note: you may need to restart the kernel to use updated packages.\n"
     ]
    }
   ],
   "source": [
    "pip install schedule"
   ]
  },
  {
   "cell_type": "code",
   "execution_count": 3,
   "metadata": {},
   "outputs": [],
   "source": [
    "import schedule\n",
    "import time"
   ]
  },
  {
   "cell_type": "code",
   "execution_count": 5,
   "metadata": {},
   "outputs": [
    {
     "name": "stdout",
     "output_type": "stream",
     "text": [
      "I'm working...\n",
      "I'm working...\n",
      "I'm working...\n",
      "I'm working...\n",
      "I'm working...\n"
     ]
    },
    {
     "ename": "KeyboardInterrupt",
     "evalue": "",
     "output_type": "error",
     "traceback": [
      "\u001b[0;31m---------------------------------------------------------------------------\u001b[0m",
      "\u001b[0;31mKeyboardInterrupt\u001b[0m                         Traceback (most recent call last)",
      "\u001b[0;32m<ipython-input-5-bc9ba7d10033>\u001b[0m in \u001b[0;36m<module>\u001b[0;34m\u001b[0m\n\u001b[1;32m      6\u001b[0m \u001b[0;32mwhile\u001b[0m \u001b[0;32mTrue\u001b[0m\u001b[0;34m:\u001b[0m\u001b[0;34m\u001b[0m\u001b[0;34m\u001b[0m\u001b[0m\n\u001b[1;32m      7\u001b[0m     \u001b[0mschedule\u001b[0m\u001b[0;34m.\u001b[0m\u001b[0mrun_pending\u001b[0m\u001b[0;34m(\u001b[0m\u001b[0;34m)\u001b[0m\u001b[0;34m\u001b[0m\u001b[0;34m\u001b[0m\u001b[0m\n\u001b[0;32m----> 8\u001b[0;31m     \u001b[0mtime\u001b[0m\u001b[0;34m.\u001b[0m\u001b[0msleep\u001b[0m\u001b[0;34m(\u001b[0m\u001b[0;36m1\u001b[0m\u001b[0;34m)\u001b[0m\u001b[0;34m\u001b[0m\u001b[0;34m\u001b[0m\u001b[0m\n\u001b[0m",
      "\u001b[0;31mKeyboardInterrupt\u001b[0m: "
     ]
    }
   ],
   "source": [
    "def job():\n",
    "    print(\"I'm working...\")\n",
    "    \n",
    "#run every 10 seconds    \n",
    "schedule.every(10).seconds.do(job)\n",
    "\n",
    "while True:\n",
    "    schedule.run_pending()\n",
    "    time.sleep(1)"
   ]
  }
 ],
 "metadata": {
  "kernelspec": {
   "display_name": "Python 3",
   "language": "python",
   "name": "python3"
  },
  "language_info": {
   "codemirror_mode": {
    "name": "ipython",
    "version": 3
   },
   "file_extension": ".py",
   "mimetype": "text/x-python",
   "name": "python",
   "nbconvert_exporter": "python",
   "pygments_lexer": "ipython3",
   "version": "3.7.4"
  }
 },
 "nbformat": 4,
 "nbformat_minor": 2
}
