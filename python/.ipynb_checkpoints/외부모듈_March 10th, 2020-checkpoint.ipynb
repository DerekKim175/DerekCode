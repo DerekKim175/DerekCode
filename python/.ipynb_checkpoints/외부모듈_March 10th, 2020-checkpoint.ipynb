{
 "cells": [
  {
   "cell_type": "markdown",
   "metadata": {},
   "source": [
    "## 외부모듈"
   ]
  },
  {
   "cell_type": "markdown",
   "metadata": {},
   "source": [
    "1. 외부모듈은 pypi (The Python Package Index)\n",
    "  * 예시) BeautifulSoup4\n",
    "  * 웹 크롤링을 위한 모듈\n",
    "  * 웹 크롤링이란, 컴퓨터가 인터넷에서 원하는 정보를 가져올수 있도록 하는 과정이다"
   ]
  },
  {
   "cell_type": "markdown",
   "metadata": {},
   "source": [
    "- 웹 크롤링하는 방법\n",
    "  1. 홈페이지의 모든 텍스트(정보를) 가져온다\n",
    "  2. 가져온것을 분석한다\n",
    "  3. 분석한 결과를 보여준다"
   ]
  }
 ],
 "metadata": {
  "kernelspec": {
   "display_name": "Python 3",
   "language": "python",
   "name": "python3"
  },
  "language_info": {
   "codemirror_mode": {
    "name": "ipython",
    "version": 3
   },
   "file_extension": ".py",
   "mimetype": "text/x-python",
   "name": "python",
   "nbconvert_exporter": "python",
   "pygments_lexer": "ipython3",
   "version": "3.7.4"
  }
 },
 "nbformat": 4,
 "nbformat_minor": 2
}
