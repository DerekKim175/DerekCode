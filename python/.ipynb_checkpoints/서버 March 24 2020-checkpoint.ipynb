{
 "cells": [
  {
   "cell_type": "markdown",
   "metadata": {},
   "source": [
    "## 서버\n",
    "- 서버는 컴퓨터다\n",
    "- 서버는 항상 클라이언트랑 같이 묶인다\n",
    "- 클라이언트들이 (일반 사용자들) 접속할수있는 컴퓨터이다\n",
    "- 웹 서버\n",
    "  - 홈페이지를 볼수 있을겄이다\n",
    "- 데이터베이스 서버\n",
    "  - 데이터를 볼수있다\n",
    "- 프론트엔드\n",
    "  - 디자인같은거를 신경"
   ]
  },
  {
   "cell_type": "code",
   "execution_count": null,
   "metadata": {},
   "outputs": [],
   "source": []
  }
 ],
 "metadata": {
  "kernelspec": {
   "display_name": "Python 3",
   "language": "python",
   "name": "python3"
  },
  "language_info": {
   "codemirror_mode": {
    "name": "ipython",
    "version": 3
   },
   "file_extension": ".py",
   "mimetype": "text/x-python",
   "name": "python",
   "nbconvert_exporter": "python",
   "pygments_lexer": "ipython3",
   "version": "3.7.4"
  }
 },
 "nbformat": 4,
 "nbformat_minor": 2
}
