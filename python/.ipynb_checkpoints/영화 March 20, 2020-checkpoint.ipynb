{
 "cells": [
  {
   "cell_type": "code",
   "execution_count": 1,
   "metadata": {},
   "outputs": [],
   "source": [
    "import requests"
   ]
  },
  {
   "cell_type": "code",
   "execution_count": 2,
   "metadata": {},
   "outputs": [],
   "source": [
    "movie = requests.get(\"https://movie.naver.com/movie/sdb/rank/rmovie.nhn\")\n",
    "movie_text = movie.text"
   ]
  },
  {
   "cell_type": "code",
   "execution_count": 4,
   "metadata": {},
   "outputs": [
    {
     "name": "stdout",
     "output_type": "stream",
     "text": [
      "1 : 인비저블맨\n",
      "2 : <img src=\"https://ssl.pstatic.net/imgmovie/2007/img/common/icon_na_1.gif\" alt=\"na\" width=\"7\" height=\"10\" class=\"arrow\n",
      "3 : </td>\r\n",
      "\t\t\t\t\t<td class=\"range ac\n",
      "4 : 0</td>\r\n",
      "\t\t\t\t\t\r\n",
      "\t\t\t\t\t\r\n",
      "\t\t\t\t</tr>\r\n",
      "\t\t\t\t\t\r\n",
      "\t\t\t\t\t\r\n",
      "\t\t\t\t\r\n",
      "\t\t\t\t<tr>\r\n",
      "\t\t\t\t\t\r\n",
      "\t\t\t\t\t\t<td class=\"ac\n",
      "5 : <img src=\"https://ssl.pstatic.net/imgmovie/2007/img/common/bullet_r_r02.gif\" alt=\"02\" width=\"14\" height=\"13\n",
      "6 : </td>\r\n",
      "\t\t\t\t\t\r\n",
      "\t\t\t\t\t\t\r\n",
      "\t\t\t\t\t\r\n",
      "\t\t\t\t\t\r\n",
      "\t\t\t\t\t<td class=\"title\n",
      "7 : \r\n",
      "\t\t\t\t\t\t\n"
     ]
    }
   ],
   "source": [
    "blank_list = []\n",
    "\n",
    "a = movie_text.split('<div class=\"tit3\">')\n",
    "\n",
    "movie_rank = a[1].split('</a>')\n",
    "    \n",
    "for i in range(1,len(movie_rank)):\n",
    "    print(i,':',movie_rank[i].split('\">')[0])"
   ]
  },
  {
   "cell_type": "code",
   "execution_count": null,
   "metadata": {},
   "outputs": [],
   "source": []
  }
 ],
 "metadata": {
  "kernelspec": {
   "display_name": "Python 3",
   "language": "python",
   "name": "python3"
  },
  "language_info": {
   "codemirror_mode": {
    "name": "ipython",
    "version": 3
   },
   "file_extension": ".py",
   "mimetype": "text/x-python",
   "name": "python",
   "nbconvert_exporter": "python",
   "pygments_lexer": "ipython3",
   "version": "3.7.4"
  }
 },
 "nbformat": 4,
 "nbformat_minor": 2
}
