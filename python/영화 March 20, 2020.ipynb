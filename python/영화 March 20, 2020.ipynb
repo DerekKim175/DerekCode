{
 "cells": [
  {
   "cell_type": "code",
   "execution_count": 1,
   "metadata": {},
   "outputs": [],
   "source": [
    "import requests"
   ]
  },
  {
   "cell_type": "code",
   "execution_count": 19,
   "metadata": {},
   "outputs": [],
   "source": [
    "movie = requests.get(\"https://movie.naver.com/movie/sdb/rank/rmovie.nhn\")\n",
    "#get the source page of \"https://movie.naver.com/movie/sdb/rank/rmovie.nhn\"\n",
    "movie_text = movie.text"
   ]
  },
  {
   "cell_type": "code",
   "execution_count": 18,
   "metadata": {},
   "outputs": [
    {
     "name": "stdout",
     "output_type": "stream",
     "text": [
      "1 : 인비저블맨\n",
      "2 : 다크 워터스\n",
      "3 : 1917\n",
      "4 : 지푸라기라도 잡고 싶은 짐승들\n",
      "5 : 작은 아씨들\n",
      "6 : 사랑하고 있습니까\n",
      "7 : 정직한 후보\n",
      "8 : 더 보이 2: 돌아온 브람스\n",
      "9 : 악몽\n",
      "10 : 클로젯\n",
      "11 : 일진 나쁜녀석들\n",
      "12 : 세인트 아가타\n",
      "13 : 용길이네 곱창집\n",
      "14 : 찬실이는 복도 많지\n",
      "15 : 스타 이즈 본\n",
      "16 : 울프 콜\n",
      "17 : 마녀\n",
      "18 : 신과 나: 100일간의 거래\n",
      "19 : 공수도\n",
      "20 : 슬럼독 밀리어네어\n",
      "21 : 시원찮은 그녀를 위한 육성방법 피날레\n",
      "22 : 비행\n",
      "23 : 스타워즈: 라이즈 오브 스카이워커\n",
      "24 : 분노의 질주: 더 익스트림\n",
      "25 : 그린 북\n",
      "26 : 버즈 오브 프레이(할리 퀸의 황홀한 해방)\n",
      "27 : 기생충\n",
      "28 : 존 윅\n",
      "29 : 젠틀맨\n",
      "30 : 블랙 위도우\n",
      "31 : 컨테이젼\n",
      "32 : 히트맨\n",
      "33 : 러브돌: 위험한 사랑\n",
      "34 : 스킨\n",
      "35 : 신문기자\n",
      "36 : 파라다이스 힐스\n",
      "37 : 아일랜드\n",
      "38 : 광대들: 풍문조작단\n",
      "39 : 스케어리 스토리: 어둠의 속삭임\n",
      "40 : 사냥의 시간\n",
      "41 : 반도\n",
      "42 : 베놈\n",
      "43 : 집 이야기\n",
      "44 : 우키시마호\n",
      "45 : 우아한 거짓말\n",
      "46 : 더 룸\n",
      "47 : 어바웃 타임\n",
      "48 : 침입자\n",
      "49 : 치즈인더트랩\n",
      "50 : 남산의 부장들\n"
     ]
    }
   ],
   "source": [
    "blank_list = []\n",
    "\n",
    "a = movie_text.split('<div class=\"tit3\">')\n",
    "#split movie_text by '<div class=\"tit3\">'\n",
    "\n",
    "for i in range(1,len(a)):\n",
    "#give i the range of 1~50 where len(a) = 51\n",
    "    movie_rank = a[i].split('</a>')\n",
    "    # split a of i by '</a>' \n",
    "    print(i,\":\",movie_rank[0].split('\">')[1])\n",
    "    # split movie_rank by \"> and print it"
   ]
  },
  {
   "cell_type": "code",
   "execution_count": 16,
   "metadata": {},
   "outputs": [],
   "source": [
    "#설명 적어놓기"
   ]
  }
 ],
 "metadata": {
  "kernelspec": {
   "display_name": "Python 3",
   "language": "python",
   "name": "python3"
  },
  "language_info": {
   "codemirror_mode": {
    "name": "ipython",
    "version": 3
   },
   "file_extension": ".py",
   "mimetype": "text/x-python",
   "name": "python",
   "nbconvert_exporter": "python",
   "pygments_lexer": "ipython3",
   "version": "3.7.4"
  }
 },
 "nbformat": 4,
 "nbformat_minor": 2
}
