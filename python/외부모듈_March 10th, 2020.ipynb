{
 "cells": [
  {
   "cell_type": "markdown",
   "metadata": {},
   "source": [
    "## 외부모듈"
   ]
  },
  {
   "cell_type": "markdown",
   "metadata": {},
   "source": [
    "1. 외부모듈은 pypi (The Python Package Index)\n",
    "  * 예시) BeautifulSoup4\n",
    "  * 웹 크롤링을 위한 모듈\n",
    "  * 웹 크롤링이란, 컴퓨터가 인터넷에서 원하는 정보를 가져올수 있도록 하는 과정이다"
   ]
  },
  {
   "cell_type": "markdown",
   "metadata": {},
   "source": [
    "- 웹 크롤링하는 방법\n",
    "  1. 홈페이지의 모든 텍스트(정보를) 가져온다 (requests)\n",
    "  2. 가져온것을 분석한다 (bs4)\n",
    "  3. 분석한 결과를 보여준다 (matplotlib)"
   ]
  },
  {
   "cell_type": "markdown",
   "metadata": {},
   "source": [
    "- 외부 모듈은 파이썬이랑 같이 설치가 안된다\n",
    "  * 그러므로, 직접설치를 해야된다\n",
    "  * pip instal 모듈명\n",
    "  * `!pip install` 앞에 느낌표를 적으면, 파이썬 코드가 아니라, 터미널 명령어로 바뀐다\n",
    "  "
   ]
  },
  {
   "cell_type": "code",
   "execution_count": 2,
   "metadata": {},
   "outputs": [
    {
     "name": "stdout",
     "output_type": "stream",
     "text": [
      "Requirement already satisfied: requests in /Users/derekkim175/opt/anaconda3/lib/python3.7/site-packages (2.22.0)\n",
      "Requirement already satisfied: idna<2.9,>=2.5 in /Users/derekkim175/opt/anaconda3/lib/python3.7/site-packages (from requests) (2.8)\n",
      "Requirement already satisfied: chardet<3.1.0,>=3.0.2 in /Users/derekkim175/opt/anaconda3/lib/python3.7/site-packages (from requests) (3.0.4)\n",
      "Requirement already satisfied: urllib3!=1.25.0,!=1.25.1,<1.26,>=1.21.1 in /Users/derekkim175/opt/anaconda3/lib/python3.7/site-packages (from requests) (1.24.2)\n",
      "Requirement already satisfied: certifi>=2017.4.17 in /Users/derekkim175/opt/anaconda3/lib/python3.7/site-packages (from requests) (2019.9.11)\n"
     ]
    }
   ],
   "source": [
    "!pip install requests"
   ]
  },
  {
   "cell_type": "code",
   "execution_count": 3,
   "metadata": {},
   "outputs": [],
   "source": [
    "import requests\n",
    "req = requests.get('https://www.naver.com/')\n",
    "\n",
    "# requests.get(link) brings the page source of the link"
   ]
  },
  {
   "cell_type": "code",
   "execution_count": 5,
   "metadata": {},
   "outputs": [],
   "source": [
    "html_text = req.text"
   ]
  },
  {
   "cell_type": "code",
   "execution_count": 6,
   "metadata": {},
   "outputs": [
    {
     "name": "stdout",
     "output_type": "stream",
     "text": [
      "메일\n",
      "카페\n",
      "블로\n",
      "지식인\n"
     ]
    }
   ],
   "source": [
    "my_list = []\n",
    "\n",
    "\n",
    "x = html_text.find('메일')\n",
    "y = html_text.find('카페')\n",
    "z = html_text.find('블로그')\n",
    "o = html_text.find('지식인')\n",
    "\n",
    "\n",
    "print(html_text[x:x+2])\n",
    "print(html_text[y:y+2])\n",
    "print(html_text[z:z+2])\n",
    "print(html_text[o:o+3])\n"
   ]
  },
  {
   "cell_type": "code",
   "execution_count": 7,
   "metadata": {},
   "outputs": [
    {
     "name": "stdout",
     "output_type": "stream",
     "text": [
      "10\n",
      "12\n",
      "김민우\n"
     ]
    }
   ],
   "source": [
    "a = '안녕하세요, 저는 김민우입니다. 잘 부탁드려요'\n",
    "\n",
    "print(a.find('김'))\n",
    "print(a.find(\"우\"))\n",
    "print(a[10:13])"
   ]
  },
  {
   "cell_type": "code",
   "execution_count": 8,
   "metadata": {},
   "outputs": [
    {
     "data": {
      "text/plain": [
       "21"
      ]
     },
     "execution_count": 8,
     "metadata": {},
     "output_type": "execute_result"
    }
   ],
   "source": [
    "first = html_text.find('<span class=\"an_txt\">')\n",
    "last = first+21\n",
    "len('<span class=\"an_txt\">')"
   ]
  },
  {
   "cell_type": "code",
   "execution_count": 9,
   "metadata": {},
   "outputs": [
    {
     "data": {
      "text/plain": [
       "'메일'"
      ]
     },
     "execution_count": 9,
     "metadata": {},
     "output_type": "execute_result"
    }
   ],
   "source": [
    "html_text[first:last]\n",
    "\n",
    "temp = html_text[last:].find('<')\n",
    "html_text[last:last+temp]"
   ]
  },
  {
   "cell_type": "code",
   "execution_count": 10,
   "metadata": {},
   "outputs": [
    {
     "data": {
      "text/plain": [
       "21"
      ]
     },
     "execution_count": 10,
     "metadata": {},
     "output_type": "execute_result"
    }
   ],
   "source": [
    "len('<span class=\"an_txt\">')"
   ]
  },
  {
   "cell_type": "code",
   "execution_count": 61,
   "metadata": {},
   "outputs": [
    {
     "ename": "IndentationError",
     "evalue": "unexpected indent (<ipython-input-61-b3160164a328>, line 11)",
     "output_type": "error",
     "traceback": [
      "\u001b[0;36m  File \u001b[0;32m\"<ipython-input-61-b3160164a328>\"\u001b[0;36m, line \u001b[0;32m11\u001b[0m\n\u001b[0;31m    break\u001b[0m\n\u001b[0m    ^\u001b[0m\n\u001b[0;31mIndentationError\u001b[0m\u001b[0;31m:\u001b[0m unexpected indent\n"
     ]
    }
   ],
   "source": [
    "#첫번째 숙제: add descriptions to the code below\n",
    "\n",
    "my_list = []\n",
    "#empty list\n",
    "\n",
    "while True:\n",
    "    first = html_text.find('<span class=\"an_txt\">')\n",
    "    #find the location of the code that starts with <span class=\"an_txt\">\n",
    "    \n",
    "    if(first == -1):\n",
    "        break\n",
    "        #break if <span class=\"an_txt\"> is not in html.text\n",
    "        \n",
    "    last = first+21\n",
    "    #add 21 because length of <span class=\"an_txt\"> is 21\n",
    "    \n",
    "    temp = html_text[last:].find('<')\n",
    "    #find location of < so that we can specify the code in between the span tag\n",
    "    \n",
    "    my_list.append(html_text[last:last+temp])\n",
    "    #the code is <span class=\"an_txt\"> text </span> so we input the text in the empty list\n",
    "    \n",
    "    html_text = html_text[last:]\n",
    "    #make the code continuous by making html_text into html_text[last:]"
   ]
  },
  {
   "cell_type": "code",
   "execution_count": 12,
   "metadata": {},
   "outputs": [
    {
     "name": "stdout",
     "output_type": "stream",
     "text": [
      "['메일', '카페', '블로그', '지식인', '쇼핑', '네이버페이', '네이버TV', '사전', '뉴스', '증권(금융)', '부동산', '지도', '영화', '뮤직', '책', '만화 / 웹툰']\n"
     ]
    }
   ],
   "source": [
    "print(my_list)"
   ]
  },
  {
   "cell_type": "code",
   "execution_count": 17,
   "metadata": {},
   "outputs": [
    {
     "name": "stdout",
     "output_type": "stream",
     "text": [
      "-1\n"
     ]
    }
   ],
   "source": [
    "s = '안녕하세요, 제 이름은 허주성입니다.'\n",
    "a = s.find('우')\n",
    "print(a)"
   ]
  },
  {
   "cell_type": "code",
   "execution_count": 62,
   "metadata": {},
   "outputs": [
    {
     "name": "stdout",
     "output_type": "stream",
     "text": [
      " 허주성입니다.\n",
      "안녕하세요, 제 이름\n"
     ]
    }
   ],
   "source": [
    "#두 번째 숙제, split써서 위에거 하기\n",
    "\n",
    "s = '안녕하세요, 제 이름은 허주성입니다.'\n",
    "a = s.split('은')\n",
    "print(a[1])\n",
    "print(a[0])"
   ]
  },
  {
   "cell_type": "code",
   "execution_count": 63,
   "metadata": {},
   "outputs": [],
   "source": [
    "b = a[1].split('입')"
   ]
  },
  {
   "cell_type": "code",
   "execution_count": 64,
   "metadata": {},
   "outputs": [
    {
     "name": "stdout",
     "output_type": "stream",
     "text": [
      " 허주성\n"
     ]
    }
   ],
   "source": [
    "print(b[0])"
   ]
  },
  {
   "cell_type": "code",
   "execution_count": 69,
   "metadata": {},
   "outputs": [],
   "source": [
    "empty_list = []\n",
    "    \n",
    "while True:\n",
    "    \n",
    "    first = html_text.split('<span class=\"an_txt\">')\n",
    "\n",
    "    last = first[0].split('</span>')\n",
    "\n",
    "    empty_list.append(last[0])\n",
    "    \n",
    "    if last[0] == '만화 / 웹툰':\n",
    "        break\n",
    "    \n",
    "    "
   ]
  },
  {
   "cell_type": "code",
   "execution_count": 70,
   "metadata": {},
   "outputs": [
    {
     "name": "stdout",
     "output_type": "stream",
     "text": [
      "['만화 / 웹툰']\n"
     ]
    }
   ],
   "source": [
    "print(empty_list)"
   ]
  },
  {
   "cell_type": "code",
   "execution_count": 71,
   "metadata": {},
   "outputs": [
    {
     "name": "stdout",
     "output_type": "stream",
     "text": [
      "\n",
      "메일 \n",
      "['', '메일 ', '카페 ', '블로그 ', '지식인 ', '쇼핑 ', '네이버페이']\n",
      "['안녕하세요 메일 안녕하세요 카페 안녕하세요 블로그 안녕하세요 지식인 안녕하세요 쇼핑 안녕하세요 네이버페이']\n"
     ]
    }
   ],
   "source": [
    "s = '안녕하세요 메일 안녕하세요 카페 안녕하세요 블로그 안녕하세요 지식인 안녕하세요 쇼핑 안녕하세요 네이버페이'\n",
    "a = s.split('안녕하세요 ')\n",
    "print(a[0])\n",
    "print(a[1])\n",
    "print(a)\n",
    "b = s.split('랜덤')\n",
    "print(b)"
   ]
  }
 ],
 "metadata": {
  "kernelspec": {
   "display_name": "Python 3",
   "language": "python",
   "name": "python3"
  },
  "language_info": {
   "codemirror_mode": {
    "name": "ipython",
    "version": 3
   },
   "file_extension": ".py",
   "mimetype": "text/x-python",
   "name": "python",
   "nbconvert_exporter": "python",
   "pygments_lexer": "ipython3",
   "version": "3.7.4"
  }
 },
 "nbformat": 4,
 "nbformat_minor": 2
}
