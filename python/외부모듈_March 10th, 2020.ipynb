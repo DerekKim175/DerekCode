{
 "cells": [
  {
   "cell_type": "markdown",
   "metadata": {},
   "source": [
    "## 외부모듈"
   ]
  },
  {
   "cell_type": "markdown",
   "metadata": {},
   "source": [
    "1. 외부모듈은 pypi (The Python Package Index)\n",
    "  * 예시) BeautifulSoup4\n",
    "  * 웹 크롤링을 위한 모듈\n",
    "  * 웹 크롤링이란, 컴퓨터가 인터넷에서 원하는 정보를 가져올수 있도록 하는 과정이다"
   ]
  },
  {
   "cell_type": "markdown",
   "metadata": {},
   "source": [
    "- 웹 크롤링하는 방법\n",
    "  1. 홈페이지의 모든 텍스트(정보를) 가져온다 (requests)\n",
    "  2. 가져온것을 분석한다 (bs4)\n",
    "  3. 분석한 결과를 보여준다 (matplotlib)"
   ]
  },
  {
   "cell_type": "markdown",
   "metadata": {},
   "source": [
    "- 외부 모듈은 파이썬이랑 같이 설치가 안된다\n",
    "  * 그러므로, 직접설치를 해야된다\n",
    "  * pip instal 모듈명\n",
    "  * `!pip install` 앞에 느낌표를 적으면, 파이썬 코드가 아니라, 터미널 명령어로 바뀐다\n",
    "  "
   ]
  },
  {
   "cell_type": "code",
   "execution_count": 1,
   "metadata": {},
   "outputs": [
    {
     "name": "stdout",
     "output_type": "stream",
     "text": [
      "Requirement already satisfied: requests in /Users/derekkim175/opt/anaconda3/lib/python3.7/site-packages (2.22.0)\n",
      "Requirement already satisfied: certifi>=2017.4.17 in /Users/derekkim175/opt/anaconda3/lib/python3.7/site-packages (from requests) (2019.9.11)\n",
      "Requirement already satisfied: idna<2.9,>=2.5 in /Users/derekkim175/opt/anaconda3/lib/python3.7/site-packages (from requests) (2.8)\n",
      "Requirement already satisfied: urllib3!=1.25.0,!=1.25.1,<1.26,>=1.21.1 in /Users/derekkim175/opt/anaconda3/lib/python3.7/site-packages (from requests) (1.24.2)\n",
      "Requirement already satisfied: chardet<3.1.0,>=3.0.2 in /Users/derekkim175/opt/anaconda3/lib/python3.7/site-packages (from requests) (3.0.4)\n"
     ]
    }
   ],
   "source": [
    "!pip install requests"
   ]
  },
  {
   "cell_type": "code",
   "execution_count": 4,
   "metadata": {},
   "outputs": [],
   "source": [
    "import requests\n",
    "req = requests.get('https://www.naver.com/')\n",
    "\n",
    "# requests.get(link) brings the page source of the link"
   ]
  },
  {
   "cell_type": "code",
   "execution_count": 5,
   "metadata": {},
   "outputs": [],
   "source": [
    "html_text = req.text"
   ]
  },
  {
   "cell_type": "code",
   "execution_count": 20,
   "metadata": {},
   "outputs": [
    {
     "name": "stdout",
     "output_type": "stream",
     "text": [
      "메일\n",
      "카페\n",
      "블로\n",
      "지식인\n"
     ]
    }
   ],
   "source": [
    "my_list = []\n",
    "\n",
    "\n",
    "x = html_text.find('메일')\n",
    "y = html_text.find('카페')\n",
    "z = html_text.find('블로그')\n",
    "o = html_text.find('지식인')\n",
    "\n",
    "\n",
    "print(html_text[x:x+2])\n",
    "print(html_text[y:y+2])\n",
    "print(html_text[z:z+2])\n",
    "print(html_text[o:o+3])\n"
   ]
  },
  {
   "cell_type": "code",
   "execution_count": 14,
   "metadata": {},
   "outputs": [
    {
     "name": "stdout",
     "output_type": "stream",
     "text": [
      "10\n",
      "12\n",
      "김민우\n"
     ]
    }
   ],
   "source": [
    "a = '안녕하세요, 저는 김민우입니다. 잘 부탁드려요'\n",
    "\n",
    "print(a.find('김'))\n",
    "print(a.find(\"우\"))\n",
    "print(a[10:13])"
   ]
  },
  {
   "cell_type": "code",
   "execution_count": 26,
   "metadata": {},
   "outputs": [
    {
     "data": {
      "text/plain": [
       "21"
      ]
     },
     "execution_count": 26,
     "metadata": {},
     "output_type": "execute_result"
    }
   ],
   "source": [
    "first = html_text.find('<span class=\"an_txt\">')\n",
    "last = first+21\n",
    "len('<span class=\"an_txt\">')"
   ]
  },
  {
   "cell_type": "code",
   "execution_count": 28,
   "metadata": {},
   "outputs": [
    {
     "data": {
      "text/plain": [
       "'메일'"
      ]
     },
     "execution_count": 28,
     "metadata": {},
     "output_type": "execute_result"
    }
   ],
   "source": [
    "html_text[first:last]\n",
    "\n",
    "temp = html_text[last:].find('<')\n",
    "html_text[last:last+temp]"
   ]
  },
  {
   "cell_type": "code",
   "execution_count": 29,
   "metadata": {},
   "outputs": [
    {
     "data": {
      "text/plain": [
       "21"
      ]
     },
     "execution_count": 29,
     "metadata": {},
     "output_type": "execute_result"
    }
   ],
   "source": [
    "len('<span class=\"an_txt\">')"
   ]
  },
  {
   "cell_type": "code",
   "execution_count": 30,
   "metadata": {},
   "outputs": [],
   "source": [
    "#첫번째 숙제: add descriptions to the code below\n",
    "\n",
    "my_list = []\n",
    "\n",
    "while True:\n",
    "    first = html_text.find('<span class=\"an_txt\">')\n",
    "    \n",
    "    if(first == -1):\n",
    "        break\n",
    "    \n",
    "    last = first+21\n",
    "    temp = html_text[last:].find('<')\n",
    "    my_list.append(html_text[last:last+temp])\n",
    "    \n",
    "    html_text = html_text[last:]"
   ]
  },
  {
   "cell_type": "code",
   "execution_count": 31,
   "metadata": {},
   "outputs": [
    {
     "name": "stdout",
     "output_type": "stream",
     "text": [
      "['메일', '카페', '블로그', '지식인', '쇼핑', '네이버페이', '네이버TV', '사전', '뉴스', '증권(금융)', '부동산', '지도', '영화', '뮤직', '책', '만화 / 웹툰']\n"
     ]
    }
   ],
   "source": [
    "print(my_list)"
   ]
  },
  {
   "cell_type": "code",
   "execution_count": 36,
   "metadata": {},
   "outputs": [
    {
     "name": "stdout",
     "output_type": "stream",
     "text": [
      " 허주성입니다.\n"
     ]
    }
   ],
   "source": [
    "#두 번째 숙제, split써서 위에거 하기\n",
    "\n",
    "s = '안녕하세요, 제 이름은 허주성입니다.'\n",
    "a = s.split('은')\n",
    "print(a[1])"
   ]
  },
  {
   "cell_type": "code",
   "execution_count": 34,
   "metadata": {},
   "outputs": [],
   "source": [
    "b = a[1].split('입')"
   ]
  },
  {
   "cell_type": "code",
   "execution_count": 35,
   "metadata": {},
   "outputs": [
    {
     "name": "stdout",
     "output_type": "stream",
     "text": [
      " 허주성\n"
     ]
    }
   ],
   "source": [
    "print(b[0])"
   ]
  }
 ],
 "metadata": {
  "kernelspec": {
   "display_name": "Python 3",
   "language": "python",
   "name": "python3"
  },
  "language_info": {
   "codemirror_mode": {
    "name": "ipython",
    "version": 3
   },
   "file_extension": ".py",
   "mimetype": "text/x-python",
   "name": "python",
   "nbconvert_exporter": "python",
   "pygments_lexer": "ipython3",
   "version": "3.7.4"
  }
 },
 "nbformat": 4,
 "nbformat_minor": 2
}
