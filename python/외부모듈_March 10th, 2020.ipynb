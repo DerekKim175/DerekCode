{
 "cells": [
  {
   "cell_type": "markdown",
   "metadata": {},
   "source": [
    "## 외부모듈"
   ]
  },
  {
   "cell_type": "markdown",
   "metadata": {},
   "source": [
    "1. 외부모듈은 pypi (The Python Package Index)\n",
    "  * 예시) BeautifulSoup4\n",
    "  * 웹 크롤링을 위한 모듈\n",
    "  * 웹 크롤링이란, 컴퓨터가 인터넷에서 원하는 정보를 가져올수 있도록 하는 과정이다"
   ]
  },
  {
   "cell_type": "markdown",
   "metadata": {},
   "source": [
    "- 웹 크롤링하는 방법\n",
    "  1. 홈페이지의 모든 텍스트(정보를) 가져온다 (requests)\n",
    "  2. 가져온것을 분석한다 (bs4)\n",
    "  3. 분석한 결과를 보여준다 (matplotlib)"
   ]
  },
  {
   "cell_type": "markdown",
   "metadata": {},
   "source": [
    "- 외부 모듈은 파이썬이랑 같이 설치가 안된다\n",
    "  * 그러므로, 직접설치를 해야된다\n",
    "  * pip instal 모듈명\n",
    "  * `!pip install` 앞에 느낌표를 적으면, 파이썬 코드가 아니라, 터미널 명령어로 바뀐다\n",
    "  "
   ]
  },
  {
   "cell_type": "code",
   "execution_count": 2,
   "metadata": {},
   "outputs": [
    {
     "name": "stdout",
     "output_type": "stream",
     "text": [
      "Requirement already satisfied: requests in /Users/derekkim175/opt/anaconda3/lib/python3.7/site-packages (2.22.0)\n",
      "Requirement already satisfied: idna<2.9,>=2.5 in /Users/derekkim175/opt/anaconda3/lib/python3.7/site-packages (from requests) (2.8)\n",
      "Requirement already satisfied: chardet<3.1.0,>=3.0.2 in /Users/derekkim175/opt/anaconda3/lib/python3.7/site-packages (from requests) (3.0.4)\n",
      "Requirement already satisfied: urllib3!=1.25.0,!=1.25.1,<1.26,>=1.21.1 in /Users/derekkim175/opt/anaconda3/lib/python3.7/site-packages (from requests) (1.24.2)\n",
      "Requirement already satisfied: certifi>=2017.4.17 in /Users/derekkim175/opt/anaconda3/lib/python3.7/site-packages (from requests) (2019.9.11)\n"
     ]
    }
   ],
   "source": [
    "!pip install requests"
   ]
  },
  {
   "cell_type": "code",
   "execution_count": 3,
   "metadata": {},
   "outputs": [],
   "source": [
    "import requests\n",
    "req = requests.get('https://www.naver.com/')\n",
    "\n",
    "# requests.get(link) brings the page source of the link"
   ]
  },
  {
   "cell_type": "code",
   "execution_count": 5,
   "metadata": {},
   "outputs": [],
   "source": [
    "html_text = req.text"
   ]
  },
  {
   "cell_type": "code",
   "execution_count": 6,
   "metadata": {},
   "outputs": [
    {
     "name": "stdout",
     "output_type": "stream",
     "text": [
      "메일\n",
      "카페\n",
      "블로\n",
      "지식인\n"
     ]
    }
   ],
   "source": [
    "my_list = []\n",
    "\n",
    "\n",
    "x = html_text.find('메일')\n",
    "y = html_text.find('카페')\n",
    "z = html_text.find('블로그')\n",
    "o = html_text.find('지식인')\n",
    "\n",
    "\n",
    "print(html_text[x:x+2])\n",
    "print(html_text[y:y+2])\n",
    "print(html_text[z:z+2])\n",
    "print(html_text[o:o+3])\n"
   ]
  },
  {
   "cell_type": "code",
   "execution_count": 7,
   "metadata": {},
   "outputs": [
    {
     "name": "stdout",
     "output_type": "stream",
     "text": [
      "10\n",
      "12\n",
      "김민우\n"
     ]
    }
   ],
   "source": [
    "a = '안녕하세요, 저는 김민우입니다. 잘 부탁드려요'\n",
    "\n",
    "print(a.find('김'))\n",
    "print(a.find(\"우\"))\n",
    "print(a[10:13])"
   ]
  },
  {
   "cell_type": "code",
   "execution_count": 8,
   "metadata": {},
   "outputs": [
    {
     "data": {
      "text/plain": [
       "21"
      ]
     },
     "execution_count": 8,
     "metadata": {},
     "output_type": "execute_result"
    }
   ],
   "source": [
    "first = html_text.find('<span class=\"an_txt\">')\n",
    "last = first+21\n",
    "len('<span class=\"an_txt\">')"
   ]
  },
  {
   "cell_type": "code",
   "execution_count": 9,
   "metadata": {},
   "outputs": [
    {
     "data": {
      "text/plain": [
       "'메일'"
      ]
     },
     "execution_count": 9,
     "metadata": {},
     "output_type": "execute_result"
    }
   ],
   "source": [
    "html_text[first:last]\n",
    "\n",
    "temp = html_text[last:].find('<')\n",
    "html_text[last:last+temp]"
   ]
  },
  {
   "cell_type": "code",
   "execution_count": 10,
   "metadata": {},
   "outputs": [
    {
     "data": {
      "text/plain": [
       "21"
      ]
     },
     "execution_count": 10,
     "metadata": {},
     "output_type": "execute_result"
    }
   ],
   "source": [
    "len('<span class=\"an_txt\">')"
   ]
  },
  {
   "cell_type": "code",
   "execution_count": 61,
   "metadata": {},
   "outputs": [
    {
     "ename": "IndentationError",
     "evalue": "unexpected indent (<ipython-input-61-b3160164a328>, line 11)",
     "output_type": "error",
     "traceback": [
      "\u001b[0;36m  File \u001b[0;32m\"<ipython-input-61-b3160164a328>\"\u001b[0;36m, line \u001b[0;32m11\u001b[0m\n\u001b[0;31m    break\u001b[0m\n\u001b[0m    ^\u001b[0m\n\u001b[0;31mIndentationError\u001b[0m\u001b[0;31m:\u001b[0m unexpected indent\n"
     ]
    }
   ],
   "source": [
    "#첫번째 숙제: add descriptions to the code below\n",
    "\n",
    "my_list = []\n",
    "#empty list\n",
    "\n",
    "while True:\n",
    "    first = html_text.find('<span class=\"an_txt\">')\n",
    "    #find the location of the code that starts with <span class=\"an_txt\">\n",
    "    \n",
    "    if(first == -1):\n",
    "        break\n",
    "        #break if <span class=\"an_txt\"> is not in html.text\n",
    "        \n",
    "    last = first+21\n",
    "    #add 21 because length of <span class=\"an_txt\"> is 21\n",
    "    \n",
    "    temp = html_text[last:].find('<')\n",
    "    #find location of < so that we can specify the code in between the span tag\n",
    "    \n",
    "    my_list.append(html_text[last:last+temp])\n",
    "    #the code is <span class=\"an_txt\"> text </span> so we input the text in the empty list\n",
    "    \n",
    "    html_text = html_text[last:]\n",
    "    #make the code continuous by making html_text into html_text[last:]"
   ]
  },
  {
   "cell_type": "code",
   "execution_count": 12,
   "metadata": {},
   "outputs": [
    {
     "name": "stdout",
     "output_type": "stream",
     "text": [
      "['메일', '카페', '블로그', '지식인', '쇼핑', '네이버페이', '네이버TV', '사전', '뉴스', '증권(금융)', '부동산', '지도', '영화', '뮤직', '책', '만화 / 웹툰']\n"
     ]
    }
   ],
   "source": [
    "print(my_list)"
   ]
  },
  {
   "cell_type": "code",
   "execution_count": 17,
   "metadata": {},
   "outputs": [
    {
     "name": "stdout",
     "output_type": "stream",
     "text": [
      "-1\n"
     ]
    }
   ],
   "source": [
    "s = '안녕하세요, 제 이름은 허주성입니다.'\n",
    "a = s.find('우')\n",
    "print(a)"
   ]
  },
  {
   "cell_type": "code",
   "execution_count": 62,
   "metadata": {},
   "outputs": [
    {
     "name": "stdout",
     "output_type": "stream",
     "text": [
      " 허주성입니다.\n",
      "안녕하세요, 제 이름\n"
     ]
    }
   ],
   "source": [
    "#두 번째 숙제, split써서 위에거 하기\n",
    "\n",
    "s = '안녕하세요, 제 이름은 허주성입니다.'\n",
    "a = s.split('은')\n",
    "print(a[1])\n",
    "print(a[0])"
   ]
  },
  {
   "cell_type": "code",
   "execution_count": 63,
   "metadata": {},
   "outputs": [],
   "source": [
    "b = a[1].split('입')"
   ]
  },
  {
   "cell_type": "code",
   "execution_count": 64,
   "metadata": {},
   "outputs": [
    {
     "name": "stdout",
     "output_type": "stream",
     "text": [
      " 허주성\n"
     ]
    }
   ],
   "source": [
    "print(b[0])"
   ]
  },
  {
   "cell_type": "code",
   "execution_count": 69,
   "metadata": {},
   "outputs": [],
   "source": [
    "empty_list = []\n",
    "    \n",
    "while True:\n",
    "    \n",
    "    first = html_text.split('<span class=\"an_txt\">')\n",
    "\n",
    "    last = first[0].split('</span>')\n",
    "\n",
    "    empty_list.append(last[0])\n",
    "    \n",
    "    if last[0] == '만화 / 웹툰':\n",
    "        break\n",
    "    \n",
    "    "
   ]
  },
  {
   "cell_type": "code",
   "execution_count": 70,
   "metadata": {},
   "outputs": [
    {
     "name": "stdout",
     "output_type": "stream",
     "text": [
      "['만화 / 웹툰']\n"
     ]
    }
   ],
   "source": [
    "print(empty_list)"
   ]
  },
  {
   "cell_type": "code",
   "execution_count": 71,
   "metadata": {},
   "outputs": [
    {
     "name": "stdout",
     "output_type": "stream",
     "text": [
      "\n",
      "메일 \n",
      "['', '메일 ', '카페 ', '블로그 ', '지식인 ', '쇼핑 ', '네이버페이']\n",
      "['안녕하세요 메일 안녕하세요 카페 안녕하세요 블로그 안녕하세요 지식인 안녕하세요 쇼핑 안녕하세요 네이버페이']\n"
     ]
    }
   ],
   "source": [
    "s = '안녕하세요 메일 안녕하세요 카페 안녕하세요 블로그 안녕하세요 지식인 안녕하세요 쇼핑 안녕하세요 네이버페이'\n",
    "a = s.split('안녕하세요 ')\n",
    "print(a[0])\n",
    "print(a[1])\n",
    "print(a)\n",
    "b = s.split('랜덤')\n",
    "print(b)"
   ]
  },
  {
   "cell_type": "code",
   "execution_count": 8,
   "metadata": {},
   "outputs": [],
   "source": [
    "import requests\n",
    "#bringing in the module request\n",
    "\n",
    "naver = requests.get('https://naver.com')\n",
    "#get the sourcepage of naver.com homepage \n",
    "\n",
    "code = naver.text\n",
    "#make the sourcepage code into text"
   ]
  },
  {
   "cell_type": "code",
   "execution_count": 89,
   "metadata": {},
   "outputs": [
    {
     "name": "stdout",
     "output_type": "stream",
     "text": [
      "['<span class=\"an_icon\"></span>', '메일</span>\\n\\t\\t\\t\\t\\t</a>\\n\\t\\t\\t\\t</li>\\n\\t\\t\\t\\t<li class=\"an_item\">\\n\\t\\t\\t\\t\\t<a href=\"https://section.cafe.naver.com/\" class=\"an_a mn_cafe\" data-clk=\"svc.cafe\">\\n\\t\\t\\t\\t\\t\\t<span class=\"an_icon\"></span>', '카페</span>']\n"
     ]
    }
   ],
   "source": [
    "blank_list = []\n",
    "\n",
    "s = \"\"\"<span class=\"an_icon\"></span><span class=\"an_txt\">메일</span>\n",
    "\t\t\t\t\t</a>\n",
    "\t\t\t\t</li>\n",
    "\t\t\t\t<li class=\"an_item\">\n",
    "\t\t\t\t\t<a href=\"https://section.cafe.naver.com/\" class=\"an_a mn_cafe\" data-clk=\"svc.cafe\">\n",
    "\t\t\t\t\t\t<span class=\"an_icon\"></span><span class=\"an_txt\">카페</span>\"\"\"\n",
    "\n",
    "a = s.split('<span class=\"an_txt\">')\n",
    "\n",
    "\n",
    "\n",
    "x = a[1].split('</span>')\n",
    "\n",
    "blank_list.append(x[0])\n",
    "\n",
    "y = a[2].split('</span>')\n",
    "\n",
    "blank_list.append(y[0])\n",
    "\n",
    "\n",
    "print(a)"
   ]
  },
  {
   "cell_type": "code",
   "execution_count": 90,
   "metadata": {},
   "outputs": [
    {
     "name": "stdout",
     "output_type": "stream",
     "text": [
      "['메일', '카페']\n"
     ]
    }
   ],
   "source": [
    "print(blank_list)"
   ]
  },
  {
   "cell_type": "code",
   "execution_count": 32,
   "metadata": {},
   "outputs": [
    {
     "name": "stdout",
     "output_type": "stream",
     "text": [
      "17\n",
      "['메일', '카페', '블로그', '지식인', '쇼핑', '네이버페이', '네이버TV', '사전', '뉴스', '증권(금융)', '부동산', '지도', '영화', '뮤직', '책', '만화 / 웹툰']\n"
     ]
    }
   ],
   "source": [
    "blank_list = []\n",
    "\n",
    "\n",
    "a = code.split('<span class=\"an_txt\">')\n",
    "\n",
    "print(len(a))\n",
    "    \n",
    "for i in range(1,len(a)):\n",
    "    \n",
    "    x = a[i].split('</span>')\n",
    "    \n",
    "    blank_list.append(x[0])\n",
    "     \n",
    "\n",
    "print(blank_list)\n"
   ]
  },
  {
   "cell_type": "code",
   "execution_count": 10,
   "metadata": {},
   "outputs": [
    {
     "name": "stdout",
     "output_type": "stream",
     "text": [
      "['메일', '카페', '블로그', '지식인', '쇼핑', '네이버페이', '네이버TV', '사전', '뉴스', '증권(금융)', '부동산', '지도', '영화', '뮤직', '책', '만화 / 웹툰']\n"
     ]
    }
   ],
   "source": [
    "print(blank_list)"
   ]
  },
  {
   "cell_type": "code",
   "execution_count": 28,
   "metadata": {},
   "outputs": [
    {
     "name": "stdout",
     "output_type": "stream",
     "text": [
      "-- <span class=\"an_icon\"></span>\n",
      "-- 메일</span>\n",
      "\t\t\t\t\t</a>\n",
      "\t\t\t\t</li>\n",
      "\t\t\t\t<li class=\"an_item\">\n",
      "\t\t\t\t\t<a href=\"https://section.cafe.naver.com/\" class=\"an_a mn_cafe\" data-clk=\"svc.cafe\">\n",
      "\t\t\t\t\t\t<span class=\"an_icon\"></span>\n",
      "-- 카페</span>\n"
     ]
    }
   ],
   "source": [
    "blank_list = []\n",
    "\n",
    "s = \"\"\"<span class=\"an_icon\"></span><span class=\"an_txt\">메일</span>\n",
    "\t\t\t\t\t</a>\n",
    "\t\t\t\t</li>\n",
    "\t\t\t\t<li class=\"an_item\">\n",
    "\t\t\t\t\t<a href=\"https://section.cafe.naver.com/\" class=\"an_a mn_cafe\" data-clk=\"svc.cafe\">\n",
    "\t\t\t\t\t\t<span class=\"an_icon\"></span><span class=\"an_txt\">카페</span>\"\"\"\n",
    "\n",
    "x = 0\n",
    "\n",
    "a = s.split('<span class=\"an_txt\">')\n",
    "\n",
    "for i in a:\n",
    "    print('--',i)\n",
    "#     x += 1\n",
    "\n",
    "#     y = a[x].split('</span>')\n",
    "\n",
    "#     blank_list.append(y[0])\n"
   ]
  },
  {
   "cell_type": "code",
   "execution_count": 17,
   "metadata": {},
   "outputs": [
    {
     "name": "stdout",
     "output_type": "stream",
     "text": [
      "['s', '<', '/']\n"
     ]
    }
   ],
   "source": [
    "print(blank_list)"
   ]
  },
  {
   "cell_type": "code",
   "execution_count": 11,
   "metadata": {},
   "outputs": [],
   "source": [
    "l = ['123','456','789']\n",
    "\n",
    "\n"
   ]
  },
  {
   "cell_type": "code",
   "execution_count": 25,
   "metadata": {},
   "outputs": [
    {
     "name": "stdout",
     "output_type": "stream",
     "text": [
      "123\n",
      "456\n",
      "789\n"
     ]
    }
   ],
   "source": [
    "for i in l:\n",
    "    print(i)"
   ]
  },
  {
   "cell_type": "code",
   "execution_count": 13,
   "metadata": {},
   "outputs": [
    {
     "name": "stdout",
     "output_type": "stream",
     "text": [
      "123\n",
      "456\n",
      "789\n"
     ]
    }
   ],
   "source": [
    "for i in range(0,3):\n",
    "    print(l[i])"
   ]
  },
  {
   "cell_type": "code",
   "execution_count": 36,
   "metadata": {},
   "outputs": [
    {
     "name": "stdout",
     "output_type": "stream",
     "text": [
      "네이버 검색할 키워드를 입력해주세요.호빗\n",
      "\n",
      "호빗 의 연관 검색어는 다음과 같습니다.\n",
      "1  :  반지의 제왕\n",
      "2  :  호빗4\n",
      "3  :  호빗1\n",
      "4  :  호빗2\n",
      "5  :  호빗 시리즈\n",
      "6  :  호빗3\n",
      "7  :  호빗 책\n",
      "8  :  반지의 제왕 호빗\n",
      "9  :  호빗 뜻\n",
      "10  :  호빗 뜻밖의 여정\n"
     ]
    }
   ],
   "source": [
    "search_word = input('네이버 검색할 키워드를 입력해주세요.')\n",
    "print()\n",
    "print(search_word,\"의 연관 검색어는 다음과 같습니다.\")\n",
    "import requests\n",
    "\n",
    "naver_search = requests.get(\"https://search.naver.com/search.naver\",params={'query':search_word})\n",
    "html_text=naver_search.text\n",
    "temp1 = html_text.split('연관검색어')\n",
    "if 'data-area=\"*q\">' in temp1[1]:\n",
    "    related_list = temp1[1].split('data-area=\"*q\">')\n",
    "else:\n",
    "    related_list = temp1[1].split('data-area=\"*s\">')\n",
    "for i in range(1,len(related_list)):\n",
    "    print(i,' : ',related_list[i].split('</a>')[0])"
   ]
  },
  {
   "cell_type": "markdown",
   "metadata": {},
   "source": [
    "## 숙제\n",
    "- **모든 줄** 설명 적기"
   ]
  }
 ],
 "metadata": {
  "kernelspec": {
   "display_name": "Python 3",
   "language": "python",
   "name": "python3"
  },
  "language_info": {
   "codemirror_mode": {
    "name": "ipython",
    "version": 3
   },
   "file_extension": ".py",
   "mimetype": "text/x-python",
   "name": "python",
   "nbconvert_exporter": "python",
   "pygments_lexer": "ipython3",
   "version": "3.7.4"
  }
 },
 "nbformat": 4,
 "nbformat_minor": 2
}
