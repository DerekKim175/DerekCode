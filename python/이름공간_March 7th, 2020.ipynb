{
 "cells": [
  {
   "cell_type": "markdown",
   "metadata": {},
   "source": [
    "## 모듈의 이름 공간\n",
    "\n",
    "- 모듈은 분리할수 있는 코드들을 헷갈리지 않도록 다른 파일들로 나눠 정리한것이다. \n",
    "\n",
    "\n",
    "- 함수랑 매우 비슷하나, 모듈은 다른 파일로 정의해 둔 것이다.  \n"
   ]
  },
  {
   "cell_type": "markdown",
   "metadata": {},
   "source": [
    "## 모듈의 종류\n",
    "\n",
    "1. 파이썬의 표준 모듈\n",
    " * 파이썬에서 기본적으로 제공해주는 모듈이다\n",
    "  \n",
    "  \n",
    "2. 사용자 정의 모듈\n",
    " * 개발자가 직접만든 모듈이다\n",
    "  \n",
    "  \n",
    "3. 외부 모듈\n",
    " * 다른 업체들이나 사람들이 사용하라고 만든 모듈\n",
    "  "
   ]
  },
  {
   "cell_type": "code",
   "execution_count": 1,
   "metadata": {},
   "outputs": [],
   "source": [
    "#예시\n",
    "import random \n",
    "import keyword"
   ]
  },
  {
   "cell_type": "markdown",
   "metadata": {},
   "source": [
    "1. 모듈은 언제 쓸일거라는 생각으로 만들어둔 파일들이다\n",
    "2. 모듈들을 잘 아는 만큼 잘 사용할수있다\n",
    "\n",
    "#### 파이썬이 유명해진 이유가 유용한 기능(모듈)들이 많아서 인공지능, 빅데이터같은 복잡한 것들을 할때 도움이 많이된다."
   ]
  },
  {
   "cell_type": "markdown",
   "metadata": {},
   "source": [
    "## 외부 모듈\n",
    "1. 웹 크롤링, 빅데이터 분석, 인공지능"
   ]
  },
  {
   "cell_type": "code",
   "execution_count": 4,
   "metadata": {},
   "outputs": [],
   "source": [
    "import os\n",
    "#operating system\n",
    "#표준 모듈\n",
    "#컴퓨터(os) 자체에 접근할수 있도록 도와줌"
   ]
  },
  {
   "cell_type": "code",
   "execution_count": 5,
   "metadata": {},
   "outputs": [
    {
     "data": {
      "text/plain": [
       "'/Users/derekkim175/Documents/git/derekcode/python'"
      ]
     },
     "execution_count": 5,
     "metadata": {},
     "output_type": "execute_result"
    }
   ],
   "source": [
    "os.getcwd()"
   ]
  },
  {
   "cell_type": "code",
   "execution_count": 6,
   "metadata": {},
   "outputs": [],
   "source": [
    "os.mkdir(\"abc\")"
   ]
  },
  {
   "cell_type": "code",
   "execution_count": 7,
   "metadata": {},
   "outputs": [],
   "source": [
    "os.rmdir(\"abc\")"
   ]
  },
  {
   "cell_type": "code",
   "execution_count": 8,
   "metadata": {},
   "outputs": [
    {
     "data": {
      "text/plain": [
       "'derekkim175'"
      ]
     },
     "execution_count": 8,
     "metadata": {},
     "output_type": "execute_result"
    }
   ],
   "source": [
    "os.getlogin()"
   ]
  },
  {
   "cell_type": "code",
   "execution_count": 9,
   "metadata": {},
   "outputs": [
    {
     "data": {
      "text/plain": [
       "3842"
      ]
     },
     "execution_count": 9,
     "metadata": {},
     "output_type": "execute_result"
    }
   ],
   "source": [
    "os.getpid()"
   ]
  },
  {
   "cell_type": "code",
   "execution_count": 10,
   "metadata": {},
   "outputs": [],
   "source": [
    "import calendar"
   ]
  },
  {
   "cell_type": "code",
   "execution_count": 24,
   "metadata": {},
   "outputs": [
    {
     "name": "stdout",
     "output_type": "stream",
     "text": [
      "                   April 2020\n",
      "\n",
      "\n",
      " Mon    Tue    Wed    Thu    Fri    Sat    Sun\n",
      "\n",
      "\n",
      "                 1      2      3      4      5\n",
      "\n",
      "\n",
      "   6      7      8      9     10     11     12\n",
      "\n",
      "\n",
      "  13     14     15     16     17     18     19\n",
      "\n",
      "\n",
      "  20     21     22     23     24     25     26\n",
      "\n",
      "\n",
      "  27     28     29     30\n",
      "\n",
      "\n"
     ]
    }
   ],
   "source": [
    "calendar.prmonth(2020,4, w=6, l=3)"
   ]
  }
 ],
 "metadata": {
  "kernelspec": {
   "display_name": "Python 3",
   "language": "python",
   "name": "python3"
  },
  "language_info": {
   "codemirror_mode": {
    "name": "ipython",
    "version": 3
   },
   "file_extension": ".py",
   "mimetype": "text/x-python",
   "name": "python",
   "nbconvert_exporter": "python",
   "pygments_lexer": "ipython3",
   "version": "3.7.4"
  }
 },
 "nbformat": 4,
 "nbformat_minor": 2
}
