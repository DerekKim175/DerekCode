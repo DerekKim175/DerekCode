{
 "cells": [
  {
   "cell_type": "code",
   "execution_count": 1,
   "metadata": {},
   "outputs": [],
   "source": [
    "import requests\n",
    "import bs4"
   ]
  },
  {
   "cell_type": "code",
   "execution_count": 2,
   "metadata": {},
   "outputs": [
    {
     "name": "stdout",
     "output_type": "stream",
     "text": [
      "<Response [200]>\n"
     ]
    }
   ],
   "source": [
    "url = \"https://www.naver.com\"\n",
    "requests_get = requests.get(url)\n",
    "print(requests_get)"
   ]
  },
  {
   "cell_type": "code",
   "execution_count": 3,
   "metadata": {},
   "outputs": [],
   "source": [
    "html_text = requests_get.text"
   ]
  },
  {
   "cell_type": "markdown",
   "metadata": {},
   "source": [
    "## BeautifulSoup4 (Bs4)\n",
    "  - 홈페이지의 태그를 기반으로 분석을 할 수 있도록 도와주는 외부모듈\n"
   ]
  },
  {
   "cell_type": "code",
   "execution_count": 5,
   "metadata": {},
   "outputs": [],
   "source": [
    "bs4_parse = bs4.BeautifulSoup(html_text,'html')"
   ]
  },
  {
   "cell_type": "code",
   "execution_count": 6,
   "metadata": {},
   "outputs": [
    {
     "data": {
      "text/plain": [
       "<li class=\"on _recentTab\"><a href=\"javascript:;\">최근검색어</a></li>"
      ]
     },
     "execution_count": 6,
     "metadata": {},
     "output_type": "execute_result"
    }
   ],
   "source": [
    "bs4_parse.find('li')"
   ]
  },
  {
   "cell_type": "code",
   "execution_count": 9,
   "metadata": {},
   "outputs": [
    {
     "name": "stdout",
     "output_type": "stream",
     "text": [
      "<class 'str'>\n",
      "<class 'bs4.BeautifulSoup'>\n"
     ]
    }
   ],
   "source": [
    "print(type(html_text))\n",
    "print(type(bs4_parse))"
   ]
  },
  {
   "cell_type": "code",
   "execution_count": 10,
   "metadata": {},
   "outputs": [],
   "source": [
    "test_html = \"\"\"<!doctype html>\n",
    "<html>\n",
    "   <head>\n",
    "      <title>My Homepage</title>\n",
    "      <style type=\"text/css\">\n",
    "         .a {\n",
    "            color: red;\n",
    "         }\n",
    "         #b {\n",
    "            color: blue;\n",
    "         }\n",
    "      </style>\n",
    "   </head>\n",
    "\n",
    "   <body>\n",
    "      <li style=\"color: green;\">\n",
    "         1\n",
    "      </li>\n",
    "      <li id = 'b'>\n",
    "         1\n",
    "      </li>\n",
    "      <li>\n",
    "         1\n",
    "      </li>\n",
    "\n",
    "      <p class=\"a\">adsfasdf</p>\n",
    "      안녕 ?\n",
    "\n",
    "      <div class=\"a\">\n",
    "         value\n",
    "      </div>\n",
    "   </body>\n",
    "</html>\"\"\""
   ]
  },
  {
   "cell_type": "code",
   "execution_count": 11,
   "metadata": {},
   "outputs": [],
   "source": [
    "soup = bs4.BeautifulSoup(test_html,\"html\")"
   ]
  },
  {
   "cell_type": "code",
   "execution_count": 12,
   "metadata": {},
   "outputs": [
    {
     "data": {
      "text/plain": [
       "<p class=\"a\">adsfasdf</p>"
      ]
     },
     "execution_count": 12,
     "metadata": {},
     "output_type": "execute_result"
    }
   ],
   "source": [
    "soup.find('p')"
   ]
  },
  {
   "cell_type": "code",
   "execution_count": 13,
   "metadata": {},
   "outputs": [
    {
     "data": {
      "text/plain": [
       "<body>\n",
       "<li style=\"color: green;\">\n",
       "         1\n",
       "      </li>\n",
       "<li id=\"b\">\n",
       "         1\n",
       "      </li>\n",
       "<li>\n",
       "         1\n",
       "      </li>\n",
       "<p class=\"a\">adsfasdf</p>\n",
       "      안녕 ?\n",
       "\n",
       "      <div class=\"a\">\n",
       "         value\n",
       "      </div>\n",
       "</body>"
      ]
     },
     "execution_count": 13,
     "metadata": {},
     "output_type": "execute_result"
    }
   ],
   "source": [
    "soup.find('body')"
   ]
  },
  {
   "cell_type": "code",
   "execution_count": 18,
   "metadata": {},
   "outputs": [],
   "source": [
    "a = soup.find_all('li')"
   ]
  },
  {
   "cell_type": "code",
   "execution_count": 19,
   "metadata": {},
   "outputs": [
    {
     "data": {
      "text/plain": [
       "<li style=\"color: green;\">\n",
       "         1\n",
       "      </li>"
      ]
     },
     "execution_count": 19,
     "metadata": {},
     "output_type": "execute_result"
    }
   ],
   "source": [
    "soup.find('li')"
   ]
  },
  {
   "cell_type": "code",
   "execution_count": 33,
   "metadata": {},
   "outputs": [
    {
     "name": "stdout",
     "output_type": "stream",
     "text": [
      "\n",
      "         1\n",
      "      \n",
      "[<li style=\"color: green;\">\n",
      "         1\n",
      "      </li>, <li id=\"b\">\n",
      "         1\n",
      "      </li>, <li>\n",
      "         1\n",
      "      </li>]\n"
     ]
    }
   ],
   "source": [
    "print(a[0].text)\n",
    "print(a)"
   ]
  },
  {
   "cell_type": "code",
   "execution_count": 21,
   "metadata": {},
   "outputs": [],
   "source": [
    "naver = \"https://www.naver.com\"\n",
    "request_get = requests.get(naver)\n",
    "naver_source = requests_get.text"
   ]
  },
  {
   "cell_type": "code",
   "execution_count": 24,
   "metadata": {},
   "outputs": [],
   "source": [
    "bs4_naver = bs4.BeautifulSoup(naver_source, 'html')"
   ]
  },
  {
   "cell_type": "code",
   "execution_count": 36,
   "metadata": {},
   "outputs": [],
   "source": [
    "x = bs4_naver.find_all('span',attrs={'class','an_txt'})"
   ]
  },
  {
   "cell_type": "code",
   "execution_count": 39,
   "metadata": {},
   "outputs": [
    {
     "name": "stdout",
     "output_type": "stream",
     "text": [
      "메일\n"
     ]
    }
   ],
   "source": [
    "print(x[0].text)"
   ]
  },
  {
   "cell_type": "code",
   "execution_count": 42,
   "metadata": {},
   "outputs": [
    {
     "name": "stdout",
     "output_type": "stream",
     "text": [
      "메일\n",
      "카페\n",
      "블로그\n",
      "지식인\n",
      "쇼핑\n",
      "네이버페이\n",
      "네이버TV\n",
      "사전\n",
      "뉴스\n",
      "증권(금융)\n",
      "부동산\n",
      "지도\n",
      "영화\n",
      "뮤직\n",
      "책\n",
      "만화 / 웹툰\n"
     ]
    }
   ],
   "source": [
    "for i in range(0,len(x)):\n",
    "    print(x[i].text)"
   ]
  },
  {
   "cell_type": "code",
   "execution_count": 43,
   "metadata": {},
   "outputs": [],
   "source": [
    "movie_url = 'https://movie.naver.com/movie/sdb/rank/rmovie.nhn'\n",
    "movie_requests = requests.get(movie_url)\n",
    "movie_html = movie_requests.text"
   ]
  },
  {
   "cell_type": "code",
   "execution_count": 46,
   "metadata": {},
   "outputs": [],
   "source": [
    "bs4_movie = bs4.BeautifulSoup(movie_html, 'html')"
   ]
  },
  {
   "cell_type": "code",
   "execution_count": 51,
   "metadata": {},
   "outputs": [],
   "source": [
    "rank = bs4_movie.find_all('div', attrs={'class','tit3'})"
   ]
  },
  {
   "cell_type": "code",
   "execution_count": 57,
   "metadata": {},
   "outputs": [
    {
     "name": "stdout",
     "output_type": "stream",
     "text": [
      "1 : 인비저블맨\n",
      "2 : 다크 워터스\n",
      "3 : 1917\n",
      "4 : 지푸라기라도 잡고 싶은 짐승들\n",
      "5 : 작은 아씨들\n",
      "6 : 사랑하고 있습니까\n",
      "7 : 정직한 후보\n",
      "8 : 더 보이 2: 돌아온 브람스\n",
      "9 : 세인트 아가타\n",
      "10 : 악몽\n",
      "11 : 일진 나쁜녀석들\n",
      "12 : 클로젯\n",
      "13 : 찬실이는 복도 많지\n",
      "14 : 스타 이즈 본\n",
      "15 : 용길이네 곱창집\n",
      "16 : 스타워즈: 라이즈 오브 스카이워커\n",
      "17 : 신과 나: 100일간의 거래\n",
      "18 : 비행\n",
      "19 : 울프 콜\n",
      "20 : 슬럼독 밀리어네어\n",
      "21 : 시원찮은 그녀를 위한 육성방법 피날레\n",
      "22 : 그린 북\n",
      "23 : 공수도\n",
      "24 : 존 윅\n",
      "25 : 기생충\n",
      "26 : 마녀\n",
      "27 : 분노의 질주: 더 익스트림\n",
      "28 : 스케어리 스토리: 어둠의 속삭임\n",
      "29 : 컨테이젼\n",
      "30 : 버즈 오브 프레이(할리 퀸의 황홀한 해방)\n",
      "31 : 젠틀맨\n",
      "32 : 파라다이스 힐스\n",
      "33 : 광대들: 풍문조작단\n",
      "34 : 히트맨\n",
      "35 : 치즈인더트랩\n",
      "36 : 블랙 위도우\n",
      "37 : 스킨\n",
      "38 : 반도\n",
      "39 : 사냥의 시간\n",
      "40 : 우키시마호\n",
      "41 : 신문기자\n",
      "42 : 아일랜드\n",
      "43 : 우아한 거짓말\n",
      "44 : 어바웃 타임\n",
      "45 : 주디\n",
      "46 : 남산의 부장들\n",
      "47 : 베놈\n",
      "48 : 침입자\n",
      "49 : 엽문4: 더 파이널\n",
      "50 : 나이브스 아웃\n"
     ]
    }
   ],
   "source": [
    "for i in range(0,len(rank)):\n",
    "    print(i+1,':',rank[i].text.strip())"
   ]
  }
 ],
 "metadata": {
  "kernelspec": {
   "display_name": "Python 3",
   "language": "python",
   "name": "python3"
  },
  "language_info": {
   "codemirror_mode": {
    "name": "ipython",
    "version": 3
   },
   "file_extension": ".py",
   "mimetype": "text/x-python",
   "name": "python",
   "nbconvert_exporter": "python",
   "pygments_lexer": "ipython3",
   "version": "3.7.4"
  }
 },
 "nbformat": 4,
 "nbformat_minor": 2
}
