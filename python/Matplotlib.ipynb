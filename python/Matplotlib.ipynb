{
 "cells": [
  {
   "cell_type": "code",
   "execution_count": 9,
   "metadata": {},
   "outputs": [
    {
     "data": {
      "image/png": "[encoded data removed]",
      "text/plain": [
       "<Figure size 432x288 with 9 Axes>"
      ]
     },
     "metadata": {
      "needs_background": "light"
     },
     "output_type": "display_data"
    }
   ],
   "source": [
    "import matplotlib.pyplot as plt\n",
    "%matplotlib inline\n",
    "\n",
    "figure = plt.figure()\n",
    "axes1 = figure.add_subplot(331)\n",
    "axes2 = figure.add_subplot(332)\n",
    "\n",
    "axes1.plot([1,3])\n",
    "axes2.plot([3,1])\n",
    "\n",
    "axes3 = figure.add_subplot(3,3,3)\n",
    "axes4 = figure.add_subplot(3,3,4)\n",
    "axes5 = figure.add_subplot(3,3,5)\n",
    "axes6 = figure.add_subplot(3,3,6)\n",
    "axes7 = figure.add_subplot(3,3,7)\n",
    "axes8 = figure.add_subplot(3,3,8)\n",
    "axes9 = figure.add_subplot(3,3,9)\n",
    "\n",
    "plt.show()"
   ]
  },
  {
   "cell_type": "code",
   "execution_count": 12,
   "metadata": {},
   "outputs": [
    {
     "data": {
      "image/png": "[encoded data removed]",
      "text/plain": [
       "<Figure size 432x288 with 1 Axes>"
      ]
     },
     "metadata": {
      "needs_background": "light"
     },
     "output_type": "display_data"
    }
   ],
   "source": [
    "figure = plt.figure()\n",
    "axes = figure.add_subplot()\n",
    "\n",
    "x = [1,2,3,4]\n",
    "y = [2,4,6,8]\n",
    "x2 = [1,2,3,4]\n",
    "y2 = [-2,-4,-6,-8]\n",
    "axes.plot(x,y, marker='o')\n",
    "axes.plot(x2,y2)\n",
    "plt.show()"
   ]
  },
  {
   "cell_type": "code",
   "execution_count": 13,
   "metadata": {},
   "outputs": [],
   "source": [
    "import pymysql"
   ]
  },
  {
   "cell_type": "code",
   "execution_count": 19,
   "metadata": {},
   "outputs": [],
   "source": [
    "db = pymysql.connect(host='127.0.0.1', port=3306, user='root', passwd = 'Chiggawithagun1.', db='weather', charset='utf8')\n",
    "cursor = db.cursor()"
   ]
  },
  {
   "cell_type": "code",
   "execution_count": 33,
   "metadata": {},
   "outputs": [
    {
     "name": "stdout",
     "output_type": "stream",
     "text": [
      "(('USA', '738,923'), ('Spain', '195,944'), ('Italy', '175,925'), ('France', '151,793'), ('Germany', '143,724'), ('UK', '114,217'), ('Turkey', '82,329'), ('Iran', '82,211'), ('Russia', '42,853'), ('Belgium', '38,496'), ('Brazil', '36,925'), ('Canada', '33,383'), ('Netherlands', '31,589'), ('Switzerland', '27,404'), ('Portugal', '19,685'), ('India', '16,365'), ('Ireland', '14,758'), ('Austria', '14,681'), ('Peru', '14,420'), ('Sweden', '13,822'), ('Israel', '13,362'), ('S. Korea', '10,661'), ('Japan', '10,296'), ('Chile', '9,730'), ('Poland', '9,082'), ('Ecuador', '9,022'), ('Romania', '8,746'), ('Saudi Arabia', '8,274'), ('Pakistan', '7,993'), ('Mexico', '7,497'), ('Denmark', '7,242'), ('Norway', '7,069'), ('UAE', '6,781'), ('Czechia', '6,657'), ('Australia', '6,606'), ('Singapore', '6,588'), ('Indonesia', '6,575'), ('Philippines', '6,259'), ('Serbia', '5,994'), ('Ukraine', '5,449'), ('Qatar', '5,448'), ('Malaysia', '5,389'), ('Belarus', '4,779'), ('Dominican Republic', '4,335'), ('Panama', '4,273'), ('Finland', '3,783'), ('Colombia', '3,621'), ('Luxembourg', '3,537'), ('South Africa', '3,034'), ('Egypt', '3,032'))\n"
     ]
    }
   ],
   "source": [
    "sql = \"SELECT country,total_cases FROM weather.CoronaVirus_Data where date > '2020-04-18';\"\n",
    "cursor.execute(sql)\n",
    "db.commit()\n",
    "result = cursor.fetchall()\n",
    "print(result)"
   ]
  },
  {
   "cell_type": "code",
   "execution_count": 23,
   "metadata": {},
   "outputs": [
    {
     "data": {
      "text/plain": [
       "tuple"
      ]
     },
     "execution_count": 23,
     "metadata": {},
     "output_type": "execute_result"
    }
   ],
   "source": [
    "type(result)"
   ]
  },
  {
   "cell_type": "code",
   "execution_count": 24,
   "metadata": {},
   "outputs": [
    {
     "name": "stdout",
     "output_type": "stream",
     "text": [
      "(1, 'USA', '533,115', '+236', '20,580 ', '+3', datetime.datetime(2020, 4, 12, 22, 0, 6))\n"
     ]
    }
   ],
   "source": [
    "temp = result[0]\n",
    "print(temp)"
   ]
  },
  {
   "cell_type": "code",
   "execution_count": 25,
   "metadata": {},
   "outputs": [
    {
     "name": "stdout",
     "output_type": "stream",
     "text": [
      "533,115\n"
     ]
    }
   ],
   "source": [
    "temp2 = temp[2]\n",
    "print(temp2)"
   ]
  },
  {
   "cell_type": "code",
   "execution_count": 26,
   "metadata": {},
   "outputs": [
    {
     "data": {
      "text/plain": [
       "str"
      ]
     },
     "execution_count": 26,
     "metadata": {},
     "output_type": "execute_result"
    }
   ],
   "source": [
    "type(temp2)"
   ]
  },
  {
   "cell_type": "code",
   "execution_count": 27,
   "metadata": {},
   "outputs": [],
   "source": [
    "temp2 = temp2.replace(',','')"
   ]
  },
  {
   "cell_type": "code",
   "execution_count": 28,
   "metadata": {},
   "outputs": [
    {
     "name": "stdout",
     "output_type": "stream",
     "text": [
      "533115\n"
     ]
    }
   ],
   "source": [
    "print(temp2)"
   ]
  },
  {
   "cell_type": "code",
   "execution_count": 29,
   "metadata": {},
   "outputs": [],
   "source": [
    "temp2 = int(temp2)"
   ]
  },
  {
   "cell_type": "code",
   "execution_count": 30,
   "metadata": {},
   "outputs": [
    {
     "data": {
      "text/plain": [
       "int"
      ]
     },
     "execution_count": 30,
     "metadata": {},
     "output_type": "execute_result"
    }
   ],
   "source": [
    "type(temp2)"
   ]
  },
  {
   "cell_type": "code",
   "execution_count": 32,
   "metadata": {},
   "outputs": [
    {
     "name": "stdout",
     "output_type": "stream",
     "text": [
      "USA\n",
      "533,115\n",
      "Spain\n",
      "166,019\n",
      "Italy\n",
      "152,271\n",
      "France\n",
      "129,654\n",
      "Germany\n",
      "125,452\n",
      "UK\n",
      "78,991\n",
      "Iran\n",
      "71,686\n",
      "Turkey\n",
      "52,167\n",
      "Belgium\n",
      "29,647\n",
      "Netherlands\n",
      "25,587\n",
      "Switzerland\n",
      "25,300\n",
      "Canada\n",
      "23,318\n",
      "Brazil\n",
      "20,984\n",
      "Portugal\n",
      "16,585\n",
      "Russia\n",
      "15,770\n",
      "Austria\n",
      "13,945\n",
      "Israel\n",
      "10,878\n",
      "S. Korea\n",
      "10,512\n",
      "Sweden\n",
      "10,483\n",
      "Ireland\n",
      "8,928\n",
      "India\n",
      "8,504\n",
      "Ecuador\n",
      "7,257\n",
      "Chile\n",
      "6,927\n",
      "Peru\n",
      "6,848\n",
      "Japan\n",
      "6,748\n",
      "Norway\n",
      "6,459\n",
      "Poland\n",
      "6,356\n",
      "Australia\n",
      "6,313\n",
      "Romania\n",
      "6,300\n",
      "Denmark\n",
      "6,174\n",
      "Czechia\n",
      "5,905\n",
      "Pakistan\n",
      "5,170\n",
      "Malaysia\n",
      "4,683\n",
      "Philippines\n",
      "4,648\n",
      "Saudi Arabia\n",
      "4,462\n",
      "Indonesia\n",
      "4,241\n",
      "Mexico\n",
      "4,219\n",
      "UAE\n",
      "3,736\n",
      "Serbia\n",
      "3,380\n",
      "Luxembourg\n",
      "3,270\n",
      "Panama\n",
      "3,234\n",
      "Qatar\n",
      "2,979\n",
      "Finland\n",
      "2,974\n",
      "Ukraine\n",
      "2,777\n",
      "Dominican Republic\n",
      "2,759\n",
      "Colombia\n",
      "2,709\n",
      "Belarus\n",
      "2,578\n",
      "Thailand\n",
      "2,551\n",
      "Singapore\n",
      "2,299\n",
      "Argentina\n",
      "2,142\n",
      "USA\n",
      "560,433\n",
      "USA\n",
      "560,433\n",
      "USA\n",
      "738,923\n",
      "Spain\n",
      "195,944\n",
      "Italy\n",
      "175,925\n",
      "France\n",
      "151,793\n",
      "Germany\n",
      "143,724\n",
      "UK\n",
      "114,217\n",
      "Turkey\n",
      "82,329\n",
      "Iran\n",
      "82,211\n",
      "Russia\n",
      "42,853\n",
      "Belgium\n",
      "38,496\n",
      "Brazil\n",
      "36,925\n",
      "Canada\n",
      "33,383\n",
      "Netherlands\n",
      "31,589\n",
      "Switzerland\n",
      "27,404\n",
      "Portugal\n",
      "19,685\n",
      "India\n",
      "16,365\n",
      "Ireland\n",
      "14,758\n",
      "Austria\n",
      "14,681\n",
      "Peru\n",
      "14,420\n",
      "Sweden\n",
      "13,822\n",
      "Israel\n",
      "13,362\n",
      "S. Korea\n",
      "10,661\n",
      "Japan\n",
      "10,296\n",
      "Chile\n",
      "9,730\n",
      "Poland\n",
      "9,082\n",
      "Ecuador\n",
      "9,022\n",
      "Romania\n",
      "8,746\n",
      "Saudi Arabia\n",
      "8,274\n",
      "Pakistan\n",
      "7,993\n",
      "Mexico\n",
      "7,497\n",
      "Denmark\n",
      "7,242\n",
      "Norway\n",
      "7,069\n",
      "UAE\n",
      "6,781\n",
      "Czechia\n",
      "6,657\n",
      "Australia\n",
      "6,606\n",
      "Singapore\n",
      "6,588\n",
      "Indonesia\n",
      "6,575\n",
      "Philippines\n",
      "6,259\n",
      "Serbia\n",
      "5,994\n",
      "Ukraine\n",
      "5,449\n",
      "Qatar\n",
      "5,448\n",
      "Malaysia\n",
      "5,389\n",
      "Belarus\n",
      "4,779\n",
      "Dominican Republic\n",
      "4,335\n",
      "Panama\n",
      "4,273\n",
      "Finland\n",
      "3,783\n",
      "Colombia\n",
      "3,621\n",
      "Luxembourg\n",
      "3,537\n",
      "South Africa\n",
      "3,034\n",
      "Egypt\n",
      "3,032\n"
     ]
    }
   ],
   "source": [
    "for i,j in result:\n",
    "    print(i)\n",
    "    print(j)"
   ]
  },
  {
   "cell_type": "code",
   "execution_count": 36,
   "metadata": {},
   "outputs": [
    {
     "name": "stdout",
     "output_type": "stream",
     "text": [
      "[(738923, 'USA'), (195944, 'Spain'), (175925, 'Italy'), (151793, 'France'), (143724, 'Germany'), (114217, 'UK'), (82329, 'Turkey'), (82211, 'Iran'), (42853, 'Russia'), (38496, 'Belgium'), (36925, 'Brazil')]\n"
     ]
    }
   ],
   "source": [
    "temp_list = []\n",
    "for i,j in result:\n",
    "    j = int(j.replace(',',''))\n",
    "    temp_list.append((j,i))\n",
    "temp_list.sort(reverse = True)\n",
    "print(temp_list[:11])"
   ]
  },
  {
   "cell_type": "code",
   "execution_count": 37,
   "metadata": {},
   "outputs": [
    {
     "data": {
      "image/png": "[encoded data removed]",
      "text/plain": [
       "<Figure size 432x288 with 1 Axes>"
      ]
     },
     "metadata": {
      "needs_background": "light"
     },
     "output_type": "display_data"
    }
   ],
   "source": [
    "import matplotlib.pyplot as plt\n",
    "%matplotlib inline\n",
    "figure = plt.figure()\n",
    "axes = figure.add_subplot()\n",
    "\n",
    "temp_list = temp_list[:11]\n",
    "x=[]\n",
    "y=[]\n",
    "for i,j in temp_list:\n",
    "    x.append(j)\n",
    "    y.append(i)\n",
    "\n",
    "axes.bar(x,y)\n",
    "plt.show()"
   ]
  },
  {
   "cell_type": "code",
   "execution_count": null,
   "metadata": {},
   "outputs": [],
   "source": []
  }
 ],
 "metadata": {
  "kernelspec": {
   "display_name": "Python 3",
   "language": "python",
   "name": "python3"
  },
  "language_info": {
   "codemirror_mode": {
    "name": "ipython",
    "version": 3
   },
   "file_extension": ".py",
   "mimetype": "text/x-python",
   "name": "python",
   "nbconvert_exporter": "python",
   "pygments_lexer": "ipython3",
   "version": "3.7.4"
  }
 },
 "nbformat": 4,
 "nbformat_minor": 2
}
