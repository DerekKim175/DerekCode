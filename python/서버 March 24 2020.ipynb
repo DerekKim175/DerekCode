{
 "cells": [
  {
   "cell_type": "markdown",
   "metadata": {},
   "source": [
    "## 서버\n",
    "- 서버는 컴퓨터다\n",
    "- 서버는 항상 클라이언트랑 같이 묶인다\n",
    "- 클라이언트들이 (일반 사용자들) 접속할수있는 컴퓨터이다\n",
    "- 웹 서버\n",
    "  - 홈페이지를 볼수 있을겄이다\n",
    "- 데이터베이스 서버\n",
    "  - 데이터를 볼수있다\n",
    "- 프론트엔드\n",
    "  - 디자인같은거를 신경쓰는 직업\n",
    "- 백엔드\n",
    "  - 서버자체를 관리하는 사람\n",
    "\n",
    "## MySQL\n",
    "- 데이터베이스를 저장하는 서버\n",
    "- 관계형 데이터베이스\n",
    "\n",
    "### user\n",
    "1. 이름\n",
    "2. 나이\n",
    "3. 번호\n",
    "4. 이메일\n",
    "\n",
    "## Schema\n",
    "- 테이블들의 집합, 구조\n",
    "- 스키마들끼리는 공유가 안된다\n",
    "\n",
    "## Table\n",
    "- 표의 형식으로 스키마 안에다가 저장한다\n",
    "- 표는 서로 공유가 가능하다\n",
    "- 하나의 스키마에는 여러 표가 있고 데이터베이스 안에 여러개의 표가 있을수있다"
   ]
  },
  {
   "cell_type": "markdown",
   "metadata": {},
   "source": [
    "## 조사 (숙제)\n",
    "\n",
    "- MySQL 질의문 정의, 종류와 사용법 (정리), 데이터베이스의 정의"
   ]
  },
  {
   "cell_type": "markdown",
   "metadata": {},
   "source": [
    "### 질의문, 쿼리문, 명령어\n",
    "1. 정의\n",
    "  - MySQL 의 질의문은 말대로 MySQL한테 명령하는 코드들이다\n",
    "2. 종류, 사용법\n",
    "  - 질의문의 종류는 다양하다\n",
    "  - 기본적으로 접속방법, 비밀번호 변경, 조회, 조인, distinct, group by, having, subquery, 등등있다\n",
    "  - \n",
    "### 데이터베이스\n",
    "- 정의\n",
    "  - 데이터베이스는 데이터의 집합이며 많은 사람들에게 공유되며 관리할수있는 시스템이다. "
   ]
  }
 ],
 "metadata": {
  "kernelspec": {
   "display_name": "Python 3",
   "language": "python",
   "name": "python3"
  },
  "language_info": {
   "codemirror_mode": {
    "name": "ipython",
    "version": 3
   },
   "file_extension": ".py",
   "mimetype": "text/x-python",
   "name": "python",
   "nbconvert_exporter": "python",
   "pygments_lexer": "ipython3",
   "version": "3.7.4"
  }
 },
 "nbformat": 4,
 "nbformat_minor": 2
}
