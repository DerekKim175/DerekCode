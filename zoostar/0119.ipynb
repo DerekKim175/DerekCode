{
 "cells": [
  {
   "cell_type": "code",
   "execution_count": 2,
   "metadata": {},
   "outputs": [],
   "source": [
    "# 문자열 포맷, 문자열 함수\n",
    "\n",
    "letter_heo = \"\"\"\n",
    "안녕하세요. 허주성 고객님 !\n",
    "현대자동차 고객센터입니다. \n",
    "고객님이 소유한 자동차 소나타는 현재 2020년 구입하신지 2년되었습니다. \n",
    "정기점검을 받으셔야합니다. \n",
    "빠른 시일내 가까운 서비스센터에 방문바랍니다.\n",
    "\"\"\"\n",
    "letter_kim = \"\"\"\n",
    "안녕하세요. 김민우 고객님 !\n",
    "현대자동차 고객센터입니다. \n",
    "고객님이 소유한 자동차 아반떼는 현재 2020년 구입하신지 1년되었습니다. \n",
    "정기점검을 받으셔야합니다. \n",
    "빠른 시일내 가까운 서비스센터에 방문바랍니다.\n",
    "\"\"\"\n",
    "\n"
   ]
  },
  {
   "cell_type": "code",
   "execution_count": 8,
   "metadata": {},
   "outputs": [
    {
     "name": "stdout",
     "output_type": "stream",
     "text": [
      "안녕하세요. 소나타 고객님. 소유하신 자동차 허주성는 현재 구입하신지 2년 되었습니다.\n",
      "안녕하세요. 2 고객님. 소유하신 자동차 허주성는 현재 구입하신지 소나타년 되었습니다.\n",
      "안녕하세요. 허주성 고객님. 소유하신 자동차 소나타는 현재 구입하신지 2년 되었습니다.\n"
     ]
    }
   ],
   "source": [
    "a = \"안녕하세요. {1} 고객님. 소유하신 자동차 {0}는 현재 구입하신지 {2}년 되었습니다.\".format('허주성','소나타',2)\n",
    "b = \"안녕하세요. {2} 고객님. 소유하신 자동차 {0}는 현재 구입하신지 {1}년 되었습니다.\".format('허주성','소나타',2)\n",
    "c = \"안녕하세요. {} 고객님. 소유하신 자동차 {}는 현재 구입하신지 {}년 되었습니다.\".format('허주성','소나타',2)\n",
    "print(a)\n",
    "print(b)\n",
    "print(c)"
   ]
  },
  {
   "cell_type": "code",
   "execution_count": 17,
   "metadata": {},
   "outputs": [
    {
     "name": "stdout",
     "output_type": "stream",
     "text": [
      "2.00 X 2.0 = 4\n"
     ]
    }
   ],
   "source": [
    "a = \"{:0.2f} X {} = {}\".format(2,2.0,4)\n",
    "print(a)"
   ]
  },
  {
   "cell_type": "code",
   "execution_count": 28,
   "metadata": {},
   "outputs": [
    {
     "name": "stdout",
     "output_type": "stream",
     "text": [
      "[1, 2, 3, 4, 5, 6]\n"
     ]
    }
   ],
   "source": [
    "# 함수 \n",
    "# 내장 함수\n",
    "# 파이썬이 기본으로 제공하는 함수\n",
    "\n",
    "a = [5,3,2,1,6,4]\n",
    "\n",
    "print(sorted(a))\n"
   ]
  },
  {
   "cell_type": "code",
   "execution_count": 34,
   "metadata": {},
   "outputs": [
    {
     "name": "stdout",
     "output_type": "stream",
     "text": [
      "ABCEFG\n",
      "AbCdEf\n",
      "Hello, My Name Is Joo-Seong Heo\n"
     ]
    }
   ],
   "source": [
    "#문자열에도 함수를 제공해주고 있습니다.\n",
    "\n",
    "a = \"abcefg\"\n",
    "print(a.upper())\n",
    "b = \"aBcDeF\"\n",
    "print(b.swapcase())\n",
    "\n",
    "c = \"hello, my name is Joo-Seong Heo\"\n",
    "\n",
    "print(c.title())"
   ]
  },
  {
   "cell_type": "code",
   "execution_count": 45,
   "metadata": {},
   "outputs": [
    {
     "name": "stdout",
     "output_type": "stream",
     "text": [
      "2\n",
      "허주성\n",
      "13\n",
      "허주성\n"
     ]
    }
   ],
   "source": [
    "d = 'abcde'\n",
    "print(d.find('c'))\n",
    "\n",
    "d = '안녕하세요. 제 이름은 허주성입니다.'\n",
    "print(d[13:16])\n",
    "print(d.find('허'))\n",
    "print(d[d.find('허'):d.find('입')])"
   ]
  },
  {
   "cell_type": "code",
   "execution_count": 47,
   "metadata": {},
   "outputs": [
    {
     "name": "stdout",
     "output_type": "stream",
     "text": [
      "0\n",
      "0\n",
      "0\n"
     ]
    }
   ],
   "source": [
    "d = '안녕하세요. 안녕? 안녕하십니까'\n",
    "print(d.find('안'))\n",
    "print(d.find('안'))\n",
    "print(d.find('안'))"
   ]
  },
  {
   "cell_type": "code",
   "execution_count": 50,
   "metadata": {},
   "outputs": [
    {
     "name": "stdout",
     "output_type": "stream",
     "text": [
      "False\n"
     ]
    }
   ],
   "source": [
    "a = '가'\n",
    "print(a.isdigit())"
   ]
  },
  {
   "cell_type": "code",
   "execution_count": 55,
   "metadata": {},
   "outputs": [
    {
     "name": "stdout",
     "output_type": "stream",
     "text": [
      "True\n"
     ]
    }
   ],
   "source": [
    "a = '1'\n",
    "print(a.isdigit())"
   ]
  },
  {
   "cell_type": "code",
   "execution_count": 56,
   "metadata": {},
   "outputs": [
    {
     "name": "stdout",
     "output_type": "stream",
     "text": [
      "1.0\n",
      "<class 'float'>\n"
     ]
    }
   ],
   "source": [
    "a = float(a)\n",
    "print(a)\n",
    "print(type(a))"
   ]
  },
  {
   "cell_type": "code",
   "execution_count": 57,
   "metadata": {},
   "outputs": [
    {
     "name": "stdout",
     "output_type": "stream",
     "text": [
      "<class 'int'>\n",
      "123\n",
      "<class 'str'>\n",
      "True\n"
     ]
    }
   ],
   "source": [
    "b = 123\n",
    "print(type(b))\n",
    "\n",
    "b = str(b)\n",
    "print(b)\n",
    "print(type(b))\n",
    "print(b.isdigit())"
   ]
  },
  {
   "cell_type": "code",
   "execution_count": 58,
   "metadata": {},
   "outputs": [
    {
     "name": "stdout",
     "output_type": "stream",
     "text": [
      "<class 'float'>\n"
     ]
    }
   ],
   "source": [
    "a = 5.34356\n",
    "print(type(a))"
   ]
  },
  {
   "cell_type": "code",
   "execution_count": 61,
   "metadata": {},
   "outputs": [
    {
     "name": "stdout",
     "output_type": "stream",
     "text": [
      "5\n"
     ]
    }
   ],
   "source": [
    "print(int(a))"
   ]
  },
  {
   "cell_type": "code",
   "execution_count": 62,
   "metadata": {},
   "outputs": [
    {
     "name": "stdout",
     "output_type": "stream",
     "text": [
      "[1, 2, 3, 4]\n",
      "<class 'list'>\n"
     ]
    }
   ],
   "source": [
    "a = [1,2,3,4]\n",
    "print(a)\n",
    "print(type(a))"
   ]
  },
  {
   "cell_type": "code",
   "execution_count": 66,
   "metadata": {},
   "outputs": [
    {
     "name": "stdout",
     "output_type": "stream",
     "text": [
      "[1, 2, 3, 4, 'a', 'a', 'a', 'a']\n"
     ]
    }
   ],
   "source": [
    "a.append('a')\n",
    "a.append('a')\n",
    "a.append('a')\n",
    "print(a)"
   ]
  },
  {
   "cell_type": "code",
   "execution_count": 73,
   "metadata": {},
   "outputs": [],
   "source": [
    "a.remove('a')"
   ]
  },
  {
   "cell_type": "code",
   "execution_count": 96,
   "metadata": {},
   "outputs": [],
   "source": [
    "a = [1,2,3,4]\n",
    "a.extend([1,2,3])\n",
    "# a.append((1,2,3))"
   ]
  },
  {
   "cell_type": "code",
   "execution_count": 97,
   "metadata": {},
   "outputs": [
    {
     "name": "stdout",
     "output_type": "stream",
     "text": [
      "[1, 2, 3, 4, 1, 2, 3]\n"
     ]
    }
   ],
   "source": [
    "print(a)"
   ]
  },
  {
   "cell_type": "code",
   "execution_count": 98,
   "metadata": {},
   "outputs": [
    {
     "name": "stdout",
     "output_type": "stream",
     "text": [
      "[1, 2, 3, 4, 1, 2, 3, 1, 2, 3]\n"
     ]
    }
   ],
   "source": [
    "print(a + [1,2,3])"
   ]
  },
  {
   "cell_type": "code",
   "execution_count": 101,
   "metadata": {},
   "outputs": [
    {
     "name": "stdout",
     "output_type": "stream",
     "text": [
      "[1, 2, 3, 4, 1, 2, 3]\n",
      "2\n"
     ]
    }
   ],
   "source": [
    "print(a)\n",
    "print(a.count(1))\n"
   ]
  },
  {
   "cell_type": "code",
   "execution_count": 102,
   "metadata": {},
   "outputs": [
    {
     "name": "stdout",
     "output_type": "stream",
     "text": [
      "[1, 2, 3, 4, 1, 2, 3]\n",
      "3\n",
      "[1, 2, 3, 4, 1, 2]\n"
     ]
    }
   ],
   "source": [
    "print(a)\n",
    "print(a.pop())\n",
    "print(a)"
   ]
  },
  {
   "cell_type": "code",
   "execution_count": 103,
   "metadata": {},
   "outputs": [
    {
     "name": "stdout",
     "output_type": "stream",
     "text": [
      "2\n"
     ]
    }
   ],
   "source": [
    "print(a.pop())"
   ]
  },
  {
   "cell_type": "code",
   "execution_count": 105,
   "metadata": {},
   "outputs": [
    {
     "name": "stdout",
     "output_type": "stream",
     "text": [
      "1\n",
      "[1, 2, 3, 4]\n"
     ]
    }
   ],
   "source": [
    "print(a.pop())\n",
    "print(a)"
   ]
  },
  {
   "cell_type": "code",
   "execution_count": 107,
   "metadata": {},
   "outputs": [
    {
     "name": "stdout",
     "output_type": "stream",
     "text": [
      "3\n",
      "[2, 4]\n"
     ]
    }
   ],
   "source": [
    "print(a.pop(1))\n",
    "print(a)"
   ]
  },
  {
   "cell_type": "code",
   "execution_count": 110,
   "metadata": {},
   "outputs": [
    {
     "name": "stdout",
     "output_type": "stream",
     "text": [
      "[9, 3, 2, 4, 6, 8, 9, 1, 2]\n"
     ]
    }
   ],
   "source": [
    "a = [9,3,2,4,6,8,9,1,2]\n",
    "print(a)"
   ]
  },
  {
   "cell_type": "code",
   "execution_count": 111,
   "metadata": {
    "scrolled": true
   },
   "outputs": [
    {
     "name": "stdout",
     "output_type": "stream",
     "text": [
      "[1, 2, 2, 3, 4, 6, 8, 9, 9]\n"
     ]
    }
   ],
   "source": [
    "a.sort()\n",
    "print(a)"
   ]
  },
  {
   "cell_type": "code",
   "execution_count": 112,
   "metadata": {},
   "outputs": [
    {
     "name": "stdout",
     "output_type": "stream",
     "text": [
      "[9, 3, 2, 4, 6, 8, 9, 1, 2]\n"
     ]
    }
   ],
   "source": [
    "a = [9,3,2,4,6,8,9,1,2]\n",
    "print(a)"
   ]
  },
  {
   "cell_type": "code",
   "execution_count": 116,
   "metadata": {},
   "outputs": [
    {
     "name": "stdout",
     "output_type": "stream",
     "text": [
      "[1, 2, 2, 3, 4, 6, 8, 9, 9]\n"
     ]
    }
   ],
   "source": [
    "print(sorted(a))"
   ]
  },
  {
   "cell_type": "code",
   "execution_count": 114,
   "metadata": {},
   "outputs": [
    {
     "name": "stdout",
     "output_type": "stream",
     "text": [
      "[9, 3, 2, 4, 6, 8, 9, 1, 2]\n"
     ]
    }
   ],
   "source": [
    "print(a)"
   ]
  },
  {
   "cell_type": "code",
   "execution_count": 115,
   "metadata": {},
   "outputs": [
    {
     "name": "stdout",
     "output_type": "stream",
     "text": [
      "[1, 2, 2, 3, 4, 6, 8, 9, 9]\n"
     ]
    }
   ],
   "source": [
    "a.sort()\n",
    "print(a)"
   ]
  },
  {
   "cell_type": "code",
   "execution_count": 119,
   "metadata": {
    "scrolled": true
   },
   "outputs": [
    {
     "name": "stdout",
     "output_type": "stream",
     "text": [
      "<class 'str'>\n"
     ]
    }
   ],
   "source": [
    "#내장 함수 : 파이썬 자체에서 기본으로 제공해주는 기능 !!!\n",
    "\n",
    "#. 뒤에 오는 함수 : 해당 변수(해당 자료형)에서 사용 할 수 있는 기능!!\n",
    "\n",
    "a = 123\n",
    "a = str(a)\n",
    "print(type(a))"
   ]
  },
  {
   "cell_type": "code",
   "execution_count": 121,
   "metadata": {},
   "outputs": [
    {
     "name": "stdout",
     "output_type": "stream",
     "text": [
      "[1, 2, 2, 3, 4, 6, 8, 9, 9]\n",
      "[9, 3, 2, 4, 6, 8, 9, 1, 2]\n",
      "[1, 2, 2, 3, 4, 6, 8, 9, 9]\n"
     ]
    }
   ],
   "source": [
    "a = [9,3,2,4,6,8,9,1,2]\n",
    "print(sorted(a))\n",
    "print(a)\n",
    "\n",
    "a = sorted(a)\n",
    "print(a)"
   ]
  },
  {
   "cell_type": "code",
   "execution_count": 123,
   "metadata": {},
   "outputs": [
    {
     "name": "stdout",
     "output_type": "stream",
     "text": [
      "[9, 9, 8, 6, 4, 3, 2, 2, 1]\n"
     ]
    }
   ],
   "source": [
    "a = [9,3,2,4,6,8,9,1,2]\n",
    "a.sort(reverse=True)\n",
    "print(a)"
   ]
  },
  {
   "cell_type": "code",
   "execution_count": 124,
   "metadata": {},
   "outputs": [
    {
     "name": "stdout",
     "output_type": "stream",
     "text": [
      "[9, 9, 8, 6, 4, 3, 2, 2, 1, '1']\n"
     ]
    }
   ],
   "source": [
    "a.append('1')\n",
    "print(a)"
   ]
  },
  {
   "cell_type": "code",
   "execution_count": null,
   "metadata": {},
   "outputs": [],
   "source": []
  },
  {
   "cell_type": "code",
   "execution_count": null,
   "metadata": {},
   "outputs": [],
   "source": []
  }
 ],
 "metadata": {
  "kernelspec": {
   "display_name": "Python 3",
   "language": "python",
   "name": "python3"
  },
  "language_info": {
   "codemirror_mode": {
    "name": "ipython",
    "version": 3
   },
   "file_extension": ".py",
   "mimetype": "text/x-python",
   "name": "python",
   "nbconvert_exporter": "python",
   "pygments_lexer": "ipython3",
   "version": "3.7.4"
  }
 },
 "nbformat": 4,
 "nbformat_minor": 2
}
