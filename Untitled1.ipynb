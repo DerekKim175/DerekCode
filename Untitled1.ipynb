{
 "cells": [
  {
   "cell_type": "code",
   "execution_count": 1,
   "metadata": {},
   "outputs": [],
   "source": [
    "#문자열 \n",
    "\n",
    "letter_kim = \"\"\"\n",
    "안녕하세요. 김민우 고객님 !\n",
    "현대자동차 고객센터입니다. \n",
    "고객님이 소유한 자동차 아반떼는 현재 2020년 구입하신지 1년되었습니다. \n",
    "정기점검을 받으셔야합니다. \n",
    "빠른 시일내 가까운 서비스센터에 방문바랍니다.\n",
    "\"\"\""
   ]
  },
  {
   "cell_type": "code",
   "execution_count": 2,
   "metadata": {},
   "outputs": [
    {
     "name": "stdout",
     "output_type": "stream",
     "text": [
      "안녕하세요. 소나타 고객님. 소유하신 자동차 김민우는 현재 구입하신지 2년 되었습니다.\n",
      "안녕하세요. 2 고객님. 소유하신 자동차 김민우는 현재 구입하신지 소나타년 되었습니다.\n",
      "안녕하세요. 김민우 고객님. 소유하신 자동차 소나타는 현재 구입하신지 2년 되었습니다.\n"
     ]
    }
   ],
   "source": [
    "a = \"안녕하세요. {1} 고객님. 소유하신 자동차 {0}는 현재 구입하신지 {2}년 되었습니다.\".format('김민우','소나타',2)\n",
    "b = \"안녕하세요. {2} 고객님. 소유하신 자동차 {0}는 현재 구입하신지 {1}년 되었습니다.\".format('김민우','소나타',2)\n",
    "c = \"안녕하세요. {} 고객님. 소유하신 자동차 {}는 현재 구입하신지 {}년 되었습니다.\".format('김민우','소나타',2)\n",
    "print(a)\n",
    "print(b)\n",
    "print(c)"
   ]
  },
  {
   "cell_type": "code",
   "execution_count": 3,
   "metadata": {},
   "outputs": [
    {
     "name": "stdout",
     "output_type": "stream",
     "text": [
      "2.00 X 2.0 = 4\n"
     ]
    }
   ],
   "source": [
    "a = \"{:0.2f} X {} = {}\".format(2,2.0,4)\n",
    "print(a)"
   ]
  },
  {
   "cell_type": "code",
   "execution_count": 1,
   "metadata": {},
   "outputs": [
    {
     "name": "stdout",
     "output_type": "stream",
     "text": [
      "[1, 3, 4, 7, 9]\n"
     ]
    }
   ],
   "source": [
    "#함수\n",
    "\n",
    "a = [3,4,1,9,7]\n",
    "\n",
    "print(sorted(a))"
   ]
  },
  {
   "cell_type": "code",
   "execution_count": 6,
   "metadata": {},
   "outputs": [
    {
     "name": "stdout",
     "output_type": "stream",
     "text": [
      "DEREKKIM\n",
      "dEREKkIM\n",
      "Hello, This Is My Website!\n"
     ]
    }
   ],
   "source": [
    "a = \"derekkim\"\n",
    "print(a.upper())\n",
    "\n",
    "b= \"DerekKim\"\n",
    "print(b.swapcase())\n",
    "\n",
    "c = \"hello, this is my website!\"\n",
    "print(c.title())"
   ]
  },
  {
   "cell_type": "code",
   "execution_count": 15,
   "metadata": {},
   "outputs": [
    {
     "name": "stdout",
     "output_type": "stream",
     "text": [
      "1\n",
      "18\n",
      "22\n",
      "Derek\n",
      "my name is Dere\n"
     ]
    }
   ],
   "source": [
    "d = 'qwertyuiop'\n",
    "print(d.find('w'))\n",
    "\n",
    "e = 'Hello, my name is Derek'\n",
    "print(e.find('D'))\n",
    "print(e.find('k'))\n",
    "print(e[18:23])\n",
    "print(e[e.find('m'):e.find('23')])\n",
    "\n",
    "#단 ,find function을 쓸때 중복불가능"
   ]
  },
  {
   "cell_type": "code",
   "execution_count": 17,
   "metadata": {},
   "outputs": [
    {
     "name": "stdout",
     "output_type": "stream",
     "text": [
      "True\n"
     ]
    }
   ],
   "source": [
    "a = '1234678'\n",
    "print(a.isdigit())"
   ]
  },
  {
   "cell_type": "code",
   "execution_count": 19,
   "metadata": {},
   "outputs": [
    {
     "name": "stdout",
     "output_type": "stream",
     "text": [
      "True\n",
      "True\n"
     ]
    }
   ],
   "source": [
    "a = 'Derek'\n",
    "print(a.isprintable())\n",
    "print(a.istitle())"
   ]
  },
  {
   "cell_type": "code",
   "execution_count": 22,
   "metadata": {},
   "outputs": [
    {
     "name": "stdout",
     "output_type": "stream",
     "text": [
      "1.0\n"
     ]
    }
   ],
   "source": [
    "a = '1'\n",
    "a = float(a)\n",
    "print(a)"
   ]
  },
  {
   "cell_type": "code",
   "execution_count": 24,
   "metadata": {},
   "outputs": [
    {
     "name": "stdout",
     "output_type": "stream",
     "text": [
      "<class 'float'>\n",
      "1\n"
     ]
    }
   ],
   "source": [
    "a = 1.2345\n",
    "print(type(a))\n",
    "print(int(a))"
   ]
  },
  {
   "cell_type": "code",
   "execution_count": 26,
   "metadata": {},
   "outputs": [
    {
     "name": "stdout",
     "output_type": "stream",
     "text": [
      "<class 'list'>\n"
     ]
    }
   ],
   "source": [
    "a = [1,2,3,4]\n",
    "print(type(a))"
   ]
  },
  {
   "cell_type": "code",
   "execution_count": 29,
   "metadata": {},
   "outputs": [
    {
     "name": "stdout",
     "output_type": "stream",
     "text": [
      "[1, 2, 3, 4, 'a', 'a', 'a', 'a']\n"
     ]
    }
   ],
   "source": [
    "a.append('a')\n",
    "a.append('a')\n",
    "print(a)\n",
    "#append function adds to the list"
   ]
  },
  {
   "cell_type": "code",
   "execution_count": 40,
   "metadata": {},
   "outputs": [
    {
     "name": "stdout",
     "output_type": "stream",
     "text": [
      "[1, 2, 3, 4, '1', '2', '3', '1', '2', '3', '1', '2', '3', '1', '2', '3']\n",
      "[1, 2, 3, 4, '1', '2', '3', '1', '2', '3', '1', '2', '3', '1', '2', '3', 1, 2, 3]\n"
     ]
    }
   ],
   "source": [
    "a.extend('123')\n",
    "print(a)\n",
    "print(a+[1,2,3])"
   ]
  },
  {
   "cell_type": "code",
   "execution_count": null,
   "metadata": {},
   "outputs": [],
   "source": []
  }
 ],
 "metadata": {
  "kernelspec": {
   "display_name": "Python 3",
   "language": "python",
   "name": "python3"
  },
  "language_info": {
   "codemirror_mode": {
    "name": "ipython",
    "version": 3
   },
   "file_extension": ".py",
   "mimetype": "text/x-python",
   "name": "python",
   "nbconvert_exporter": "python",
   "pygments_lexer": "ipython3",
   "version": "3.7.4"
  }
 },
 "nbformat": 4,
 "nbformat_minor": 2
}
