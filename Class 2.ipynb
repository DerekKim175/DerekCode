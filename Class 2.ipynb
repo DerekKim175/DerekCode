{
 "cells": [
  {
   "cell_type": "markdown",
   "metadata": {},
   "source": [
    "1. Github Introduction\n",
    "   - Branch\n",
    "2. "
   ]
  },
  {
   "cell_type": "code",
   "execution_count": 3,
   "metadata": {},
   "outputs": [
    {
     "name": "stdout",
     "output_type": "stream",
     "text": [
      "abc\n"
     ]
    }
   ],
   "source": [
    "a='abc'\n",
    "print(a)"
   ]
  },
  {
   "cell_type": "code",
   "execution_count": 4,
   "metadata": {},
   "outputs": [
    {
     "name": "stdout",
     "output_type": "stream",
     "text": [
      "김\n"
     ]
    }
   ],
   "source": [
    "#인덱싱\n",
    "a='안녕하세요. 제 이름은 김민우입니다.'\n",
    "print(a[13])"
   ]
  },
  {
   "cell_type": "code",
   "execution_count": 7,
   "metadata": {},
   "outputs": [
    {
     "name": "stdout",
     "output_type": "stream",
     "text": [
      "안녕하세요. 제 이름은 김민우입니다\n",
      "안녕하세요.안녕하세요.안녕하세요.\n"
     ]
    }
   ],
   "source": [
    "a='안녕하세요.'\n",
    "b=' 제 이름은 김민우입니다'\n",
    "\n",
    "print(a+b)\n",
    "print(a*3)"
   ]
  },
  {
   "cell_type": "code",
   "execution_count": 25,
   "metadata": {},
   "outputs": [],
   "source": [
    "#문자 하나하나는 값이 변경불가능"
   ]
  },
  {
   "cell_type": "code",
   "execution_count": 24,
   "metadata": {},
   "outputs": [
    {
     "name": "stdout",
     "output_type": "stream",
     "text": [
      "안하요  름\n",
      "abcdefghijklmnopqrstuvwxyz\n",
      "ABCDEFGHIJKLMNOPQRSTUVWXYZ\n",
      "abcdefghijklmnopqrstuvwxyz\n"
     ]
    }
   ],
   "source": [
    "#슬라이싱 (범위선택, 이상 : 미만 : 스탭)\n",
    "\n",
    "a='안녕하세요. 제 이름은 김민우입니다.'\n",
    "print(a[0:11:2])\n",
    "\n",
    "a='abcdefghijklmnopqrstuvwxyz'\n",
    "print(a)\n",
    "\n",
    "print(a.upper())\n",
    "\n",
    "print(a)"
   ]
  },
  {
   "cell_type": "code",
   "execution_count": 26,
   "metadata": {},
   "outputs": [
    {
     "name": "stdout",
     "output_type": "stream",
     "text": [
      "123456\n"
     ]
    }
   ],
   "source": [
    "a='123'\n",
    "b='456'\n",
    "print(a+b)"
   ]
  },
  {
   "cell_type": "code",
   "execution_count": 30,
   "metadata": {},
   "outputs": [
    {
     "name": "stdout",
     "output_type": "stream",
     "text": [
      "안녕하세요\n",
      "저는\n",
      "김민우입니다\n"
     ]
    }
   ],
   "source": [
    "a = '''안녕하세요\n",
    "저는\n",
    "김민우입니다'''\n",
    "print(a)"
   ]
  },
  {
   "cell_type": "code",
   "execution_count": 31,
   "metadata": {},
   "outputs": [
    {
     "name": "stdout",
     "output_type": "stream",
     "text": [
      "안녕하세요 \n",
      "저는 \n",
      "김민우입니다\n"
     ]
    }
   ],
   "source": [
    "a= '안녕하세요 \\n저는 \\n김민우입니다'\n",
    "print(a)"
   ]
  },
  {
   "cell_type": "code",
   "execution_count": 40,
   "metadata": {},
   "outputs": [
    {
     "name": "stdout",
     "output_type": "stream",
     "text": [
      "'안녕하세요'\n",
      "'안녕하세요'\n"
     ]
    }
   ],
   "source": [
    "#'안녕하세요'\n",
    "\n",
    "a = \"'안녕하세요'\"\n",
    "print(a)\n",
    "\n",
    "\n",
    "#이스케이프 문자 (*검색)\n",
    "\n",
    "a = '\\'안녕하세요\\''\n",
    "print(a)"
   ]
  },
  {
   "cell_type": "code",
   "execution_count": 42,
   "metadata": {},
   "outputs": [
    {
     "name": "stdout",
     "output_type": "stream",
     "text": [
      "[1, 2, 3, 4]\n",
      "2\n"
     ]
    }
   ],
   "source": [
    "#리스트 (목록, 배열)\n",
    "#순서가 있는 집합(배열) 자료형\n",
    "#대괄호로 정의\n",
    "\n",
    "a = [1,2,3,4]\n",
    "\n",
    "print(a)\n",
    "\n",
    "print(a[1])"
   ]
  },
  {
   "cell_type": "code",
   "execution_count": 98,
   "metadata": {},
   "outputs": [
    {
     "name": "stdout",
     "output_type": "stream",
     "text": [
      "[4, 5, 6]\n",
      "[1, 2, 3]\n",
      "9\n"
     ]
    }
   ],
   "source": [
    "a = [[1,2,3],[4,5,6],[7,8,9]]\n",
    "b = a[2]\n",
    "print(a[1])\n",
    "print(a[0])\n",
    "print(a[2][2])"
   ]
  },
  {
   "cell_type": "code",
   "execution_count": 105,
   "metadata": {},
   "outputs": [
    {
     "name": "stdout",
     "output_type": "stream",
     "text": [
      "11\n"
     ]
    }
   ],
   "source": [
    "a = [[[1,2,3],[4,5,6],[7,8,9]],[[10,11,12],[13,14,15],[16,17,18]]]\n",
    "print(a[1][0][1])"
   ]
  },
  {
   "cell_type": "code",
   "execution_count": 107,
   "metadata": {},
   "outputs": [
    {
     "name": "stdout",
     "output_type": "stream",
     "text": [
      "(1, 2, 3, 4)\n"
     ]
    }
   ],
   "source": [
    "#튜플 자료형 (배열, 목록)\n",
    "#리스트와 거의 비슷\n",
    "#소괄호로 정의\n",
    "#바꿀생각이 없으면 튜플이 훨씬 빠르다\n",
    "\n",
    "\n",
    "a = (1,2,3,4)\n",
    "print(a)"
   ]
  },
  {
   "cell_type": "code",
   "execution_count": 110,
   "metadata": {},
   "outputs": [
    {
     "name": "stdout",
     "output_type": "stream",
     "text": [
      "{'key': 'value', 1: 2, 'a': 23}\n"
     ]
    }
   ],
   "source": [
    "#사전 (dict) 자료형\n",
    "#순서가 없다\n",
    "#키와 값으로 이루어져있다\n",
    "#중괄호로 정의\n",
    "#\n",
    "\n",
    "d = {'key':'value',1:2,\"a\":23}\n",
    "\n",
    "print(d)\n"
   ]
  },
  {
   "cell_type": "code",
   "execution_count": 112,
   "metadata": {},
   "outputs": [
    {
     "name": "stdout",
     "output_type": "stream",
     "text": [
      "2\n",
      "value\n"
     ]
    }
   ],
   "source": [
    "print(d[1])\n",
    "print(d['key'])"
   ]
  },
  {
   "cell_type": "code",
   "execution_count": 114,
   "metadata": {},
   "outputs": [
    {
     "name": "stdout",
     "output_type": "stream",
     "text": [
      "{'a': ['apple', 'april', 'ace'], 'b': 1231434}\n"
     ]
    }
   ],
   "source": [
    "d = {'a' : ['apple','april','ace'],'b':1231434}\n",
    "print(d)"
   ]
  },
  {
   "cell_type": "code",
   "execution_count": 116,
   "metadata": {},
   "outputs": [
    {
     "name": "stdout",
     "output_type": "stream",
     "text": [
      "{1, 6}\n"
     ]
    }
   ],
   "source": [
    "#집합 자료형 (set)\n",
    "#순서가 없고 중복이 없다\n",
    "#사전과 비슷하게 중괄호로 정의하지만, 키, 값이 없다\n",
    "\n",
    "a = {1,1,1,1,1,1,1,6}\n",
    "print(a)\n"
   ]
  },
  {
   "cell_type": "code",
   "execution_count": null,
   "metadata": {},
   "outputs": [],
   "source": [
    "a = True\n",
    "a = False"
   ]
  },
  {
   "cell_type": "code",
   "execution_count": 117,
   "metadata": {},
   "outputs": [],
   "source": [
    "#자료형의 종류\n",
    "#첫번째 기준\n",
    "#값이 하나인것, 값이 여러개인것\n",
    "\n",
    "#변경 가능, 불가능\n",
    "#리스트, 튜플"
   ]
  }
 ],
 "metadata": {
  "kernelspec": {
   "display_name": "Python 3",
   "language": "python",
   "name": "python3"
  },
  "language_info": {
   "codemirror_mode": {
    "name": "ipython",
    "version": 3
   },
   "file_extension": ".py",
   "mimetype": "text/x-python",
   "name": "python",
   "nbconvert_exporter": "python",
   "pygments_lexer": "ipython3",
   "version": "3.7.4"
  }
 },
 "nbformat": 4,
 "nbformat_minor": 2
}
